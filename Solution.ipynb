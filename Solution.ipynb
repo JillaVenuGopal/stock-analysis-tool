{
 "metadata": {
  "language_info": {
   "codemirror_mode": {
    "name": "ipython",
    "version": 3
   },
   "file_extension": ".py",
   "mimetype": "text/x-python",
   "name": "python",
   "nbconvert_exporter": "python",
   "pygments_lexer": "ipython3",
   "version": "3.8.3-final"
  },
  "orig_nbformat": 2,
  "kernelspec": {
   "name": "python3",
   "display_name": "Python 3",
   "language": "python"
  }
 },
 "nbformat": 4,
 "nbformat_minor": 2,
 "cells": [
  {
   "cell_type": "code",
   "execution_count": 1,
   "metadata": {},
   "outputs": [],
   "source": [
    "import os\n",
    "from selenium import webdriver\n",
    "from selenium.webdriver.common.keys import Keys\n",
    "from selenium.webdriver.support.ui import Select\n",
    "from webdriver_manager.chrome import ChromeDriverManager\n",
    "import pandas as pd\n",
    "import time\n",
    "from multiprocessing.pool import ThreadPool"
   ]
  },
  {
   "cell_type": "code",
   "execution_count": 2,
   "metadata": {},
   "outputs": [],
   "source": [
    "security_url = \"https://www.bseindia.com/corporates/List_Scrips.aspx\"\n",
    "stock_url = \"https://www.bseindia.com/markets/equity/EQReports/StockPrcHistori.aspx?flag=0\"\n",
    "corporate_url = \"https://www.bseindia.com/corporates/corporate_act.aspx\"\n",
    "index_url = \"https://www.bseindia.com/indices/IndexArchiveData.html\"\n",
    "bhav_copy_url = \"https://www.bseindia.com/markets/MarketInfo/BhavCopy.aspx\"\n",
    "deliverables_url = \"https://www.bseindia.com/markets/equity/EQReports/GrossShortPos.aspx?flag=0\""
   ]
  },
  {
   "cell_type": "code",
   "execution_count": null,
   "metadata": {},
   "outputs": [],
   "source": [
    "def get_driver()"
   ]
  }
 ]
}