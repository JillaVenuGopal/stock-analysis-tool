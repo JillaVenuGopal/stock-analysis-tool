{
 "metadata": {
  "language_info": {
   "codemirror_mode": {
    "name": "ipython",
    "version": 3
   },
   "file_extension": ".py",
   "mimetype": "text/x-python",
   "name": "python",
   "nbconvert_exporter": "python",
   "pygments_lexer": "ipython3",
   "version": "3.8.3-final"
  },
  "orig_nbformat": 2,
  "kernelspec": {
   "name": "python3",
   "display_name": "Python 3",
   "language": "python"
  }
 },
 "nbformat": 4,
 "nbformat_minor": 2,
 "cells": [
  {
   "cell_type": "code",
   "execution_count": 1,
   "metadata": {},
   "outputs": [],
   "source": [
    "from ipynb.fs.full.Equity_Scrape import download_equity\n",
    "from ipynb.fs.full.Stock_Scrape import download_stocks\n",
    "from ipynb.fs.full.CorporateActions_Scrape import download_corporate_actions\n",
    "from ipynb.fs.full.BhavCopy_Scrape import download_bhavcopy\n",
    "from ipynb.fs.full.Delivarable_Scrape import download_deliverables\n",
    "from ipynb.fs.full.Index_Scrape import download_index\n",
    "from ipynb.fs.full.RiskFreeRate_Scrape import download_risk_free_rate\n",
    "from ipynb.fs.full.Revenue_Profit_Scrape import download_revenue_profit\n",
    "\n",
    "from ipynb.fs.full.ConvertBhavToStock import convertBhavCopyToStock\n",
    "from ipynb.fs.full.DataCleaning import data_cleaning\n",
    "from ipynb.fs.full.CorporateActions import apply_corporate_actions\n",
    "from ipynb.fs.full.FeatureCreation import calculate_beta, calculate_alpha, add_risk_free_column,create_lower_upper_bands, calculate_band_area, create_dividend,create_index,add_next_day_columns\n",
    "from ipynb.fs.full.Revenue import create_eps_pe_ratio_revenue_income_expenditure_net_profit\n",
    "\n",
    "\n",
    "import pandas as pd \n",
    "import numpy as np "
   ]
  },
  {
   "source": [
    "### Scraping Functions\n",
    "* download_equity()\n",
    "* download_stocks(security_id)\n",
    "* download_corporate_actions(security_id)\n",
    "* download_bhavcopy()\n",
    "* download_deliverables()\n",
    "* download_index()\n",
    "* download_risk_free_rate()\n",
    "* download_revenue_profit(security_id,company_name)\n",
    "\n",
    "### Functions\n",
    "* convertBhavCopyToStock(bhav_df_today,deliverables_df_today) : df_stocks_today\n",
    "* data_cleaning(stock_df,index_df) : stock_df\n",
    "* apply_corporate_actions(stock_df,corporate_df) : stock_df\n",
    "    * bonus_issue\n",
    "    * stock_split\n",
    "* add_risk_free_column(stock_df) : stock_df\n",
    "* calculate_beta(stock_df) : stock_df\n",
    "* calculate_alpha(stock_df) : stock_df\n",
    "* create_lower_upper_bands(stock_df) : stock_df\n",
    "* calculate_band_area(stock_df) : stock_df\n",
    "* create_dividend(corporate_df,stock_df) : stock_df\n",
    "* add_next_day_columns(stock_df) : stock_df\n",
    "* create_eps_pe_ratio_revenue_income_expenditure_net_profit(revenue_df,stock_df) : stock_df"
   ],
   "cell_type": "markdown",
   "metadata": {}
  },
  {
   "cell_type": "code",
   "execution_count": 2,
   "metadata": {},
   "outputs": [
    {
     "output_type": "execute_result",
     "data": {
      "text/plain": [
       "'f:\\\\PracticumProject\\\\StockAnalysisTool\\\\Data'"
      ]
     },
     "metadata": {},
     "execution_count": 2
    }
   ],
   "source": [
    "path = os.getcwd()\n",
    "datapath = os.path.join(path,\"Data\")\n",
    "datapath"
   ]
  },
  {
   "cell_type": "code",
   "execution_count": null,
   "metadata": {},
   "outputs": [],
   "source": [
    "download_equity()"
   ]
  },
  {
   "cell_type": "code",
   "execution_count": 3,
   "metadata": {},
   "outputs": [],
   "source": [
    "security_id = \"500002\"\n",
    "company_name = \"ABB India Limited,Active\""
   ]
  },
  {
   "cell_type": "code",
   "execution_count": null,
   "metadata": {},
   "outputs": [],
   "source": [
    "# new_df = download_stocks(security_id)"
   ]
  },
  {
   "cell_type": "code",
   "execution_count": null,
   "metadata": {},
   "outputs": [],
   "source": [
    "download_corporate_actions(security_id)"
   ]
  },
  {
   "cell_type": "code",
   "execution_count": null,
   "metadata": {},
   "outputs": [],
   "source": [
    "download_bhavcopy()"
   ]
  },
  {
   "cell_type": "code",
   "execution_count": null,
   "metadata": {},
   "outputs": [],
   "source": [
    "download_deliverables()"
   ]
  },
  {
   "cell_type": "code",
   "execution_count": null,
   "metadata": {},
   "outputs": [],
   "source": [
    "download_index()"
   ]
  },
  {
   "cell_type": "code",
   "execution_count": null,
   "metadata": {},
   "outputs": [],
   "source": [
    "download_risk_free_rate()"
   ]
  },
  {
   "cell_type": "code",
   "execution_count": null,
   "metadata": {},
   "outputs": [],
   "source": [
    "download_revenue_profit(security_id,company_name)"
   ]
  },
  {
   "cell_type": "code",
   "execution_count": null,
   "metadata": {},
   "outputs": [],
   "source": [
    "bhav_df_today = pd.read_csv(os.path.join(datapath,\"BhavCopy/11022021.csv\"))\n",
    "deliverables_df_today = pd.read_csv(os.path.join(datapath,\"Deliverables/11022021.csv\"))\n",
    "df_stocks_today = convertBhavCopyToStock(bhav_df_today,deliverables_df_today)\n",
    "df_stocks_today.to_csv(os.path.join(datapath,\"BhavConvertedToStock/11022021.csv\"),index=None)"
   ]
  },
  {
   "cell_type": "code",
   "execution_count": 4,
   "metadata": {},
   "outputs": [
    {
     "output_type": "stream",
     "name": "stdout",
     "text": [
      "f:\\PracticumProject\\StockAnalysisTool\\Data/Stock/mod500002.csv\n"
     ]
    }
   ],
   "source": [
    "modified_stock_path = os.path.join(os.getcwd(),\"Data/Stock/mod\"+security_id+\".csv\")\n",
    "print(modified_stock_path)"
   ]
  },
  {
   "cell_type": "code",
   "execution_count": 5,
   "metadata": {},
   "outputs": [],
   "source": [
    "modified_stock = pd.read_csv(modified_stock_path) if os.path.exists(modified_stock_path) else pd.DataFrame()"
   ]
  },
  {
   "cell_type": "code",
   "execution_count": 6,
   "metadata": {},
   "outputs": [
    {
     "output_type": "stream",
     "name": "stderr",
     "text": [
      "[WDM] - Current google-chrome version is 88.0.4324\n",
      "[WDM] - Get LATEST driver version for 88.0.4324\n",
      " \n",
      "[WDM] - Driver [C:\\Users\\VenkataSaiKrishna\\.wdm\\drivers\\chromedriver\\win32\\88.0.4324.96\\chromedriver.exe] found in cache\n"
     ]
    }
   ],
   "source": [
    "stock_df = download_stocks(security_id)"
   ]
  },
  {
   "cell_type": "code",
   "execution_count": 21,
   "metadata": {},
   "outputs": [],
   "source": [
    "index_df = pd.read_csv(os.path.join(datapath,\"Index.csv\"))\n",
    "corporate_df = pd.read_csv(os.path.join(datapath,\"CorporateActions/\"+security_id+\".csv\"))\n",
    "revenue_df = pd.read_csv(os.path.join(datapath,\"Revenue/\"+security_id+\".csv\"))"
   ]
  },
  {
   "cell_type": "code",
   "execution_count": 8,
   "metadata": {},
   "outputs": [],
   "source": [
    "new_columns = [\"Next Day Open Price\",\"Next Day High Price\",\"Next Day Low Price\",\"Next Day Close Price\"]\n",
    "stock_df = data_cleaning(stock_df,index_df)\n",
    "stock_df = apply_corporate_actions(stock_df,corporate_df)\n",
    "stock_df = add_risk_free_column(stock_df)\n",
    "create_index()\n",
    "stock_df = calculate_beta(stock_df)\n",
    "stock_df = calculate_alpha(stock_df)\n",
    "stock_df = create_dividend(corporate_df,stock_df)\n",
    "stock_df = create_eps_pe_ratio_revenue_income_expenditure_net_profit(revenue_df,stock_df)\n",
    "stock_df = create_lower_upper_bands(stock_df)\n",
    "stock_df = stock_df.sort_values(by=[\"Date\"],ascending=[True])\n",
    "stock_df = add_next_day_columns(stock_df)\n",
    "modified_stock.tail(1)[new_columns] = stock_df.head(1)[new_columns].values"
   ]
  },
  {
   "cell_type": "code",
   "execution_count": 9,
   "metadata": {},
   "outputs": [],
   "source": [
    "modified_stock = modified_stock.append(stock_df,ignore_index=True)"
   ]
  },
  {
   "cell_type": "code",
   "execution_count": 15,
   "metadata": {},
   "outputs": [],
   "source": [
    "modified_stock.to_csv(modified_stock_path,index=None)"
   ]
  }
 ]
}