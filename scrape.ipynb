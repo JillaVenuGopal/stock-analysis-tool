{
 "metadata": {
  "language_info": {
   "codemirror_mode": {
    "name": "ipython",
    "version": 3
   },
   "file_extension": ".py",
   "mimetype": "text/x-python",
   "name": "python",
   "nbconvert_exporter": "python",
   "pygments_lexer": "ipython3",
   "version": "3.8.3-final"
  },
  "orig_nbformat": 2,
  "kernelspec": {
   "name": "python3",
   "display_name": "Python 3",
   "language": "python"
  }
 },
 "nbformat": 4,
 "nbformat_minor": 2,
 "cells": [
  {
   "cell_type": "code",
   "execution_count": 7,
   "metadata": {},
   "outputs": [],
   "source": [
    "import os\n",
    "from selenium import webdriver\n",
    "from selenium.webdriver.common.keys import Keys\n",
    "from selenium.webdriver.support.ui import Select\n",
    "from webdriver_manager.chrome import ChromeDriverManager\n",
    "import pandas as pd\n",
    "import time\n",
    "from multiprocessing.pool import ThreadPool"
   ]
  },
  {
   "cell_type": "code",
   "execution_count": 8,
   "metadata": {},
   "outputs": [],
   "source": [
    "security_url = \"https://www.bseindia.com/corporates/List_Scrips.aspx\"\n",
    "stock_url = \"https://www.bseindia.com/markets/equity/EQReports/StockPrcHistori.aspx?flag=0\"\n",
    "corporate_url = \"https://www.bseindia.com/corporates/corporate_act.aspx\"\n",
    "index_url = \"https://www.bseindia.com/indices/IndexArchiveData.html\"\n",
    "bhav_copy_url = \"https://www.bseindia.com/markets/MarketInfo/BhavCopy.aspx\"\n",
    "deliverables_url = \"https://www.bseindia.com/markets/equity/EQReports/GrossShortPos.aspx?flag=0\""
   ]
  },
  {
   "cell_type": "code",
   "execution_count": 18,
   "metadata": {},
   "outputs": [],
   "source": [
    "\n",
    "def download_equity():\n",
    "\n",
    "    if os.path.exists(os.path.join(os.getcwd(),\"Data\\Equity.csv\")):\n",
    "        print(\"Equity.csv exists\")\n",
    "        return\n",
    "\n",
    "    path = os.path.join(os.getcwd(),\"Data\")\n",
    "    print(path)\n",
    "\n",
    "    chromeOptions = webdriver.ChromeOptions()\n",
    "    # chromeOptions.add_argument(\"--headless\")\n",
    "    chromeOptions.add_experimental_option(\"prefs\",{\"download.default_directory\":path})\n",
    "    driver = webdriver.Chrome(ChromeDriverManager().install(),options = chromeOptions)\n",
    "    driver.get(security_url)\n",
    "    \n",
    "    # to select Equity\n",
    "    equity = driver.find_element_by_xpath('//*[@id=\"ContentPlaceHolder1_ddSegment\"]')\n",
    "    equity = Select(equity)\n",
    "    equity.select_by_visible_text(\"Equity\")  \n",
    "\n",
    "    # to select Active\n",
    "    active = driver.find_element_by_xpath('//*[@id=\"ContentPlaceHolder1_ddlStatus\"]')\n",
    "    active = Select(active)\n",
    "    active.select_by_visible_text(\"Active\") \n",
    "\n",
    "    # to click submit \n",
    "    submit = driver.find_element_by_xpath('//*[@id=\"ContentPlaceHolder1_btnSubmit\"]')\n",
    "    submit.send_keys(Keys.RETURN)\n",
    "\n",
    "    # to download csv file\n",
    "    driver.find_element_by_xpath(\"/html/body/div[1]/form/div[4]/div/div/div[2]/div/div/div[2]/a/i\").click()\n",
    "    time.sleep(3)\n",
    "    driver.quit()"
   ]
  },
  {
   "cell_type": "code",
   "execution_count": 19,
   "metadata": {},
   "outputs": [
    {
     "output_type": "stream",
     "name": "stderr",
     "text": [
      "[WDM] - Current google-chrome version is 87.0.4280\n",
      "[WDM] - Get LATEST driver version for 87.0.4280\n",
      "[WDM] - Driver [C:\\Users\\VenkataSaiKrishna\\.wdm\\drivers\\chromedriver\\win32\\87.0.4280.88\\chromedriver.exe] found in cache\n",
      "e:\\IIITH\\DataScience_2019501010\\StockAnalysisTool\\Data\n",
      " \n"
     ]
    }
   ],
   "source": [
    "download_equity()"
   ]
  },
  {
   "cell_type": "code",
   "execution_count": 1,
   "metadata": {},
   "outputs": [
    {
     "output_type": "stream",
     "name": "stdout",
     "text": [
      "e:\\IIITH\\DataScience_2019501010\\StockAnalysisTool\\Data\\Stock\n"
     ]
    }
   ],
   "source": [
    "path = os.path.join(os.getcwd(),\"Data\\Stock\")\n",
    "print(path)\n",
    "\n",
    "def get_stocks(nums):\n",
    "\n",
    "    # to set date\n",
    "    def set_date(d,m,y):\n",
    "        year = driver.find_element_by_xpath('/html/body/div[1]/div/div/select[2]') \n",
    "        year = Select(year)\n",
    "        while year.options[0].text > y:\n",
    "            year.select_by_visible_text(year.options[0].text) \n",
    "            year = driver.find_element_by_xpath('/html/body/div[4]/div/div/select[2]') \n",
    "            year = Select(year)\n",
    "        year.select_by_visible_text(y) \n",
    "\n",
    "        month = driver.find_element_by_xpath('/html/body/div[1]/div/div/select[1]') \n",
    "        month = Select(month)\n",
    "        month.select_by_visible_text(m)  \n",
    "\n",
    "        days=driver.find_element_by_xpath(\"//table/tbody/tr/td/a[text()=\"+str(d)+\"]\")\n",
    "        days.click()\n",
    "    \n",
    "    def traverse_stock(security):\n",
    "        \n",
    "        element = driver.find_element_by_xpath('//*[@id=\"ContentPlaceHolder1_smartSearch\"]')\n",
    "        element.clear()\n",
    "        element.send_keys(security)\n",
    "        element.send_keys(Keys.ENTER)\n",
    "        response = driver.find_element_by_xpath(\"/html/body/form/div[4]/div/div/div[1]/div/div[3]/div/div/table/tbody/tr[2]/td/div/div[2]/div/div/div[2]/div[1]/table/tbody/tr/td/div/div/div/ul/li\")\n",
    "\n",
    "        if response.text == \"No Match Found\":\n",
    "            return None\n",
    "        else:\n",
    "            from_date = driver.find_element_by_xpath('//*[@id=\"ContentPlaceHolder1_txtFromDate\"]')\n",
    "            from_date.clear()\n",
    "            from_date.click()\n",
    "            set_date(\"15\",\"Aug\",\"2011\")\n",
    "            to_date = driver.find_element_by_xpath('//*[@id=\"ContentPlaceHolder1_txtToDate\"]')\n",
    "            to_date.clear()\n",
    "            to_date.click()\n",
    "            set_date(\"21\",\"Dec\",\"2020\")\n",
    "            submit = driver.find_element_by_xpath('//*[@id=\"ContentPlaceHolder1_btnSubmit\"]')\n",
    "            submit.click()\n",
    "            time.sleep(1)\n",
    "            driver.find_element_by_xpath(\"/html/body/form/div[4]/div/div/div[1]/div/div[2]/div/div[1]/div[2]/span/a/i\").click()\n",
    "            time.sleep(3)\n",
    "\n",
    "    if os.path.exists(os.path.join(os.getcwd(),\"Data\\Stock\\\\\"+str(nums)+\".csv\")):\n",
    "        return\n",
    "    else:\n",
    "        chromeOptions = webdriver.ChromeOptions()\n",
    "        # chromeOptions.add_argument(\"--headless\")\n",
    "        chromeOptions.add_experimental_option(\"prefs\",{\"download.default_directory\":path})\n",
    "        driver = webdriver.Chrome(ChromeDriverManager().install(), options = chromeOptions)\n",
    "        # url = \"https://www.bseindia.com/markets/equity/EQReports/StockPrcHistori.aspx?flag=0\"\n",
    "        driver.get(stock_url)\n",
    "        traverse_stock(str(nums))\n",
    "        driver.quit()"
   ]
  },
  {
   "cell_type": "code",
   "execution_count": 38,
   "metadata": {},
   "outputs": [],
   "source": [
    "equity = pd.read_csv(os.path.join(os.getcwd(),\"Data\\Equity.csv\"))"
   ]
  },
  {
   "cell_type": "code",
   "execution_count": 39,
   "metadata": {},
   "outputs": [
    {
     "output_type": "execute_result",
     "data": {
      "text/plain": [
       "array([500002, 500003, 500008, 500009, 500010, 500012, 500013, 500014,\n",
       "       500016, 500020], dtype=int64)"
      ]
     },
     "metadata": {},
     "execution_count": 39
    }
   ],
   "source": [
    "values = equity[\"Security Code\"].values\n",
    "values[:10]"
   ]
  },
  {
   "cell_type": "code",
   "execution_count": 40,
   "metadata": {},
   "outputs": [
    {
     "output_type": "stream",
     "name": "stderr",
     "text": [
      "[WDM] - Current google-chrome version is 87.0.4280\n",
      "[WDM] - Get LATEST driver version for 87.0.4280\n",
      "[WDM] - Driver [C:\\Users\\VenkataSaiKrishna\\.wdm\\drivers\\chromedriver\\win32\\87.0.4280.88\\chromedriver.exe] found in cache\n",
      " \n"
     ]
    }
   ],
   "source": [
    "get_stocks(500020)"
   ]
  },
  {
   "cell_type": "code",
   "execution_count": null,
   "metadata": {},
   "outputs": [],
   "source": [
    "# ThreadPool(4).map(get_stocks,values[:8])\n",
    "for i in values[:8]:\n",
    "    try: \n",
    "        get_stocks(i)\n",
    "    except Exception as e:\n",
    "        print(e)"
   ]
  },
  {
   "cell_type": "code",
   "execution_count": null,
   "metadata": {},
   "outputs": [],
   "source": [
    "path = os.path.join(os.getcwd(),\"Data\\CorporateActions\")\n",
    "print(path)\n",
    "\n",
    "def corporate_actions(nums):\n",
    "\n",
    "    # to set date\n",
    "    def get_date(d,m,y):\n",
    "        month = driver.find_element_by_xpath('/html/body/div[2]/div/div/select[1]')   \n",
    "        for opt in month.find_elements_by_tag_name(\"option\"):\n",
    "            if opt.text == m:\n",
    "                opt.click()\n",
    "                break\n",
    "        year = driver.find_element_by_xpath('/html/body/div[2]/div/div/select[2]')   \n",
    "        for opt in year.find_elements_by_tag_name(\"option\"):\n",
    "            if opt.text == y:\n",
    "                opt.click()\n",
    "                break\n",
    "        days = driver.find_element_by_xpath('/html/body/div[2]/table')\n",
    "        for row in days.find_elements_by_tag_name('tr'):\n",
    "            for col in row.find_elements_by_tag_name('td'):\n",
    "                if col.text == d:\n",
    "                    row.click()\n",
    "                    return\n",
    "    \n",
    "    def traverse_actions(security):\n",
    "        \n",
    "        element = driver.find_element_by_xpath('')\n",
    "        element.clear()\n",
    "        element.send_keys(security)\n",
    "        element.send_keys(Keys.ENTER)\n",
    "        # response = driver.find_element_by_xpath(\"/html/body/div[1]/form/div[4]/div/div/div[3]/div[3]/div[2]/div/table/tbody/tr/td/div/div/div/ul/li\")\n",
    "\n",
    "        # if response.text == \"No Match Found\":\n",
    "        #     return None\n",
    "        # else:\n",
    "        from_date = driver.find_element_by_xpath('//*[@id=\"ContentPlaceHolder1_txtDate\"]')\n",
    "        from_date.clear()\n",
    "        from_date.click()\n",
    "        get_date(\"15\",\"Aug\",\"2015\")\n",
    "        to_date = driver.find_element_by_xpath('//*[@id=\"ContentPlaceHolder1_txtTodate\"]')\n",
    "        to_date.clear()\n",
    "        to_date.click()\n",
    "        get_date(\"21\",\"Dec\",\"2020\")\n",
    "        submit = driver.find_element_by_xpath('//*[@id=\"ContentPlaceHolder1_btnSubmit\"]')\n",
    "        submit.click()\n",
    "        time.sleep(1)\n",
    "        driver.find_element_by_xpath(\"/html/body/div[1]/form/div[4]/div/div/div[2]/div/div/div[2]/a/i\").click()\n",
    "\n",
    "    if os.path.exists(os.path.join(os.getcwd(),\"Data\\CorporateActions\\\\\"+str(nums)+\".csv\")):\n",
    "        return\n",
    "    else:\n",
    "        chromeOptions = webdriver.ChromeOptions()\n",
    "        # chromeOptions.add_argument(\"--headless\")\n",
    "        chromeOptions.add_experimental_option(\"prefs\",{\"download.default_directory\":path})\n",
    "        driver = webdriver.Chrome(ChromeDriverManager().install(), options = chromeOptions)\n",
    "        # url = \"https://www.bseindia.com/markets/equity/EQReports/StockPrcHistori.aspx?flag=0\"\n",
    "        driver.get(corporate_url)\n",
    "        traverse_actions(str(nums))\n",
    "        time.sleep(3)\n",
    "        driver.quit()\n",
    "        os.rename(os.path.join(path,\"Corporate_Actions.csv\"),os.path.join(path,str(nums)+\".csv\"))\n"
   ]
  },
  {
   "cell_type": "code",
   "execution_count": null,
   "metadata": {},
   "outputs": [],
   "source": [
    "# ThreadPool(1).map(corporate_actions,values[:1])\n",
    "for i in values[:8]:\n",
    "    try: \n",
    "        corporate_actions(i)\n",
    "    except Exception as e:\n",
    "        print(e)"
   ]
  },
  {
   "cell_type": "code",
   "execution_count": 2,
   "metadata": {},
   "outputs": [
    {
     "output_type": "stream",
     "name": "stdout",
     "text": [
      "e:\\IIITH\\DataScience_2019501010\\StockAnalysisTool\\Data\n"
     ]
    }
   ],
   "source": [
    "path = os.path.join(os.getcwd(),\"Data\")\n",
    "print(path)\n",
    "\n",
    "def bse_index():\n",
    "\n",
    "    # to set date\n",
    "    def get_date(d,m,y):\n",
    "        \n",
    "        year = driver.find_element_by_xpath('/html/body/div[4]/div/div/select[2]') \n",
    "        year = Select(year)\n",
    "        while year.options[0].text > \"1991\":\n",
    "            year.select_by_visible_text(year.options[0].text) \n",
    "            year = driver.find_element_by_xpath('/html/body/div[4]/div/div/select[2]') \n",
    "            year = Select(year)\n",
    "        year.select_by_visible_text(year.options[0].text) \n",
    "\n",
    "        month = driver.find_element_by_xpath('/html/body/div[4]/div/div/select[1]') \n",
    "        month = Select(month)\n",
    "        month.select_by_visible_text(m)  \n",
    "\n",
    "        days=driver.find_element_by_xpath(\"//table/tbody/tr/td/a[text()=\"+str(d)+\"]\")\n",
    "        days.click()\n",
    "\n",
    "    def traverse_index():\n",
    "        indexes = driver.find_element_by_xpath('//*[@id=\"ddlIndex\"]')\n",
    "        indexes = Select(indexes)\n",
    "        indexes.select_by_visible_text(\"S&P BSE 500\")  \n",
    "\n",
    "        from_date = driver.find_element_by_xpath('//*[@id=\"txtFromDt\"]')\n",
    "        from_date.clear()\n",
    "        from_date.click()\n",
    "        get_date(\"1\",\"Aug\",\"1991\")\n",
    "        to_date = driver.find_element_by_xpath('//*[@id=\"txtToDt\"]')\n",
    "        to_date.clear()\n",
    "        to_date.click()\n",
    "        get_date(\"21\",\"Dec\",\"2020\")\n",
    "\n",
    "        submit = driver.find_element_by_xpath('/html/body/div[2]/div/div[2]/div[5]/div/input')\n",
    "        submit.click()\n",
    "        time.sleep(1)\n",
    "        driver.find_element_by_xpath(\"/html/body/div[2]/div/div[1]/div/div[1]/div[2]/i\").click()\n",
    "\n",
    "    if os.path.exists(os.path.join(os.getcwd(),\"Data\\\\\"+\"CSVForDate.csv\")):\n",
    "        return\n",
    "    else:\n",
    "        chromeOptions = webdriver.ChromeOptions()\n",
    "        # chromeOptions.add_argument(\"--headless\")\n",
    "        chromeOptions.add_experimental_option(\"prefs\",{\"download.default_directory\":path})\n",
    "        driver = webdriver.Chrome(ChromeDriverManager().install(), options = chromeOptions)\n",
    "        # url = \"https://www.bseindia.com/markets/equity/EQReports/StockPrcHistori.aspx?flag=0\"\n",
    "        driver.get(index_url)\n",
    "        traverse_index()\n",
    "        time.sleep(3)\n",
    "        driver.quit()\n"
   ]
  },
  {
   "cell_type": "code",
   "execution_count": null,
   "metadata": {},
   "outputs": [],
   "source": [
    "bse_index()"
   ]
  },
  {
   "cell_type": "code",
   "execution_count": null,
   "metadata": {},
   "outputs": [],
   "source": []
  }
 ]
}