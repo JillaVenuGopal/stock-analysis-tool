{
 "metadata": {
  "language_info": {
   "codemirror_mode": {
    "name": "ipython",
    "version": 3
   },
   "file_extension": ".py",
   "mimetype": "text/x-python",
   "name": "python",
   "nbconvert_exporter": "python",
   "pygments_lexer": "ipython3",
   "version": "3.8.3-final"
  },
  "orig_nbformat": 2,
  "kernelspec": {
   "name": "python3",
   "display_name": "Python 3",
   "language": "python"
  }
 },
 "nbformat": 4,
 "nbformat_minor": 2,
 "cells": [
  {
   "cell_type": "code",
   "execution_count": null,
   "metadata": {},
   "outputs": [],
   "source": [
    "import os\n",
    "from selenium import webdriver\n",
    "from selenium.webdriver.common.keys import Keys\n",
    "from selenium.webdriver.support.ui import Select\n",
    "from webdriver_manager.chrome import ChromeDriverManager\n",
    "import pandas as pd\n",
    "import time\n",
    "import datetime\n",
    "import calendar\n",
    "import zipfile\n",
    "from multiprocessing.pool import ThreadPool"
   ]
  },
  {
   "cell_type": "code",
   "execution_count": null,
   "metadata": {},
   "outputs": [],
   "source": [
    "deliverables_url = \"https://www.bseindia.com/markets/equity/EQReports/GrossShortPos.aspx?flag=0\""
   ]
  },
  {
   "cell_type": "code",
   "execution_count": null,
   "metadata": {},
   "outputs": [],
   "source": [
    "path = os.path.join(os.getcwd(),\"Data\\Deliverables\")\n",
    "\n",
    "def download_deliverables():\n",
    "    \"\"\"\n",
    "    Downloads the deliverables of the current day.\n",
    "\n",
    "    deliverables_url = \"https://www.bseindia.com/markets/equity/EQReports/GrossShortPos.aspx?flag=0\"\n",
    "\n",
    "    creates the driver.\n",
    "\n",
    "    opens the deliverables_url.\n",
    "    \n",
    "    downloads the file.\n",
    "\n",
    "    Methods:\n",
    "    --------\n",
    "\n",
    "    create_driver : creates the chrome driver.\n",
    "\n",
    "    download : downloads the file. invokes extract_save method.\n",
    "\n",
    "    extract_save : extracts the file and renames it to the specified name.\n",
    "\n",
    "    \"\"\"\n",
    "\n",
    "    def extract_save(name):\n",
    "        \"\"\"\n",
    "        extracts the file and renames it to the specified name.\n",
    "\n",
    "        Parameters\n",
    "        ----------\n",
    "        name : string\n",
    "            name of the file i.e, security id\n",
    "\n",
    "        \"\"\"\n",
    "\n",
    "        res = zipfile.ZipFile(os.path.join(path,name))\n",
    "        res.extractall(path)\n",
    "        deli = pd.read_csv(os.path.join(path,name),sep=\"|\")\n",
    "        today = datetime.date.today()-datetime.timedelta(days=1)\n",
    "        output_name = str(today.day).zfill(2) + str(today.month).zfill(2)+str(today.year).zfill(4)\n",
    "        deli.to_csv(os.path.join(path,output_name+\".csv\"),index=None)\n",
    "\n",
    "    def download():\n",
    "        \"\"\"\n",
    "        downloads the file.\n",
    "        invokes the extract_save method.\n",
    "\n",
    "        \"\"\"\n",
    "        element = driver.find_element_by_xpath('//*[@id=\"ContentPlaceHolder1_hylinksearch\"]')\n",
    "        element.click()\n",
    "        url = element.get_attribute(\"href\")\n",
    "        name = url.split(\"/\")[-1]\n",
    "        time.sleep(3)\n",
    "        driver.quit()\n",
    "        extract_save(url.split(\"/\")[-1])\n",
    "        os.remove(os.path.join(path,name))\n",
    "        os.remove(os.path.join(path,name.replace(\".zip\",\".txt\")))\n",
    "\n",
    "    def create_driver():\n",
    "        \"\"\"\n",
    "        Creates a Chrome Driver.\n",
    "\n",
    "        Returns\n",
    "        --------\n",
    "        driver : driver\n",
    "            chrome web driver.\n",
    "        \"\"\"\n",
    "        chromeOptions = webdriver.ChromeOptions()\n",
    "        chromeOptions.add_argument(\"--headless\")\n",
    "        chromeOptions.add_experimental_option(\"prefs\",{\"download.default_directory\":path})\n",
    "        driver = webdriver.Chrome(ChromeDriverManager().install(), options = chromeOptions)\n",
    "        return driver\n",
    "\n",
    "    driver = create_driver()\n",
    "    driver.get(deliverables_url)\n",
    "    download()\n"
   ]
  },
  {
   "cell_type": "code",
   "execution_count": null,
   "metadata": {},
   "outputs": [],
   "source": [
    "# download_deliverables()"
   ]
  },
  {
   "cell_type": "code",
   "execution_count": null,
   "metadata": {},
   "outputs": [],
   "source": []
  }
 ]
}