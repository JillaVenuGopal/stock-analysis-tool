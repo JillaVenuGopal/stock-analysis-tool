{
 "metadata": {
  "language_info": {
   "codemirror_mode": {
    "name": "ipython",
    "version": 3
   },
   "file_extension": ".py",
   "mimetype": "text/x-python",
   "name": "python",
   "nbconvert_exporter": "python",
   "pygments_lexer": "ipython3",
   "version": "3.8.3-final"
  },
  "orig_nbformat": 2,
  "kernelspec": {
   "name": "python3",
   "display_name": "Python 3",
   "language": "python"
  }
 },
 "nbformat": 4,
 "nbformat_minor": 2,
 "cells": [
  {
   "cell_type": "code",
   "execution_count": null,
   "metadata": {},
   "outputs": [],
   "source": [
    "import pandas as pd\n",
    "import numpy as np \n",
    "import os\n",
    "from dateutil.parser import parse"
   ]
  },
  {
   "cell_type": "code",
   "execution_count": null,
   "metadata": {},
   "outputs": [],
   "source": [
    "path = os.getcwd()\n",
    "path = os.path.join(path,\"Data\")\n",
    "stockspath = os.path.join(path,\"Stock\")\n",
    "# print(stockspath)\n",
    "# print(path)"
   ]
  },
  {
   "cell_type": "code",
   "execution_count": null,
   "metadata": {},
   "outputs": [],
   "source": [
    "# def is_date(date):\n",
    "#     try:\n",
    "#         parse(date,fuzzy=False)\n",
    "#         return True\n",
    "#     except Exception as e:\n",
    "#         return False"
   ]
  },
  {
   "cell_type": "code",
   "execution_count": null,
   "metadata": {},
   "outputs": [],
   "source": [
    "def clean_index(ind):\n",
    "    \"\"\"\n",
    "    Drops the duplicate rows in the dataframe based on Date column.\n",
    "\n",
    "    Parameters\n",
    "    ----------\n",
    "\n",
    "    ind : dataframe\n",
    "        index dataframe\n",
    "\n",
    "    Returns\n",
    "    -------\n",
    "\n",
    "    ind: dataframe\n",
    "        updated dataframe after droping duplicates.\n",
    "\n",
    "    \"\"\"\n",
    "    ind[\"Date\"] = pd.to_datetime(ind[\"Date\"])\n",
    "    ind = ind.drop_duplicates(subset=[\"Date\"],keep=\"first\")\n",
    "    return ind"
   ]
  },
  {
   "cell_type": "code",
   "execution_count": null,
   "metadata": {},
   "outputs": [],
   "source": [
    "def data_cleaning(df,ind):\n",
    "    \"\"\"\n",
    "    Removes duplicate rows, Adds missing rows, fills null values from pervious row to the stock dataframe.\n",
    "\n",
    "    Parameters\n",
    "    ----------\n",
    "\n",
    "    df : dataframe\n",
    "        stock dataframe\n",
    "    \n",
    "    ind : dataframe\n",
    "        index dataframe\n",
    "\n",
    "    Returns\n",
    "    -------\n",
    "\n",
    "    df : dataframe\n",
    "        updated dataframe after performing all the operations.\n",
    "\n",
    "    \"\"\"\n",
    "    ind = clean_index(ind)\n",
    "    df[\"Date\"] = pd.to_datetime(df[\"Date\"])\n",
    "    df = df.drop_duplicates(subset=[\"Date\"],keep=\"first\")\n",
    "    df = add_missing_rows(df,ind)\n",
    "    df = fill_with_previous_values(df)\n",
    "    return df"
   ]
  },
  {
   "cell_type": "code",
   "execution_count": 1,
   "metadata": {},
   "outputs": [],
   "source": [
    "def add_missing_rows(df,ind):\n",
    "    \"\"\"\n",
    "\n",
    "    Adds rows to the stock dataframe.\n",
    "\n",
    "    If the date is present in index dataframe an not present in stock dataframe,\n",
    "    then a new row (as date and NAN values) is added to stock dataframe.\n",
    "\n",
    "    Parameters\n",
    "    ----------\n",
    "    \n",
    "    df : dataframe\n",
    "        stock dataframe\n",
    "    \n",
    "    ind : dataframe\n",
    "        index dataframe\n",
    "    \n",
    "    Returns\n",
    "    -------\n",
    "\n",
    "    df : dataframe\n",
    "        updated dataframe after adding new rows.\n",
    "\n",
    "    \"\"\"\n",
    "\n",
    "    s = df.Date.head(1).values[0]\n",
    "    e = df.Date.tail(1).values[0]\n",
    "    ind = ind[ind.Date.between(e,s)]\n",
    "    missing_df = pd.DataFrame(columns=df.columns)\n",
    "    indexes_dates = ind.Date.values\n",
    "    df.Date = pd.to_datetime(df.Date)\n",
    "    df_dates = df.Date.values\n",
    "    start = 0\n",
    "    for i,v in enumerate(indexes_dates):\n",
    "        if v not in df.Date.values:\n",
    "            res = list(np.append(ind.iloc[i].values,[np.nan]*8))\n",
    "            missing_df.loc[start] = res\n",
    "            start += 1\n",
    "    df = pd.concat([df,missing_df])\n",
    "    return df"
   ]
  },
  {
   "cell_type": "code",
   "execution_count": null,
   "metadata": {},
   "outputs": [],
   "source": [
    "def fill_with_previous_values(df):\n",
    "    \"\"\"\n",
    "    Fills the null values in the dataframe with the values from the previous row.\n",
    "\n",
    "    Parameters\n",
    "    ----------\n",
    "    \n",
    "    df : dataframe\n",
    "        stock dataframe\n",
    "    \n",
    "    Returns\n",
    "    -------\n",
    "\n",
    "    df : dataframe\n",
    "        updated dataframe after filling with previous values.\n",
    "        \n",
    "    \"\"\"\n",
    "\n",
    "    df.fillna(method=\"ffill\",inplace=True)\n",
    "    return df"
   ]
  },
  {
   "cell_type": "code",
   "execution_count": null,
   "metadata": {},
   "outputs": [],
   "source": []
  }
 ]
}