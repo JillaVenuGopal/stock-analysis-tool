{
 "metadata": {
  "language_info": {
   "codemirror_mode": {
    "name": "ipython",
    "version": 3
   },
   "file_extension": ".py",
   "mimetype": "text/x-python",
   "name": "python",
   "nbconvert_exporter": "python",
   "pygments_lexer": "ipython3",
   "version": "3.8.3-final"
  },
  "orig_nbformat": 2,
  "kernelspec": {
   "name": "python3",
   "display_name": "Python 3.8.3 64-bit",
   "metadata": {
    "interpreter": {
     "hash": "2db524e06e9f5f4ffedc911c917cb75e12dbc923643829bf417064a77eb14d37"
    }
   }
  }
 },
 "nbformat": 4,
 "nbformat_minor": 2,
 "cells": [
  {
   "cell_type": "code",
   "execution_count": null,
   "metadata": {},
   "outputs": [],
   "source": [
    "import os\n",
    "from sklearn.model_selection import train_test_split\n",
    "import numpy as np\n",
    "import pandas as pd\n",
    "from sklearn import metrics\n",
    "from keras.models import Sequential\n",
    "from keras.layers import Dense\n",
    "from keras.layers import LSTM\n",
    "from keras.layers import Dropout\n",
    "from keras.backend import sigmoid\n",
    "import matplotlib.pyplot as plt\n",
    "from math import sqrt\n",
    "import threading\n",
    "from multiprocessing.pool import ThreadPool\n",
    "import time\n",
    "import multiprocessing\n",
    "import traceback\n",
    "\n",
    "import prettytable"
   ]
  },
  {
   "cell_type": "code",
   "execution_count": null,
   "metadata": {},
   "outputs": [],
   "source": [
    "import warnings; warnings.simplefilter('ignore')"
   ]
  },
  {
   "cell_type": "code",
   "execution_count": null,
   "metadata": {},
   "outputs": [],
   "source": [
    "path = os.getcwd()\n",
    "path"
   ]
  },
  {
   "source": [
    "# Pre Processing"
   ],
   "cell_type": "markdown",
   "metadata": {}
  },
  {
   "cell_type": "code",
   "execution_count": null,
   "metadata": {},
   "outputs": [],
   "source": [
    "def pre_process_data(data,null_threshold):\n",
    "    \"\"\"\n",
    "    Drops Date and Unix Date columns from the data.\n",
    "    Drops the columns which has null values more than specified null_threshold.\n",
    "    Replaces infinite values with NAN.\n",
    "    Drops the rows which has null values.\n",
    "\n",
    "    Parameters\n",
    "    ----------\n",
    "    data : dataframe\n",
    "\n",
    "    null_threshold : numeric\n",
    "        numeric value describing the amount of null values that can be present.\n",
    "\n",
    "    Returns\n",
    "    -------\n",
    "    data : dataframe\n",
    "        an updated dataframe after performing all the opertaions.\n",
    "    \"\"\"\n",
    "    \n",
    "    data.drop(columns=['Unix Date','Date'],axis=1,inplace=True)\n",
    "    total = data.shape[0]\n",
    "    for col in data.columns:\n",
    "        if null_threshold * total / 100 < data[col].isnull().sum():\n",
    "            data.drop(columns=[col],axis=1,inplace=True)\n",
    "    data.replace([np.inf, -np.inf], np.nan, inplace=True)\n",
    "    data = data.apply(pd.to_numeric,errors='coerce')\n",
    "    data.dropna(axis=0,inplace=True)\n",
    "    return data"
   ]
  },
  {
   "source": [
    "# Removing columns based on dependent column\n"
   ],
   "cell_type": "markdown",
   "metadata": {}
  },
  {
   "cell_type": "code",
   "execution_count": null,
   "metadata": {},
   "outputs": [],
   "source": [
    "def dependent_column(data,column):\n",
    "    \"\"\"\n",
    "    Removes all the Next Day columns.\n",
    "    Removes all the non Growth Rate Columns (GR)\n",
    "    add the predictor column to list of columns.\n",
    "\n",
    "    Parameters\n",
    "    ----------\n",
    "    data : dataframe\n",
    "\n",
    "    column : string\n",
    "        name of the predictor column \n",
    "\n",
    "    Returns\n",
    "    -------\n",
    "    data : dataframe\n",
    "        an updated dataframe after performing all the opertaions.\n",
    "    column : string\n",
    "        name of the predictor column\n",
    "    \"\"\"\n",
    "    cols = [col for col in data.columns if \"next\" not in col.lower() and col.lower().endswith(\"gr\")]\n",
    "    cols.append(column)\n",
    "    data = data[cols]\n",
    "    return (data,column)"
   ]
  },
  {
   "source": [
    "# Reshaping the data"
   ],
   "cell_type": "markdown",
   "metadata": {}
  },
  {
   "cell_type": "code",
   "execution_count": null,
   "metadata": {},
   "outputs": [],
   "source": [
    "def reshape_data(x_train, x_test, y_train, y_test):\n",
    "    x_train = np.array(x_train)\n",
    "    x_train = np.reshape(x_train, (x_train.shape[0],1, x_train.shape[1]))\n",
    "    x_test = np.array(x_test)\n",
    "    x_test = np.reshape(x_test, (x_test.shape[0],1, x_test.shape[1]))\n",
    "    y_test = np.array(y_test)\n",
    "    y_test = np.reshape(y_test, (y_test.shape[0],1))\n",
    "\n",
    "    return (x_train, x_test, y_train, y_test)"
   ]
  },
  {
   "source": [
    "# Sigmoid Funtion"
   ],
   "cell_type": "markdown",
   "metadata": {}
  },
  {
   "cell_type": "code",
   "execution_count": null,
   "metadata": {},
   "outputs": [],
   "source": [
    "def swish(x, beta = 1):\n",
    "    return (x * sigmoid(beta * x))"
   ]
  },
  {
   "source": [
    "# Keras Model Classifier"
   ],
   "cell_type": "markdown",
   "metadata": {}
  },
  {
   "cell_type": "code",
   "execution_count": null,
   "metadata": {},
   "outputs": [],
   "source": [
    "def keras_model():\n",
    "    activation='relu'\n",
    "    dropout_rate=0.2\n",
    "    init_mode='uniform'\n",
    "    weight_constraint=0 \n",
    "    optimizer='adam' \n",
    "    lr = 0.01\n",
    "    momemntum=0\n",
    "    \n",
    "    model = Sequential()\n",
    "    model.add(Dense(units = 8, input_dim = 75, kernel_initializer=init_mode,activation=activation))\n",
    "    model.add(Dropout(dropout_rate)) \n",
    "    model.add(Dense(1, kernel_initializer=init_mode, activation='sigmoid'))\n",
    "    model.compile(loss='binary_crossentropy', optimizer=optimizer, metrics=['accuracy'])\n",
    "\n",
    "    return model"
   ]
  },
  {
   "source": [
    "# Parameters Tuning"
   ],
   "cell_type": "markdown",
   "metadata": {}
  },
  {
   "cell_type": "code",
   "execution_count": null,
   "metadata": {},
   "outputs": [],
   "source": [
    "def tuning(model,epochs,batch_size,X_train,Y_train):\n",
    "    \n",
    "    param_grid = dict(epochs=epochs, batch_size=batch_size)\n",
    "    grid = GridSearchCV(estimator=model, param_grid=param_grid, n_jobs=-1)\n",
    "    grid_result = grid.fit(X_train,Y_train,verbose = 0) \n",
    "    epoch = grid_result.best_params_['epochs']\n",
    "    batch_size = grid_result.best_params_['batch_size']\n",
    "    \n",
    "    return (epoch,batch_size)"
   ]
  },
  {
   "source": [
    "# Recurrent Neural Networks LSTM"
   ],
   "cell_type": "markdown",
   "metadata": {}
  },
  {
   "cell_type": "code",
   "execution_count": null,
   "metadata": {},
   "outputs": [],
   "source": [
    "def recurrent_neural_networks(X,Y,layers,epochs = 5,batch_size = 32,units=50):\n",
    "    print(batch_size,epochs)\n",
    "    x_train, x_test, y_train, y_test = train_test_split(X, Y, test_size=0.3,random_state = 0)\n",
    "    x_train, x_test, y_train, y_test = reshape_data(x_train, x_test, y_train, y_test)\n",
    "\n",
    "    model = build_lstm(x_train,layers,units)\n",
    "    model.compile(optimizer='adam',loss='mse',metrics=['accuracy'])\n",
    "    \n",
    "    history_lstm = model.fit(x_train,y_train,epochs = epochs,batch_size = batch_size, validation_data = (x_test,y_test),shuffle = False,verbose=0)\n",
    "\n",
    "    y_pred = model.predict(x_test)\n",
    "    y_pred = np.array(y_pred)\n",
    "    y_pred = np.reshape(y_pred, (y_pred.shape[0],1))\n",
    "\n",
    "    rmse = sqrt(metrics.mean_squared_error(y_test, y_pred))\n",
    "    mae = metrics.mean_absolute_error(y_test, y_pred)\n",
    "    mse = metrics.mean_squared_error(y_test, y_pred)\n",
    "    r2 = metrics.r2_score(y_test, y_pred)\n",
    "\n",
    "    c = 0\n",
    "    for a,b in zip(y_pred,y_test):\n",
    "        if a * b >= 0:\n",
    "            c += 1\n",
    "    direction = c/len(y_test)\n",
    "    try:\n",
    "        table.add_row([units,epochs,batch_size,layers,direction,rmse,mae,mse,r2])\n",
    "    except :\n",
    "        pass\n",
    "    return {\"root_mean_squared_error\":rmse,\"mean_absolute_error\":mae,\"mean_squared_error\":mse,\"rsquared_adj\":r2,\"same direction\":c,\"total\":len(y_test)}\n"
   ]
  },
  {
   "source": [
    "# LSTM Model"
   ],
   "cell_type": "markdown",
   "metadata": {}
  },
  {
   "cell_type": "code",
   "execution_count": null,
   "metadata": {},
   "outputs": [],
   "source": [
    "def build_lstm(X_train,layers,units = 50):\n",
    "    model = Sequential()\n",
    "    model.add(LSTM(units=units,return_sequences=True,input_shape=(1,X_train.shape[2])))\n",
    "    model.add(Dropout(0.2))\n",
    "    for i in range(layers):s\n",
    "        model.add(LSTM(units=units,return_sequences=True))\n",
    "        model.add(Dropout(0.2))\n",
    "    model.add(Dense(units = 1,activation = 'swish'))\n",
    "    return model"
   ]
  },
  {
   "cell_type": "code",
   "execution_count": null,
   "metadata": {},
   "outputs": [],
   "source": [
    "combinations = list()\n",
    "def get_combinations(arr):\n",
    "    n = len(arr)\n",
    "    indices = [0 for i in range(n)]\n",
    "    while (1):\n",
    "        res = list()\n",
    "        for i in range(n):\n",
    "            res.append(arr[i][indices[i]])\n",
    "        combinations.append(res)\n",
    "        next = n - 1\n",
    "        while (next >= 0 and\n",
    "              (indices[next] + 1 >= len(arr[next]))):\n",
    "            next-=1\n",
    "        if (next < 0):\n",
    "            return\n",
    "        indices[next] += 1\n",
    "        for i in range(next + 1, n):\n",
    "            indices[i] = 0\n",
    "u = [50,100]\n",
    "b = [25,32,48,64]\n",
    "e = [25,50,75,100]\n",
    "arr = [u,b,e]\n",
    "get_combinations(arr)"
   ]
  },
  {
   "cell_type": "code",
   "execution_count": null,
   "metadata": {},
   "outputs": [],
   "source": [
    "len(combinations)"
   ]
  },
  {
   "cell_type": "code",
   "execution_count": null,
   "metadata": {},
   "outputs": [],
   "source": [
    "units = 50\n",
    "# batch_size = 25\n",
    "# epochs = 100\n",
    "layers = 3\n",
    "top = pd.read_csv(\"top.csv\")"
   ]
  },
  {
   "cell_type": "code",
   "execution_count": null,
   "metadata": {},
   "outputs": [],
   "source": [
    "%%time\n",
    "tables = list()\n",
    "columns = [\"units\",\"epochs\",\"batch_size\",\"layers\",\"direction\",\"root_mean_squared_error\",\"mean_absolute_error\",\"mean_squared_error\",\"rsquared_adj\"]\n",
    "for filename in os.listdir(os.path.join(path,\"Data/Stock\")):\n",
    "    if filename.startswith(\"gr500680\"):\n",
    "        try:\n",
    "            table = prettytable.PrettyTable()\n",
    "            stock_name = top[top[\"security id\"] == int(filename[2:8])][\"name\"].values[0]\n",
    "            table.field_names = [\"units\",\"epochs\",\"batch_size\",\"layers\",\"direction\",\"root_mean_squared_error\",\"mean_absolute_error\",\"mean_squared_error\",\"rsquared_adj\"]\n",
    "            table.title = str(filename[2:8]) + \" \" + stock_name + \" RNN\"\n",
    "            print(table.title)\n",
    "            df = pd.read_csv(os.path.join(path,\"Data\\Stock\\\\\"+filename))\n",
    "            column = \"Next Day Close Price GR\"\n",
    "            df = pre_process_data(df,60)\n",
    "            (data,column) = dependent_column(df,column)\n",
    "            X = data[data.columns[:-1]]\n",
    "            Y = data[column]\n",
    "            arguments = list()\n",
    "            for batch_size,epochs in combinations:\n",
    "                data = [X,Y,layers,epochs,batch_size,units]\n",
    "                arguments.append(data)\n",
    "            threads = ThreadPool(multiprocessing.cpu_count())\n",
    "            result = threads.starmap(recurrent_neural_networks,arguments)\n",
    "            # X,Y,layers,epochs,batch_size,units = arguments[0]\n",
    "            recurrent_neural_networks(X,Y,layers,epochs,batch_size,units)\n",
    "\n",
    "            tables.append(table)\n",
    "        except Exception as e :\n",
    "            traceback.print_exc()\n",
    "            pass\n",
    "\n",
    "# rnn.to_csv(os.path.join(path,\"Results\\\\\"+\"rnn\"+\".csv\"),index=None)"
   ]
  },
  {
   "cell_type": "code",
   "execution_count": 61,
   "metadata": {},
   "outputs": [],
   "source": [
    "s = '''+--------------------------------------------------------------------------------------------------------------------------------------------------------------+\n",
    "|                                                                    500680 PFIZER LTD RNN                                                                     |\n",
    "+-------+--------+------------+--------+---------------------+-------------------------+----------------------+------------------------+-----------------------+\n",
    "| units | epochs | batch_size | layers |      direction      | root_mean_squared_error | mean_absolute_error  |   mean_squared_error   |      rsquared_adj     |\n",
    "+-------+--------+------------+--------+---------------------+-------------------------+----------------------+------------------------+-----------------------+\n",
    "|   50  |   25   |     25     |   3    | 0.48522727272727273 |   0.01756240545186482   | 0.012506045704708032 | 0.00030843808525569114 | -0.051527386056182234 |\n",
    "|   50  |   25   |     16     |   3    |  0.4863636363636364 |   0.017539184423609765  | 0.012452760844727902 | 0.00030762299024539536 |  -0.04874856344465783 |\n",
    "|   50  |   50   |     25     |   3    |  0.4909090909090909 |   0.017648071174570377  | 0.012576733349421039 | 0.0003114544161827018  |  -0.06181066405192848 |\n",
    "|   50  |   75   |     25     |   3    | 0.48863636363636365 |   0.017728282869037704  | 0.01271896263516963  | 0.00031429201348461575 |  -0.07148460321896777 |\n",
    "|   50  |   50   |     16     |   3    |        0.4875       |   0.017914617603431902  | 0.012888297156434721 | 0.00032093352387719214 |  -0.0941268461727891  |\n",
    "|   50  |  100   |     25     |   3    |  0.4943181818181818 |   0.017685173325642442  | 0.01267810516521828  | 0.00031276535555801495 |  -0.06627991969997327 |\n",
    "|   50  |   75   |     16     |   3    | 0.48295454545454547 |   0.017827517927239838  | 0.012777746838865255 | 0.00031782039544605775 |  -0.08351356604256721 |\n",
    "|   50  |   25   |     32     |   3    |        0.4875       |   0.017458741128591717  | 0.012338371303608736 | 0.00030480764179518003 |  -0.03915047508200287 |\n",
    "|   50  |  100   |     16     |   3    |  0.4818181818181818 |   0.01776131660890784   | 0.012651664195248507 | 0.00031546436768186553 |  -0.07548139415853061 |\n",
    "|   50  |   50   |     32     |   3    | 0.49204545454545456 |   0.017483380940780537  | 0.012302706088646026 | 0.0003056686091204481  |  -0.04208568562926196 |\n",
    "|   50  |   25   |     48     |   3    |        0.4875       |   0.01739462976405626   | 0.012265390071909863 | 0.0003025731446285919  |  -0.03153262541604951 |\n",
    "|   50  |   75   |     32     |   3    | 0.48409090909090907 |   0.017602004408079904  | 0.012412824471386811 | 0.00030983055918206435 |  -0.05627460936596518 |\n",
    "|   50  |   50   |     48     |   3    |  0.4909090909090909 |   0.01746889789916706   | 0.012300893929883924 | 0.0003051623938115233  |  -0.04035989596183498 |\n",
    "|   50  |   25   |     64     |   3    |  0.4818181818181818 |   0.01732659752324078   |  0.0120834345476863  | 0.00030021098173237354 | -0.023479537634622405 |\n",
    "|   50  |   75   |     48     |   3    |  0.4965909090909091 |   0.017461110611882387  | 0.012222056118026221 | 0.0003048903838003917  |  -0.0394325591974749  |\n",
    "|   50  |  100   |     32     |   3    | 0.49318181818181817 |   0.017533967125098728  | 0.012381388826215645 |  0.000307440003144043  |  -0.04812472366103471 |\n",
    "|   50  |   50   |     64     |   3    |  0.4784090909090909 |   0.017386096885174618  | 0.012119925755687029 | 0.0003022763649006785  | -0.030520843711891565 |\n",
    "|   50  |  100   |     48     |   3    |  0.4909090909090909 |   0.017486485494152538  | 0.012270690561579001 | 0.0003057771749372071  |  -0.04245580830531548 |\n",
    "|   50  |   75   |     64     |   3    |  0.4954545454545455 |   0.017451709445867245  | 0.01213023711421472  |  0.000304562162582972  |  -0.03831358714019695 |\n",
    "|   50  |  100   |     64     |   3    | 0.49886363636363634 |   0.01757609616271123   | 0.012285508079620032 | 0.00030891915632087237 | -0.053167453946170395 |\n",
    "|   50  |  100   |     64     |   3    | 0.48863636363636365 |   0.017471663968224325  | 0.012188481467001062 | 0.0003052590418185482  |  -0.04068938843067249 |\n",
    "+-------+--------+------------+--------+---------------------+-------------------------+----------------------+------------------------+-----------------------+\n",
    "'''"
   ]
  },
  {
   "cell_type": "code",
   "execution_count": 62,
   "metadata": {},
   "outputs": [],
   "source": [
    "result = [tuple(filter(None, map(str.strip, splitline))) for line in s.splitlines() for splitline in [line.split(\"|\")] if len(splitline) > 1]"
   ]
  },
  {
   "cell_type": "code",
   "execution_count": 63,
   "metadata": {},
   "outputs": [
    {
     "output_type": "execute_result",
     "data": {
      "text/plain": [
       "   units epochs batch_size layers            direction  \\\n",
       "19    50    100         64      3  0.49886363636363634   \n",
       "14    50     75         48      3   0.4965909090909091   \n",
       "18    50     75         64      3   0.4954545454545455   \n",
       "5     50    100         25      3   0.4943181818181818   \n",
       "15    50    100         32      3  0.49318181818181817   \n",
       "9     50     50         32      3  0.49204545454545456   \n",
       "12    50     50         48      3   0.4909090909090909   \n",
       "2     50     50         25      3   0.4909090909090909   \n",
       "17    50    100         48      3   0.4909090909090909   \n",
       "20    50    100         64      3  0.48863636363636365   \n",
       "3     50     75         25      3  0.48863636363636365   \n",
       "10    50     25         48      3               0.4875   \n",
       "7     50     25         32      3               0.4875   \n",
       "4     50     50         16      3               0.4875   \n",
       "1     50     25         16      3   0.4863636363636364   \n",
       "0     50     25         25      3  0.48522727272727273   \n",
       "11    50     75         32      3  0.48409090909090907   \n",
       "6     50     75         16      3  0.48295454545454547   \n",
       "13    50     25         64      3   0.4818181818181818   \n",
       "8     50    100         16      3   0.4818181818181818   \n",
       "16    50     50         64      3   0.4784090909090909   \n",
       "\n",
       "   root_mean_squared_error   mean_absolute_error      mean_squared_error  \\\n",
       "19     0.01757609616271123  0.012285508079620032  0.00030891915632087237   \n",
       "14    0.017461110611882387  0.012222056118026221   0.0003048903838003917   \n",
       "18    0.017451709445867245   0.01213023711421472    0.000304562162582972   \n",
       "5     0.017685173325642442   0.01267810516521828  0.00031276535555801495   \n",
       "15    0.017533967125098728  0.012381388826215645    0.000307440003144043   \n",
       "9     0.017483380940780537  0.012302706088646026   0.0003056686091204481   \n",
       "12     0.01746889789916706  0.012300893929883924   0.0003051623938115233   \n",
       "2     0.017648071174570377  0.012576733349421039   0.0003114544161827018   \n",
       "17    0.017486485494152538  0.012270690561579001   0.0003057771749372071   \n",
       "20    0.017471663968224325  0.012188481467001062   0.0003052590418185482   \n",
       "3     0.017728282869037704   0.01271896263516963  0.00031429201348461575   \n",
       "10     0.01739462976405626  0.012265390071909863   0.0003025731446285919   \n",
       "7     0.017458741128591717  0.012338371303608736  0.00030480764179518003   \n",
       "4     0.017914617603431902  0.012888297156434721  0.00032093352387719214   \n",
       "1     0.017539184423609765  0.012452760844727902  0.00030762299024539536   \n",
       "0      0.01756240545186482  0.012506045704708032  0.00030843808525569114   \n",
       "11    0.017602004408079904  0.012412824471386811  0.00030983055918206435   \n",
       "6     0.017827517927239838  0.012777746838865255  0.00031782039544605775   \n",
       "13     0.01732659752324078    0.0120834345476863  0.00030021098173237354   \n",
       "8      0.01776131660890784  0.012651664195248507  0.00031546436768186553   \n",
       "16    0.017386096885174618  0.012119925755687029   0.0003022763649006785   \n",
       "\n",
       "             rsquared_adj  \n",
       "19  -0.053167453946170395  \n",
       "14    -0.0394325591974749  \n",
       "18   -0.03831358714019695  \n",
       "5    -0.06627991969997327  \n",
       "15   -0.04812472366103471  \n",
       "9    -0.04208568562926196  \n",
       "12   -0.04035989596183498  \n",
       "2    -0.06181066405192848  \n",
       "17   -0.04245580830531548  \n",
       "20   -0.04068938843067249  \n",
       "3    -0.07148460321896777  \n",
       "10   -0.03153262541604951  \n",
       "7    -0.03915047508200287  \n",
       "4     -0.0941268461727891  \n",
       "1    -0.04874856344465783  \n",
       "0   -0.051527386056182234  \n",
       "11   -0.05627460936596518  \n",
       "6    -0.08351356604256721  \n",
       "13  -0.023479537634622405  \n",
       "8    -0.07548139415853061  \n",
       "16  -0.030520843711891565  "
      ],
      "text/html": "<div>\n<style scoped>\n    .dataframe tbody tr th:only-of-type {\n        vertical-align: middle;\n    }\n\n    .dataframe tbody tr th {\n        vertical-align: top;\n    }\n\n    .dataframe thead th {\n        text-align: right;\n    }\n</style>\n<table border=\"1\" class=\"dataframe\">\n  <thead>\n    <tr style=\"text-align: right;\">\n      <th></th>\n      <th>units</th>\n      <th>epochs</th>\n      <th>batch_size</th>\n      <th>layers</th>\n      <th>direction</th>\n      <th>root_mean_squared_error</th>\n      <th>mean_absolute_error</th>\n      <th>mean_squared_error</th>\n      <th>rsquared_adj</th>\n    </tr>\n  </thead>\n  <tbody>\n    <tr>\n      <th>19</th>\n      <td>50</td>\n      <td>100</td>\n      <td>64</td>\n      <td>3</td>\n      <td>0.49886363636363634</td>\n      <td>0.01757609616271123</td>\n      <td>0.012285508079620032</td>\n      <td>0.00030891915632087237</td>\n      <td>-0.053167453946170395</td>\n    </tr>\n    <tr>\n      <th>14</th>\n      <td>50</td>\n      <td>75</td>\n      <td>48</td>\n      <td>3</td>\n      <td>0.4965909090909091</td>\n      <td>0.017461110611882387</td>\n      <td>0.012222056118026221</td>\n      <td>0.0003048903838003917</td>\n      <td>-0.0394325591974749</td>\n    </tr>\n    <tr>\n      <th>18</th>\n      <td>50</td>\n      <td>75</td>\n      <td>64</td>\n      <td>3</td>\n      <td>0.4954545454545455</td>\n      <td>0.017451709445867245</td>\n      <td>0.01213023711421472</td>\n      <td>0.000304562162582972</td>\n      <td>-0.03831358714019695</td>\n    </tr>\n    <tr>\n      <th>5</th>\n      <td>50</td>\n      <td>100</td>\n      <td>25</td>\n      <td>3</td>\n      <td>0.4943181818181818</td>\n      <td>0.017685173325642442</td>\n      <td>0.01267810516521828</td>\n      <td>0.00031276535555801495</td>\n      <td>-0.06627991969997327</td>\n    </tr>\n    <tr>\n      <th>15</th>\n      <td>50</td>\n      <td>100</td>\n      <td>32</td>\n      <td>3</td>\n      <td>0.49318181818181817</td>\n      <td>0.017533967125098728</td>\n      <td>0.012381388826215645</td>\n      <td>0.000307440003144043</td>\n      <td>-0.04812472366103471</td>\n    </tr>\n    <tr>\n      <th>9</th>\n      <td>50</td>\n      <td>50</td>\n      <td>32</td>\n      <td>3</td>\n      <td>0.49204545454545456</td>\n      <td>0.017483380940780537</td>\n      <td>0.012302706088646026</td>\n      <td>0.0003056686091204481</td>\n      <td>-0.04208568562926196</td>\n    </tr>\n    <tr>\n      <th>12</th>\n      <td>50</td>\n      <td>50</td>\n      <td>48</td>\n      <td>3</td>\n      <td>0.4909090909090909</td>\n      <td>0.01746889789916706</td>\n      <td>0.012300893929883924</td>\n      <td>0.0003051623938115233</td>\n      <td>-0.04035989596183498</td>\n    </tr>\n    <tr>\n      <th>2</th>\n      <td>50</td>\n      <td>50</td>\n      <td>25</td>\n      <td>3</td>\n      <td>0.4909090909090909</td>\n      <td>0.017648071174570377</td>\n      <td>0.012576733349421039</td>\n      <td>0.0003114544161827018</td>\n      <td>-0.06181066405192848</td>\n    </tr>\n    <tr>\n      <th>17</th>\n      <td>50</td>\n      <td>100</td>\n      <td>48</td>\n      <td>3</td>\n      <td>0.4909090909090909</td>\n      <td>0.017486485494152538</td>\n      <td>0.012270690561579001</td>\n      <td>0.0003057771749372071</td>\n      <td>-0.04245580830531548</td>\n    </tr>\n    <tr>\n      <th>20</th>\n      <td>50</td>\n      <td>100</td>\n      <td>64</td>\n      <td>3</td>\n      <td>0.48863636363636365</td>\n      <td>0.017471663968224325</td>\n      <td>0.012188481467001062</td>\n      <td>0.0003052590418185482</td>\n      <td>-0.04068938843067249</td>\n    </tr>\n    <tr>\n      <th>3</th>\n      <td>50</td>\n      <td>75</td>\n      <td>25</td>\n      <td>3</td>\n      <td>0.48863636363636365</td>\n      <td>0.017728282869037704</td>\n      <td>0.01271896263516963</td>\n      <td>0.00031429201348461575</td>\n      <td>-0.07148460321896777</td>\n    </tr>\n    <tr>\n      <th>10</th>\n      <td>50</td>\n      <td>25</td>\n      <td>48</td>\n      <td>3</td>\n      <td>0.4875</td>\n      <td>0.01739462976405626</td>\n      <td>0.012265390071909863</td>\n      <td>0.0003025731446285919</td>\n      <td>-0.03153262541604951</td>\n    </tr>\n    <tr>\n      <th>7</th>\n      <td>50</td>\n      <td>25</td>\n      <td>32</td>\n      <td>3</td>\n      <td>0.4875</td>\n      <td>0.017458741128591717</td>\n      <td>0.012338371303608736</td>\n      <td>0.00030480764179518003</td>\n      <td>-0.03915047508200287</td>\n    </tr>\n    <tr>\n      <th>4</th>\n      <td>50</td>\n      <td>50</td>\n      <td>16</td>\n      <td>3</td>\n      <td>0.4875</td>\n      <td>0.017914617603431902</td>\n      <td>0.012888297156434721</td>\n      <td>0.00032093352387719214</td>\n      <td>-0.0941268461727891</td>\n    </tr>\n    <tr>\n      <th>1</th>\n      <td>50</td>\n      <td>25</td>\n      <td>16</td>\n      <td>3</td>\n      <td>0.4863636363636364</td>\n      <td>0.017539184423609765</td>\n      <td>0.012452760844727902</td>\n      <td>0.00030762299024539536</td>\n      <td>-0.04874856344465783</td>\n    </tr>\n    <tr>\n      <th>0</th>\n      <td>50</td>\n      <td>25</td>\n      <td>25</td>\n      <td>3</td>\n      <td>0.48522727272727273</td>\n      <td>0.01756240545186482</td>\n      <td>0.012506045704708032</td>\n      <td>0.00030843808525569114</td>\n      <td>-0.051527386056182234</td>\n    </tr>\n    <tr>\n      <th>11</th>\n      <td>50</td>\n      <td>75</td>\n      <td>32</td>\n      <td>3</td>\n      <td>0.48409090909090907</td>\n      <td>0.017602004408079904</td>\n      <td>0.012412824471386811</td>\n      <td>0.00030983055918206435</td>\n      <td>-0.05627460936596518</td>\n    </tr>\n    <tr>\n      <th>6</th>\n      <td>50</td>\n      <td>75</td>\n      <td>16</td>\n      <td>3</td>\n      <td>0.48295454545454547</td>\n      <td>0.017827517927239838</td>\n      <td>0.012777746838865255</td>\n      <td>0.00031782039544605775</td>\n      <td>-0.08351356604256721</td>\n    </tr>\n    <tr>\n      <th>13</th>\n      <td>50</td>\n      <td>25</td>\n      <td>64</td>\n      <td>3</td>\n      <td>0.4818181818181818</td>\n      <td>0.01732659752324078</td>\n      <td>0.0120834345476863</td>\n      <td>0.00030021098173237354</td>\n      <td>-0.023479537634622405</td>\n    </tr>\n    <tr>\n      <th>8</th>\n      <td>50</td>\n      <td>100</td>\n      <td>16</td>\n      <td>3</td>\n      <td>0.4818181818181818</td>\n      <td>0.01776131660890784</td>\n      <td>0.012651664195248507</td>\n      <td>0.00031546436768186553</td>\n      <td>-0.07548139415853061</td>\n    </tr>\n    <tr>\n      <th>16</th>\n      <td>50</td>\n      <td>50</td>\n      <td>64</td>\n      <td>3</td>\n      <td>0.4784090909090909</td>\n      <td>0.017386096885174618</td>\n      <td>0.012119925755687029</td>\n      <td>0.0003022763649006785</td>\n      <td>-0.030520843711891565</td>\n    </tr>\n  </tbody>\n</table>\n</div>"
     },
     "metadata": {},
     "execution_count": 63
    }
   ],
   "source": [
    "resultdf = pd.DataFrame(result[2:],columns=result[1])\n",
    "resultdf = resultdf.sort_values(by=['direction'],ascending=[False])\n",
    "resultdf"
   ]
  },
  {
   "cell_type": "code",
   "execution_count": null,
   "metadata": {},
   "outputs": [],
   "source": [
    "mydf = pd.read_csv('F:\\PracticumProject\\StockAnalysisTool\\Data\\Stock\\gr500680.csv')\n",
    "column = \"Next Day Close Price GR\"\n",
    "mydf = pre_process_data(mydf,60)\n",
    "(data,column) = dependent_column(mydf,column)\n",
    "X = data[data.columns[:-1]]\n",
    "Y = data[column]"
   ]
  },
  {
   "cell_type": "code",
   "execution_count": null,
   "metadata": {},
   "outputs": [],
   "source": [
    "help(recurrent_neural_networks)"
   ]
  },
  {
   "cell_type": "code",
   "execution_count": null,
   "metadata": {},
   "outputs": [],
   "source": [
    "newres = recurrent_neural_networks(X,Y,3,100,32,100)"
   ]
  },
  {
   "cell_type": "code",
   "execution_count": null,
   "metadata": {},
   "outputs": [],
   "source": [
    "newres"
   ]
  },
  {
   "cell_type": "code",
   "execution_count": null,
   "metadata": {},
   "outputs": [],
   "source": [
    "pt = prettytable.PrettyTable()\n",
    "pt.field_names = list(newres.keys())\n",
    "pt.add_row(list(newres.values()))"
   ]
  },
  {
   "cell_type": "code",
   "execution_count": 58,
   "metadata": {},
   "outputs": [],
   "source": [
    "s= pt.get_string()"
   ]
  },
  {
   "cell_type": "code",
   "execution_count": 59,
   "metadata": {},
   "outputs": [
    {
     "output_type": "execute_result",
     "data": {
      "text/plain": [
       "[('root_mean_squared_error',\n",
       "  'mean_absolute_error',\n",
       "  'mean_squared_error',\n",
       "  'rsquared_adj',\n",
       "  'same direction',\n",
       "  'total'),\n",
       " ('0.017862463256434726',\n",
       "  '0.012774004423953404',\n",
       "  '0.0003190675935874807',\n",
       "  '-0.08776551502110341',\n",
       "  '421',\n",
       "  '880')]"
      ]
     },
     "metadata": {},
     "execution_count": 59
    }
   ],
   "source": [
    "r = [tuple(filter(None, map(str.strip, splitline))) for line in s.splitlines() for splitline in [line.split(\"|\")] if len(splitline) > 1]\n",
    "r"
   ]
  },
  {
   "cell_type": "code",
   "execution_count": 60,
   "metadata": {},
   "outputs": [
    {
     "output_type": "execute_result",
     "data": {
      "text/plain": [
       "  root_mean_squared_error   mean_absolute_error     mean_squared_error  \\\n",
       "0    0.017862463256434726  0.012774004423953404  0.0003190675935874807   \n",
       "\n",
       "           rsquared_adj same direction total  \n",
       "0  -0.08776551502110341            421   880  "
      ],
      "text/html": "<div>\n<style scoped>\n    .dataframe tbody tr th:only-of-type {\n        vertical-align: middle;\n    }\n\n    .dataframe tbody tr th {\n        vertical-align: top;\n    }\n\n    .dataframe thead th {\n        text-align: right;\n    }\n</style>\n<table border=\"1\" class=\"dataframe\">\n  <thead>\n    <tr style=\"text-align: right;\">\n      <th></th>\n      <th>root_mean_squared_error</th>\n      <th>mean_absolute_error</th>\n      <th>mean_squared_error</th>\n      <th>rsquared_adj</th>\n      <th>same direction</th>\n      <th>total</th>\n    </tr>\n  </thead>\n  <tbody>\n    <tr>\n      <th>0</th>\n      <td>0.017862463256434726</td>\n      <td>0.012774004423953404</td>\n      <td>0.0003190675935874807</td>\n      <td>-0.08776551502110341</td>\n      <td>421</td>\n      <td>880</td>\n    </tr>\n  </tbody>\n</table>\n</div>"
     },
     "metadata": {},
     "execution_count": 60
    }
   ],
   "source": [
    "rdf = pd.DataFrame(r[1:],columns=r[0])\n",
    "# rdf = rdf.sort_values(by=['direction'],ascending=[False])\n",
    "rdf"
   ]
  },
  {
   "cell_type": "code",
   "execution_count": null,
   "metadata": {},
   "outputs": [],
   "source": []
  }
 ]
}