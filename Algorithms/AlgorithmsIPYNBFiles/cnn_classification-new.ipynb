{
  "nbformat": 4,
  "nbformat_minor": 0,
  "metadata": {
    "kernelspec": {
      "display_name": "Python 3",
      "language": "python",
      "name": "python3"
    },
    "language_info": {
      "codemirror_mode": {
        "name": "ipython",
        "version": 3
      },
      "file_extension": ".py",
      "mimetype": "text/x-python",
      "name": "python",
      "nbconvert_exporter": "python",
      "pygments_lexer": "ipython3",
      "version": "3.7.9"
    },
    "papermill": {
      "default_parameters": {},
      "duration": 15.649883,
      "end_time": "2021-03-22T21:08:02.551332",
      "environment_variables": {},
      "exception": null,
      "input_path": "__notebook__.ipynb",
      "output_path": "__notebook__.ipynb",
      "parameters": {},
      "start_time": "2021-03-22T21:07:46.901449",
      "version": "2.2.2"
    },
    "colab": {
      "name": "cnn-classification.ipynb",
      "provenance": [],
      "collapsed_sections": []
    }
  },
  "cells": [
    {
      "cell_type": "code",
      "metadata": {
        "colab": {
          "base_uri": "https://localhost:8080/"
        },
        "id": "WUcdCNTZ4b2l",
        "outputId": "b6be34af-c3c2-4e49-efcf-d56871304160"
      },
      "source": [
        "from google.colab import drive\n",
        "drive.mount('/content/drive')"
      ],
      "execution_count": 186,
      "outputs": [
        {
          "output_type": "stream",
          "text": [
            "Drive already mounted at /content/drive; to attempt to forcibly remount, call drive.mount(\"/content/drive\", force_remount=True).\n"
          ],
          "name": "stdout"
        }
      ]
    },
    {
      "cell_type": "code",
      "metadata": {
        "execution": {
          "iopub.execute_input": "2021-03-22T21:07:53.043828Z",
          "iopub.status.busy": "2021-03-22T21:07:53.043178Z",
          "iopub.status.idle": "2021-03-22T21:08:00.930821Z",
          "shell.execute_reply": "2021-03-22T21:08:00.931303Z"
        },
        "papermill": {
          "duration": 7.903017,
          "end_time": "2021-03-22T21:08:00.931494",
          "exception": false,
          "start_time": "2021-03-22T21:07:53.028477",
          "status": "completed"
        },
        "tags": [],
        "id": "RmpHT-ORyADS"
      },
      "source": [
        "import os\n",
        "os.environ['TF_CPP_MIN_LOG_LEVEL'] = '3'\n",
        "from sklearn.model_selection import train_test_split\n",
        "import numpy as np\n",
        "import pandas as pd\n",
        "from sklearn import metrics\n",
        "from keras.models import Sequential\n",
        "from keras.layers import Dense, Conv1D, Flatten,Activation\n",
        "from keras.layers import LSTM\n",
        "from keras.layers import Dropout\n",
        "from keras.backend import sigmoid\n",
        "from sklearn.metrics import confusion_matrix\n",
        "from keras.wrappers.scikit_learn import KerasClassifier\n",
        "from math import sqrt\n",
        "from multiprocessing.pool import ThreadPool\n",
        "import time\n",
        "from sklearn.model_selection import GridSearchCV\n",
        "import multiprocessing\n",
        "import traceback\n",
        "import tensorflow as tf\n",
        "from sklearn.metrics import precision_score, make_scorer\n",
        "import prettytable\n",
        "import keras\n",
        "import sklearn\n",
        "from keras import backend as K"
      ],
      "execution_count": 187,
      "outputs": []
    },
    {
      "cell_type": "code",
      "metadata": {
        "execution": {
          "iopub.execute_input": "2021-03-22T21:08:00.955130Z",
          "iopub.status.busy": "2021-03-22T21:08:00.953933Z",
          "iopub.status.idle": "2021-03-22T21:08:00.957986Z",
          "shell.execute_reply": "2021-03-22T21:08:00.958496Z"
        },
        "papermill": {
          "duration": 0.01692,
          "end_time": "2021-03-22T21:08:00.958702",
          "exception": false,
          "start_time": "2021-03-22T21:08:00.941782",
          "status": "completed"
        },
        "tags": [],
        "id": "suZX2J8UyADT"
      },
      "source": [
        "import warnings; \n",
        "warnings.filterwarnings(\"ignore\")"
      ],
      "execution_count": 188,
      "outputs": []
    },
    {
      "cell_type": "code",
      "metadata": {
        "execution": {
          "iopub.execute_input": "2021-03-22T21:08:00.982454Z",
          "iopub.status.busy": "2021-03-22T21:08:00.981721Z",
          "iopub.status.idle": "2021-03-22T21:08:00.988657Z",
          "shell.execute_reply": "2021-03-22T21:08:00.989125Z"
        },
        "papermill": {
          "duration": 0.020442,
          "end_time": "2021-03-22T21:08:00.989334",
          "exception": false,
          "start_time": "2021-03-22T21:08:00.968892",
          "status": "completed"
        },
        "tags": [],
        "id": "XSO1eiZLyADU"
      },
      "source": [
        "def pre_process_data(data,null_threshold):\n",
        "    \"\"\"\n",
        "    Drops Date and Unix Date columns from the data.\n",
        "    Drops the columns which has null values more than specified null_threshold.\n",
        "    Replaces infinite values with NAN.\n",
        "    Drops the rows which has null values.\n",
        "\n",
        "    Parameters\n",
        "    ----------\n",
        "    data : dataframe\n",
        "\n",
        "    null_threshold : numeric\n",
        "        numeric value describing the amount of null values that can be present.\n",
        "\n",
        "    Returns\n",
        "    -------\n",
        "    data : dataframe\n",
        "        an updated dataframe after performing all the opertaions.\n",
        "    \"\"\"\n",
        "    \n",
        "    data.drop(columns=['Unix Date','Date'],axis=1,inplace=True)\n",
        "    total = data.shape[0]\n",
        "    for col in data.columns:\n",
        "        if null_threshold * total / 100 < data[col].isnull().sum():\n",
        "            data.drop(columns=[col],axis=1,inplace=True)\n",
        "    data.replace([np.inf, -np.inf], np.nan, inplace=True)\n",
        "    data = data.apply(pd.to_numeric,errors='coerce')\n",
        "    data.dropna(axis=0,inplace=True)\n",
        "    return data"
      ],
      "execution_count": 189,
      "outputs": []
    },
    {
      "cell_type": "code",
      "metadata": {
        "execution": {
          "iopub.execute_input": "2021-03-22T21:08:01.013072Z",
          "iopub.status.busy": "2021-03-22T21:08:01.012430Z",
          "iopub.status.idle": "2021-03-22T21:08:01.017749Z",
          "shell.execute_reply": "2021-03-22T21:08:01.018185Z"
        },
        "papermill": {
          "duration": 0.019259,
          "end_time": "2021-03-22T21:08:01.018398",
          "exception": false,
          "start_time": "2021-03-22T21:08:00.999139",
          "status": "completed"
        },
        "tags": [],
        "id": "VEWK4hiayADU"
      },
      "source": [
        "def dependent_column(data,column):\n",
        "    \"\"\"\n",
        "    Removes all the Next Day columns.\n",
        "    Removes all the non Growth Rate Columns (GR)\n",
        "    add the predictor column to list of columns.\n",
        "\n",
        "    Parameters\n",
        "    ----------\n",
        "    data : dataframe\n",
        "\n",
        "    column : string\n",
        "        name of the predictor column \n",
        "\n",
        "    Returns\n",
        "    -------\n",
        "    data : dataframe\n",
        "        an updated dataframe after performing all the opertaions.\n",
        "    column : string\n",
        "        name of the predictor column\n",
        "    \"\"\"\n",
        "    cols = [col for col in data.columns if \"next\" not in col.lower() and col.lower().endswith(\"gr\")]\n",
        "    cols.append(column)\n",
        "    data = data[cols]\n",
        "    return (data,column)"
      ],
      "execution_count": 190,
      "outputs": []
    },
    {
      "cell_type": "code",
      "metadata": {
        "execution": {
          "iopub.execute_input": "2021-03-22T21:08:01.040785Z",
          "iopub.status.busy": "2021-03-22T21:08:01.039976Z",
          "iopub.status.idle": "2021-03-22T21:08:01.046850Z",
          "shell.execute_reply": "2021-03-22T21:08:01.046171Z"
        },
        "papermill": {
          "duration": 0.019334,
          "end_time": "2021-03-22T21:08:01.046994",
          "exception": false,
          "start_time": "2021-03-22T21:08:01.027660",
          "status": "completed"
        },
        "tags": [],
        "id": "MHJLWhzPyADV"
      },
      "source": [
        "def reshape_data(x_train, x_test, y_train, y_test):\n",
        "    x_train = np.array(x_train)\n",
        "    x_train = np.reshape(x_train, (x_train.shape[0], x_train.shape[1],1))\n",
        "    x_test = np.array(x_test)\n",
        "    x_test = np.reshape(x_test, (x_test.shape[0],x_test.shape[1],1))\n",
        "    y_test = np.array(y_test)\n",
        "    y_test = np.reshape(y_test, (y_test.shape[0],1))\n",
        "\n",
        "    return (x_train, x_test, y_train, y_test)"
      ],
      "execution_count": 191,
      "outputs": []
    },
    {
      "cell_type": "code",
      "metadata": {
        "execution": {
          "iopub.execute_input": "2021-03-22T21:08:01.073818Z",
          "iopub.status.busy": "2021-03-22T21:08:01.073005Z",
          "iopub.status.idle": "2021-03-22T21:08:01.076719Z",
          "shell.execute_reply": "2021-03-22T21:08:01.076038Z"
        },
        "papermill": {
          "duration": 0.01918,
          "end_time": "2021-03-22T21:08:01.076877",
          "exception": false,
          "start_time": "2021-03-22T21:08:01.057697",
          "status": "completed"
        },
        "tags": [],
        "id": "-vs7XdhtyADV"
      },
      "source": [
        "def error_metrics(y_true, y_pred):\n",
        "    rmse = sqrt(metrics.mean_squared_error(y_true, y_pred))\n",
        "    mae = metrics.mean_absolute_error(y_true, y_pred)\n",
        "    mse = metrics.mean_squared_error(y_true, y_pred)\n",
        "    return {\"root_mean_squared_error\":rmse,\"mean_absolute_error\":mae,\"mean_squared_error\":mse}"
      ],
      "execution_count": 192,
      "outputs": []
    },
    {
      "cell_type": "code",
      "metadata": {
        "execution": {
          "iopub.execute_input": "2021-03-22T21:08:01.099901Z",
          "iopub.status.busy": "2021-03-22T21:08:01.099162Z",
          "iopub.status.idle": "2021-03-22T21:08:01.105917Z",
          "shell.execute_reply": "2021-03-22T21:08:01.105077Z"
        },
        "papermill": {
          "duration": 0.019369,
          "end_time": "2021-03-22T21:08:01.106082",
          "exception": false,
          "start_time": "2021-03-22T21:08:01.086713",
          "status": "completed"
        },
        "tags": [],
        "id": "dan0LwDgyADV"
      },
      "source": [
        "def create_confusion_matrix(y_true,y_pred):\n",
        "    cm = confusion_matrix(y_true,y_pred)\n",
        "    accuracy = metrics.accuracy_score(y_true,y_pred)\n",
        "    precision = metrics.precision_score(y_true,y_pred)\n",
        "    recall = metrics.recall_score(y_true,y_pred)\n",
        "    f1_score = metrics.f1_score(y_true,y_pred)\n",
        "    return {\"accuracy\":accuracy,\"precision\":precision,\"recall\":recall,\"f1_score\":f1_score,\"confusion matrix\":cm}"
      ],
      "execution_count": 193,
      "outputs": []
    },
    {
      "cell_type": "code",
      "metadata": {
        "id": "kFKEIYEZq99l"
      },
      "source": [
        "def precision_threshold(threshold):\n",
        "    def precision(y_true, y_pred):\n",
        "        thresholdvalue = threshold\n",
        "        # Adaptation of the \"round()\" used before to get the predictions. Clipping to make sure that the predicted raw values are between 0 and 1.\n",
        "        y_pred = K.cast(K.greater(K.clip(y_pred, 0, 1), thresholdvalue), K.floatx())\n",
        "        # Compute the number of true positives. Rounding in prevention to make sure we have an integer.\n",
        "        true_positives = K.round(K.sum(K.clip(y_true * y_pred, 0, 1)))\n",
        "        # count the predicted positives\n",
        "        predicted_positives = K.sum(y_pred)\n",
        "        # Get the precision ratio\n",
        "        precision_ratio = true_positives / (predicted_positives + K.epsilon())\n",
        "        return precision_ratio\n",
        "    return precision"
      ],
      "execution_count": 194,
      "outputs": []
    },
    {
      "cell_type": "code",
      "metadata": {
        "id": "3CtvZHyug03-"
      },
      "source": [
        "def precision_new(y_true,y_pred):\n",
        "    s = 0.01\n",
        "    t = 0.5\n",
        "    while True:\n",
        "        pred = np.array(y_pred>t,int)\n",
        "        res = confusion_matrix(y_true,pred)\n",
        "        if res[1][1] >= 100 or t <= 0:\n",
        "          break\n",
        "        t = t - s\n",
        "    # pred = np.array(y_pred>threshold_value,int)\n",
        "    precision = metrics.precision_score(y_true,pred)\n",
        "    print(\" precision = \", precision)\n",
        "    return precision"
      ],
      "execution_count": 195,
      "outputs": []
    },
    {
      "cell_type": "code",
      "metadata": {
        "execution": {
          "iopub.execute_input": "2021-03-22T21:08:01.166611Z",
          "iopub.status.busy": "2021-03-22T21:08:01.165880Z",
          "iopub.status.idle": "2021-03-22T21:08:01.168707Z",
          "shell.execute_reply": "2021-03-22T21:08:01.169133Z"
        },
        "papermill": {
          "duration": 0.02096,
          "end_time": "2021-03-22T21:08:01.169334",
          "exception": false,
          "start_time": "2021-03-22T21:08:01.148374",
          "status": "completed"
        },
        "tags": [],
        "id": "TSWENBNpyADW"
      },
      "source": [
        "def best_params_cnn(X,Y):\n",
        "    custom_precision = make_scorer(precision_new, greater_is_better=True)\n",
        "    model = KerasClassifier(build_fn = create_model_c,input_shape = (X.shape[1],1))\n",
        "    batch_size = [25,32,48,64,100]\n",
        "    epochs = [25,50,75,100]\n",
        "    param_grid = dict(epochs=epochs,batch_size=batch_size)   \n",
        "    grid = GridSearchCV(estimator=model, param_grid=param_grid,n_jobs=-1,verbose = 1,scoring=custom_precision)\n",
        "    grid_result = grid.fit(X,Y)\n",
        "    batch_size, epochs = grid_result.best_params_['batch_size'],grid_result.best_params_['epochs']\n",
        "    return batch_size, epochs"
      ],
      "execution_count": 196,
      "outputs": []
    },
    {
      "cell_type": "code",
      "metadata": {
        "execution": {
          "iopub.execute_input": "2021-03-22T21:08:01.192833Z",
          "iopub.status.busy": "2021-03-22T21:08:01.191911Z",
          "iopub.status.idle": "2021-03-22T21:08:01.197874Z",
          "shell.execute_reply": "2021-03-22T21:08:01.198400Z"
        },
        "papermill": {
          "duration": 0.019538,
          "end_time": "2021-03-22T21:08:01.198587",
          "exception": false,
          "start_time": "2021-03-22T21:08:01.179049",
          "status": "completed"
        },
        "tags": [],
        "id": "029FzCF2yADX"
      },
      "source": [
        "def create_model_c(input_shape):\n",
        "    model = Sequential()\n",
        "    model.add(Conv1D(32, 1, activation=\"relu\", input_shape=input_shape))\n",
        "    model.add(Flatten())\n",
        "    model.add(Dense(32, activation=\"relu\"))\n",
        "    model.add(Dense(1,activation='sigmoid'))\n",
        "    model.compile(loss='binary_crossentropy', optimizer='adam')\n",
        "    return model"
      ],
      "execution_count": 197,
      "outputs": []
    },
    {
      "cell_type": "code",
      "metadata": {
        "execution": {
          "iopub.execute_input": "2021-03-22T21:08:01.227733Z",
          "iopub.status.busy": "2021-03-22T21:08:01.226777Z",
          "iopub.status.idle": "2021-03-22T21:08:01.230071Z",
          "shell.execute_reply": "2021-03-22T21:08:01.229602Z"
        },
        "papermill": {
          "duration": 0.021937,
          "end_time": "2021-03-22T21:08:01.230230",
          "exception": false,
          "start_time": "2021-03-22T21:08:01.208293",
          "status": "completed"
        },
        "tags": [],
        "id": "ToNz-9MRyADY"
      },
      "source": [
        "def create_cnn_classification(df,column,epochs,batch_size,rate):\n",
        "    df[\"Target\"] = df[column].apply(lambda x : 1 if x >= rate else 0)\n",
        "    X = df.drop(columns=[\"Target\",column])\n",
        "    Y = df[\"Target\"]\n",
        "    x_train, x_test, y_train, y_test = train_test_split(X, Y, test_size=0.3,random_state = 0)\n",
        "    (x_train, x_test, y_train, y_test) = reshape_data(x_train, x_test, y_train, y_test)\n",
        "    \n",
        "    # model = KerasClassifier(create_model_c,input_shape = (X.shape[1],1))\n",
        "    model = create_model_c((X.shape[1],1))\n",
        "    history = model.fit(x_train,y_train,epochs = epochs,batch_size = batch_size, validation_data = (x_test,y_test),shuffle = False,verbose=0)\n",
        "\n",
        "    y_pred = model.predict(x_test)\n",
        "    s = 0.01\n",
        "    t = 0.5\n",
        "    while True:\n",
        "        pred = np.array(y_pred>t,int)\n",
        "        res = confusion_matrix(y_test,pred)\n",
        "        if res[1][1] >= 100 or t <= 0:\n",
        "          break\n",
        "        t = t - s\n",
        "    result = {}\n",
        "    error = error_metrics(y_test, pred)\n",
        "    confusion = create_confusion_matrix(y_test,pred)\n",
        "    result.update(error)\n",
        "    result.update(confusion)\n",
        "    result.update({\"threshold\":t})\n",
        "    return result"
      ],
      "execution_count": 198,
      "outputs": []
    },
    {
      "cell_type": "code",
      "metadata": {
        "execution": {
          "iopub.execute_input": "2021-03-22T21:08:01.259309Z",
          "iopub.status.busy": "2021-03-22T21:08:01.258308Z",
          "iopub.status.idle": "2021-03-22T21:08:01.260796Z",
          "shell.execute_reply": "2021-03-22T21:08:01.261203Z"
        },
        "papermill": {
          "duration": 0.021458,
          "end_time": "2021-03-22T21:08:01.261396",
          "exception": false,
          "start_time": "2021-03-22T21:08:01.239938",
          "status": "completed"
        },
        "tags": [],
        "id": "hA6qP1gDyADY"
      },
      "source": [
        "def cnn_classification(df,column,name):\n",
        "    rate_of_growth = [0.01,0.02,0.03,0.04,0.05]\n",
        "    solution = list()\n",
        "    for t in rate_of_growth:\n",
        "        print(\"rate = \",t)\n",
        "        df[\"Target\"] = df[column].apply(lambda x : 1 if x >= t else 0)\n",
        "        X = df.drop(columns=[\"Target\",column])\n",
        "        Y = df[\"Target\"]\n",
        "        x_train, x_test, y_train, y_test = train_test_split(X, Y, test_size=0.3,random_state = 0)\n",
        "        (x_train, x_test, y_train, y_test) = reshape_data(x_train, x_test, y_train, y_test)\n",
        "        batch_size, epochs = best_params_cnn(x_train,y_train)\n",
        "\n",
        "        result = create_cnn_classification(df,column = \"Next Day Close Price GR\",epochs = epochs,batch_size = batch_size,rate = t)\n",
        "        result.update({\"epochs\":epochs,\"batch_size\":batch_size,\"rate_of_growth\":t})\n",
        "        solution.append(result)\n",
        "        pd.DataFrame([result]).to_csv(\"cnn-results/\"+str(name[2:8])+str(t)+\".csv\",index=None)\n",
        "        break\n",
        "    return solution"
      ],
      "execution_count": 179,
      "outputs": []
    },
    {
      "cell_type": "code",
      "metadata": {
        "id": "8bKNrWcA4PRO"
      },
      "source": [
        "# %%time\n",
        "# path = \"/content/drive/MyDrive/stockdata/grdata\"\n",
        "# threshold_value = 0.5\n",
        "# for name in os.listdir(path):\n",
        "#     print(name)\n",
        "#     df = pd.read_csv(os.path.join(path,name))\n",
        "#     df = pre_process_data(df,60)\n",
        "#     df,column = dependent_column(df,\"Next Day Close Price GR\")\n",
        "#     result = cnn_classification(df,column,name)\n",
        "#     result.to_csv(\"cnn-results/\"+str(name[2:8])+\".csv\",index=None)"
      ],
      "execution_count": 180,
      "outputs": []
    },
    {
      "cell_type": "code",
      "metadata": {
        "id": "4RyWnRTy498u"
      },
      "source": [],
      "execution_count": null,
      "outputs": []
    }
  ]
}