{
 "metadata": {
  "language_info": {
   "codemirror_mode": {
    "name": "ipython",
    "version": 3
   },
   "file_extension": ".py",
   "mimetype": "text/x-python",
   "name": "python",
   "nbconvert_exporter": "python",
   "pygments_lexer": "ipython3",
   "version": "3.8.3-final"
  },
  "orig_nbformat": 2,
  "kernelspec": {
   "name": "python3",
   "display_name": "Python 3",
   "language": "python"
  }
 },
 "nbformat": 4,
 "nbformat_minor": 2,
 "cells": [
  {
   "cell_type": "code",
   "execution_count": 21,
   "metadata": {},
   "outputs": [],
   "source": [
    "import os\n",
    "from selenium import webdriver\n",
    "from selenium.webdriver.common.keys import Keys\n",
    "from selenium.webdriver.support.ui import Select\n",
    "from webdriver_manager.chrome import ChromeDriverManager\n",
    "import pandas as pd\n",
    "import time\n",
    "import datetime\n",
    "import calendar\n",
    "import zipfile\n",
    "from multiprocessing.pool import ThreadPool"
   ]
  },
  {
   "cell_type": "code",
   "execution_count": 22,
   "metadata": {},
   "outputs": [],
   "source": [
    "bhav_copy_url = \"https://www.bseindia.com/markets/MarketInfo/BhavCopy.aspx\""
   ]
  },
  {
   "cell_type": "code",
   "execution_count": 23,
   "metadata": {},
   "outputs": [
    {
     "output_type": "stream",
     "name": "stdout",
     "text": [
      "e:\\IIITH\\DataScience_2019501010\\StockAnalysisTool\\Data\\BhavCopy\n"
     ]
    }
   ],
   "source": [
    "path = os.path.join(os.getcwd(),\"Data\\BhavCopy\")\n",
    "print(path)\n",
    "\n",
    "def download_bhavcopy():\n",
    "\n",
    "    # set date\n",
    "    def set_date(d,m,y):\n",
    "        year = driver.find_element_by_xpath('//*[@id=\"ContentPlaceHolder1_fyear1\"]') \n",
    "        year = Select(year)\n",
    "        year.select_by_visible_text(y) \n",
    "\n",
    "        month = driver.find_element_by_xpath('//*[@id=\"ContentPlaceHolder1_fmonth1\"]') \n",
    "        month = Select(month)\n",
    "        month.select_by_visible_text(m)  \n",
    "        \n",
    "        day = driver.find_element_by_xpath('//*[@id=\"ContentPlaceHolder1_fdate1\"]') \n",
    "        day = Select(day)\n",
    "        day.select_by_visible_text(d)  \n",
    "\n",
    "    def extract_save(name):\n",
    "        res = zipfile.ZipFile(os.path.join(path,name))\n",
    "        res.extractall(path)\n",
    "        name = name.split(\".\")[0]\n",
    "        os.rename(os.path.join(path,name[:-4]+\".csv\"),os.path.join(path,name[2:-4]+\".csv\"))\n",
    "\n",
    "    def download():\n",
    "        submit = driver.find_element_by_xpath('//*[@id=\"ContentPlaceHolder1_btnSubmit\"]')\n",
    "        submit.click()\n",
    "        time.sleep(1)\n",
    "        element = driver.find_element_by_xpath('//*[@id=\"ContentPlaceHolder1_btnHylSearBhav\"]')\n",
    "        element.click()\n",
    "        time.sleep(3)\n",
    "        url = element.get_attribute(\"href\")\n",
    "        driver.quit()\n",
    "        name = url.split(\"/\")[-1]\n",
    "        extract_save(name)\n",
    "        os.remove(os.path.join(path,name))\n",
    "\n",
    "    def create_driver():\n",
    "        chromeOptions = webdriver.ChromeOptions()\n",
    "        chromeOptions.add_argument(\"--headless\")\n",
    "        chromeOptions.add_experimental_option(\"prefs\",{\"download.default_directory\":path})\n",
    "        driver = webdriver.Chrome(ChromeDriverManager().install(), options = chromeOptions)\n",
    "        return driver\n",
    "\n",
    "    driver = create_driver()\n",
    "    driver.get(bhav_copy_url)\n",
    "    today = datetime.date.today()\n",
    "    set_date(str(today.day-1).zfill(2),calendar.month_abbr[today.month],str(today.year))\n",
    "    download()\n"
   ]
  },
  {
   "cell_type": "code",
   "execution_count": 24,
   "metadata": {},
   "outputs": [
    {
     "output_type": "stream",
     "name": "stderr",
     "text": [
      "[WDM] - Current google-chrome version is 87.0.4280\n",
      "[WDM] - Get LATEST driver version for 87.0.4280\n",
      "[WDM] - Driver [C:\\Users\\VenkataSaiKrishna\\.wdm\\drivers\\chromedriver\\win32\\87.0.4280.88\\chromedriver.exe] found in cache\n",
      " \n"
     ]
    }
   ],
   "source": [
    "download_bhavcopy()"
   ]
  },
  {
   "cell_type": "code",
   "execution_count": null,
   "metadata": {},
   "outputs": [],
   "source": []
  }
 ]
}