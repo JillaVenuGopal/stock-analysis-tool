{
 "metadata": {
  "language_info": {
   "codemirror_mode": {
    "name": "ipython",
    "version": 3
   },
   "file_extension": ".py",
   "mimetype": "text/x-python",
   "name": "python",
   "nbconvert_exporter": "python",
   "pygments_lexer": "ipython3",
   "version": "3.8.3-final"
  },
  "orig_nbformat": 2,
  "kernelspec": {
   "name": "python3",
   "display_name": "Python 3.8.3 64-bit",
   "metadata": {
    "interpreter": {
     "hash": "2db524e06e9f5f4ffedc911c917cb75e12dbc923643829bf417064a77eb14d37"
    }
   }
  }
 },
 "nbformat": 4,
 "nbformat_minor": 2,
 "cells": [
  {
   "cell_type": "code",
   "execution_count": null,
   "metadata": {},
   "outputs": [],
   "source": [
    "import pandas as pd \n",
    "import numpy as np\n",
    "import os"
   ]
  },
  {
   "cell_type": "code",
   "execution_count": null,
   "metadata": {},
   "outputs": [],
   "source": [
    "companies = pd.read_csv(\"companies.csv\")\n",
    "companies = companies.set_index(\"security id\")"
   ]
  },
  {
   "cell_type": "code",
   "execution_count": null,
   "metadata": {},
   "outputs": [],
   "source": [
    "columns = [\"security_id\",\"company_name\",\"rate_of_growth\",\"model\",\"parameters\",\"accuracy\",\"precision\",\"recall\",\"f1_score\",\"confusion matrix\"] \n",
    "solution = pd.DataFrame(columns=columns)"
   ]
  },
  {
   "cell_type": "code",
   "execution_count": null,
   "metadata": {},
   "outputs": [],
   "source": [
    "for bpnn in os.listdir(\"bpnn-results\"):\n",
    "    df = pd.read_csv(\"bpnn-results/\"+bpnn)\n",
    "    security_id = os.path.splitext(bpnn)[0][5:]\n",
    "    company_name = companies.loc[int(security_id)].values[0]\n",
    "    df[\"security_id\"] = security_id\n",
    "    df[\"company_name\"] = company_name\n",
    "    df[\"model\"] = \"bpnn\"\n",
    "    df[\"parameters\"] = df.apply(lambda row : \"batch_size = \" + str(row.batch_size) + \", \" + \"epochs = \" + str(row.epochs), axis=1)\n",
    "    df = df[columns]\n",
    "    solution = solution.append(df,ignore_index=True)"
   ]
  },
  {
   "cell_type": "code",
   "execution_count": null,
   "metadata": {},
   "outputs": [],
   "source": [
    "for cnn in os.listdir(\"cnn-results\"):\n",
    "    df = pd.read_csv(\"cnn-results/\"+cnn)\n",
    "    security_id = os.path.splitext(cnn)[0][4:]\n",
    "    company_name = companies.loc[int(security_id)].values[0]\n",
    "    df[\"security_id\"] = security_id\n",
    "    df[\"company_name\"] = company_name\n",
    "    df[\"model\"] = \"cnn\"\n",
    "    df[\"parameters\"] = df.apply(lambda row : \"batch_size = \" + str(row.batch_size) + \", \" + \"epochs = \" + str(row.epochs), axis=1)\n",
    "    df = df[columns]\n",
    "    solution = solution.append(df,ignore_index=True)"
   ]
  },
  {
   "cell_type": "code",
   "execution_count": null,
   "metadata": {},
   "outputs": [],
   "source": [
    "for knn in os.listdir(\"knn-results\"):\n",
    "    df = pd.read_csv(\"knn-results/\"+knn)\n",
    "    security_id = os.path.splitext(knn)[0][4:]\n",
    "    company_name = companies.loc[int(security_id)].values[0]\n",
    "    df[\"security_id\"] = security_id\n",
    "    df[\"company_name\"] = company_name\n",
    "    df[\"model\"] = \"knn\"\n",
    "    df[\"parameters\"] = df.apply(lambda row : \"metric = \" + str(row.metric) + \", \" + \"n_neighbors = \" + str(row.n_neighbors) + \", \" + \"weights = \" + str(row.weights) + \", \" + \"algorithm = \" + str(row.algorithm) , axis=1)\n",
    "    df = df[columns]\n",
    "    solution = solution.append(df,ignore_index=True)"
   ]
  },
  {
   "cell_type": "code",
   "execution_count": null,
   "metadata": {},
   "outputs": [],
   "source": [
    "for logistic in os.listdir(\"logistic-results\"):\n",
    "    df = pd.read_csv(\"logistic-results/\"+logistic)\n",
    "    security_id = os.path.splitext(logistic)[0][9:]\n",
    "    company_name = companies.loc[int(security_id)].values[0]\n",
    "    df[\"security_id\"] = security_id\n",
    "    df[\"company_name\"] = company_name\n",
    "    df[\"model\"] = \"logistic\"\n",
    "    df[\"parameters\"] = df.apply(lambda row : \"C = \" + str(row.C) + \", \" + \"penalty = \" + str(row.penalty) + \", \" + \"p_f_value = \" + str(row.p_f_value), axis=1)\n",
    "    df = df[columns]\n",
    "    log = pd.DataFrame()\n",
    "    for name, group in df.groupby(by=[\"rate_of_growth\"]):\n",
    "        group = group.sort_values(by=[\"f1_score\"],ascending=[False])\n",
    "        log = log.append(group.head(1))\n",
    "    solution = solution.append(log,ignore_index=True)"
   ]
  },
  {
   "cell_type": "code",
   "execution_count": null,
   "metadata": {},
   "outputs": [],
   "source": [
    "for rnn in os.listdir(\"rnn-results\"):\n",
    "    df = pd.read_csv(\"rnn-results/\"+rnn)\n",
    "    security_id = os.path.splitext(rnn)[0][4:]\n",
    "    company_name = companies.loc[int(security_id)].values[0]\n",
    "    df[\"security_id\"] = security_id\n",
    "    df[\"company_name\"] = company_name\n",
    "    df[\"model\"] = \"rnn\"\n",
    "    df[\"parameters\"] = df.apply(lambda row : \"batch_size = \" + str(row.batch_size) + \", \" + \"epochs = \" + str(row.epochs), axis=1)\n",
    "    df = df[columns]\n",
    "    solution = solution.append(df,ignore_index=True)"
   ]
  },
  {
   "cell_type": "code",
   "execution_count": null,
   "metadata": {},
   "outputs": [],
   "source": [
    "for svm in os.listdir(\"svm-results\"):\n",
    "    df = pd.read_csv(\"svm-results/\"+svm)\n",
    "    security_id = os.path.splitext(svm)[0][4:]\n",
    "    company_name = companies.loc[int(security_id)].values[0]\n",
    "    df[\"security_id\"] = security_id\n",
    "    df[\"company_name\"] = company_name\n",
    "    df[\"model\"] = \"svm\"\n",
    "    df[\"parameters\"] = df.apply(lambda row : \"C = \" + str(row.C) + \", \" + \"gamma = \" + str(row.gamma) + \", \" + \"kernel = \" + str(row.kernel), axis=1)\n",
    "    df = df[columns]\n",
    "    solution = solution.append(df,ignore_index=True)"
   ]
  },
  {
   "cell_type": "code",
   "execution_count": null,
   "metadata": {},
   "outputs": [],
   "source": [
    "models = pd.DataFrame(columns=columns)\n",
    "solution = solution.sort_values(by=[\"rate_of_growth\",\"f1_score\"],ascending=[True,False])\n",
    "groups = solution.groupby(by=[\"rate_of_growth\",\"security_id\"])\n",
    "for name, group in groups:\n",
    "    models = models.append(group.sort_values(by=[\"f1_score\"],ascending=[False]),ignore_index=True)\n",
    "models.to_csv(\"models.csv\",index=None)"
   ]
  },
  {
   "cell_type": "code",
   "execution_count": null,
   "metadata": {},
   "outputs": [],
   "source": []
  }
 ]
}