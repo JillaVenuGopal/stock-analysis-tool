{
 "metadata": {
  "language_info": {
   "codemirror_mode": {
    "name": "ipython",
    "version": 3
   },
   "file_extension": ".py",
   "mimetype": "text/x-python",
   "name": "python",
   "nbconvert_exporter": "python",
   "pygments_lexer": "ipython3",
   "version": "3.8.3-final"
  },
  "orig_nbformat": 2,
  "kernelspec": {
   "name": "python3",
   "display_name": "Python 3.8.3 64-bit",
   "metadata": {
    "interpreter": {
     "hash": "2db524e06e9f5f4ffedc911c917cb75e12dbc923643829bf417064a77eb14d37"
    }
   }
  }
 },
 "nbformat": 4,
 "nbformat_minor": 2,
 "cells": [
  {
   "cell_type": "code",
   "execution_count": 113,
   "metadata": {},
   "outputs": [],
   "source": [
    "import numpy as np \n",
    "import pandas as pd \n",
    "import re"
   ]
  },
  {
   "cell_type": "code",
   "execution_count": 114,
   "metadata": {},
   "outputs": [],
   "source": [
    "def modify(s):\n",
    "    vals = re.findall(r\"\\d+\",s)\n",
    "    if len(vals) == 4:\n",
    "        r1 = [int(vals[0]),int(vals[2])]\n",
    "        r2 = [int(vals[1]),int(vals[3])]\n",
    "        r = [r1,r2]\n",
    "        return r\n",
    "    else:\n",
    "        return [[int(vals[0])]]"
   ]
  },
  {
   "cell_type": "code",
   "execution_count": 133,
   "metadata": {},
   "outputs": [],
   "source": [
    "path = \"F:\\PracticumProject\\StockAnalysisTool\\Results\\\\25-03-2021-results\\\\rnn-results\""
   ]
  },
  {
   "cell_type": "code",
   "execution_count": 134,
   "metadata": {},
   "outputs": [],
   "source": [
    "for name in os.listdir(path):\n",
    "    filepath = os.path.join(path,name)  \n",
    "    df = pd.read_csv(filepath)\n",
    "    df['confusion matrix'] = df['confusion matrix'].apply(modify)\n",
    "    df = df.rename(columns={\"recall\":\"precision\",\"precision\":\"recall\"})\n",
    "    df.to_csv(filepath,index=None)"
   ]
  },
  {
   "cell_type": "code",
   "execution_count": null,
   "metadata": {},
   "outputs": [],
   "source": []
  }
 ]
}