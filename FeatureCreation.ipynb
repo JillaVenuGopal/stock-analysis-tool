{
 "metadata": {
  "language_info": {
   "codemirror_mode": {
    "name": "ipython",
    "version": 3
   },
   "file_extension": ".py",
   "mimetype": "text/x-python",
   "name": "python",
   "nbconvert_exporter": "python",
   "pygments_lexer": "ipython3",
   "version": "3.8.3-final"
  },
  "orig_nbformat": 2,
  "kernelspec": {
   "name": "python3",
   "display_name": "Python 3",
   "language": "python"
  }
 },
 "nbformat": 4,
 "nbformat_minor": 2,
 "cells": [
  {
   "cell_type": "code",
   "execution_count": null,
   "metadata": {},
   "outputs": [],
   "source": [
    "import numpy as np \n",
    "import pandas as pd \n",
    "import os\n",
    "import re\n",
    "import math"
   ]
  },
  {
   "cell_type": "code",
   "execution_count": null,
   "metadata": {},
   "outputs": [],
   "source": [
    "path = os.path.join(os.getcwd(),\"Data\")\n",
    "stockspath = os.path.join(path,\"Stock\")\n",
    "print(stockspath)\n",
    "print(path)"
   ]
  },
  {
   "cell_type": "code",
   "execution_count": null,
   "metadata": {},
   "outputs": [],
   "source": [
    "ind = pd.read_csv(os.path.join(path,\"Index.csv\"))"
   ]
  },
  {
   "cell_type": "code",
   "execution_count": null,
   "metadata": {},
   "outputs": [],
   "source": [
    "ind[\"% Return\"] = ((ind[\"Close\"] / ind['Close'].shift(1))-1)*100\n",
    "ind[\"% YTD\"] = ((ind.tail(1)['Close'].values[0]/ind[\"Close\"])-1)*100\n",
    "ind.to_csv(os.path.join(path,\"mod\"+\"Index.csv\"),index=None)"
   ]
  },
  {
   "cell_type": "code",
   "execution_count": null,
   "metadata": {},
   "outputs": [],
   "source": [
    "def calculate_beta(stock):\n",
    "    stock[\"% Return of Company\"] = ((stock[\"Close Price\"] / stock['Close Price'].shift(1))-1)*100\n",
    "    ind = pd.read_csv(os.path.join(path,\"modIndex.csv\"))\n",
    "    ind.rename(columns={'Close':'Close Price of SP500', '% Return':'% Return of SP500'}, inplace=True)\n",
    "    ind.drop(['Open', 'High', 'Low', '% YTD'], axis = 1,inplace=True) \n",
    "    ind[\"Date\"] = pd.to_datetime(ind[\"Date\"])\n",
    "    stock[\"Date\"] = pd.to_datetime(stock[\"Date\"])\n",
    "    stock = pd.merge(stock, ind, on=\"Date\", how = \"left\")\n",
    "\n",
    "    sp500 = stock[\"% Return of SP500\"]\n",
    "    company = stock[\"% Return of Company\"]\n",
    "    results = list()\n",
    "    for i in range(stock.shape[0]):\n",
    "        # cov = np.cov(company[i:],sp500[i:])[0][1]\n",
    "        cov = np.ma.cov(np.ma.masked_invalid(np.array(company[i:],sp500[i:])),rowvar=False)\n",
    "        var = np.nanvar(sp500[i:])\n",
    "        res = var/cov\n",
    "        results.append(res)\n",
    "    stock[\"Beta\"] = results\n",
    "    return stock"
   ]
  },
  {
   "cell_type": "code",
   "execution_count": null,
   "metadata": {},
   "outputs": [],
   "source": [
    "def calculate_alpha(stock):\n",
    "    stock[\"% YTD of Company\"] = ((stock.tail(1)['Close Price'].values[0]/stock[\"Close Price\"])-1)*100\n",
    "    ind = pd.read_csv(os.path.join(path,\"modIndex.csv\"))\n",
    "    ind.drop(['Open', 'High', 'Low', \"Close\", \"% Return\"], axis = 1,inplace=True) \n",
    "    ind.rename(columns={'% YTD':'% YTD of SP500'}, inplace=True)\n",
    "    ind[\"Date\"] = pd.to_datetime(ind[\"Date\"])\n",
    "    stock[\"Date\"] = pd.to_datetime(stock[\"Date\"])\n",
    "    stock = pd.merge(stock, ind, on=\"Date\", how = \"left\")\n",
    "    stock[\"Alpha\"] = stock[\"% YTD of Company\"] - (stock[\"Rate\"] + (stock[\"Beta\"] * (stock[\"% YTD of SP500\"] - stock[\"Rate\"])))\n",
    "    return stock"
   ]
  },
  {
   "cell_type": "code",
   "execution_count": null,
   "metadata": {},
   "outputs": [],
   "source": [
    "def add_risk_free_column(stock):\n",
    "    riskrates = pd.read_csv(os.path.join(path,\"RiskFreeRate.csv\"))\n",
    "    riskrates[\"Date\"] = pd.to_datetime(riskrates[\"Date\"])\n",
    "    stock[\"Date\"] = pd.to_datetime(stock[\"Date\"])\n",
    "    riskrates[\"Rate\"] = pd.to_numeric(riskrates[\"Rate\"])\n",
    "    res = pd.merge(stock, riskrates, on=\"Date\", how = \"left\")\n",
    "    return res"
   ]
  },
  {
   "cell_type": "code",
   "execution_count": null,
   "metadata": {},
   "outputs": [],
   "source": [
    "for name in os.listdir(stockspath):\n",
    "    stock = pd.read_csv(os.path.join(stockspath,name))\n",
    "    stock = add_risk_free_column(stock)\n",
    "    stock = calculate_beta(stock)\n",
    "    stock = calculate_alpha(stock)\n",
    "    stock.to_csv(os.path.join(stockspath,\"ab\"+name),index=None)"
   ]
  },
  {
   "cell_type": "code",
   "execution_count": null,
   "metadata": {},
   "outputs": [],
   "source": []
  }
 ]
}