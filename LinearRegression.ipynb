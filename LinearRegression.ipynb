{
 "metadata": {
  "language_info": {
   "codemirror_mode": {
    "name": "ipython",
    "version": 3
   },
   "file_extension": ".py",
   "mimetype": "text/x-python",
   "name": "python",
   "nbconvert_exporter": "python",
   "pygments_lexer": "ipython3",
   "version": "3.8.3-final"
  },
  "orig_nbformat": 2,
  "kernelspec": {
   "name": "python3",
   "display_name": "Python 3.8.3 64-bit",
   "metadata": {
    "interpreter": {
     "hash": "2db524e06e9f5f4ffedc911c917cb75e12dbc923643829bf417064a77eb14d37"
    }
   }
  }
 },
 "nbformat": 4,
 "nbformat_minor": 2,
 "cells": [
  {
   "cell_type": "code",
   "execution_count": 1,
   "metadata": {},
   "outputs": [],
   "source": [
    "import pandas as pd\n",
    "import numpy as np \n",
    "import os\n",
    "from sklearn.model_selection import train_test_split\n",
    "from sklearn.linear_model import LinearRegression\n",
    "from sklearn import metrics\n",
    "from math import sqrt\n",
    "import statsmodels.api as sm\n",
    "from mlxtend.feature_selection import SequentialFeatureSelector as SFS\n",
    "from sklearn.linear_model import RidgeCV\n",
    "from sklearn.linear_model import LassoCV\n",
    "from sklearn.model_selection import GridSearchCV\n",
    "from sklearn.linear_model import Ridge\n",
    "from sklearn.linear_model import Lasso\n",
    "from sklearn.linear_model import ElasticNet\n",
    "from prettytable import PrettyTable\n",
    "import time \n",
    "import matplotlib\n",
    "import matplotlib.pyplot as plt\n",
    "import matplotlib.cm as cmx\n",
    "import matplotlib.colors as colors\n",
    "import matplotlib.patches as patches"
   ]
  },
  {
   "cell_type": "code",
   "execution_count": 2,
   "metadata": {},
   "outputs": [
    {
     "output_type": "execute_result",
     "data": {
      "text/plain": [
       "'f:\\\\PracticumProject\\\\StockAnalysisTool'"
      ]
     },
     "metadata": {},
     "execution_count": 2
    }
   ],
   "source": [
    "path = os.getcwd()\n",
    "path"
   ]
  },
  {
   "source": [
    "# PreProcessing Data"
   ],
   "cell_type": "markdown",
   "metadata": {}
  },
  {
   "cell_type": "code",
   "execution_count": 3,
   "metadata": {},
   "outputs": [],
   "source": [
    "def pre_process_data(data,null_threshold):\n",
    "    # data.replace(0, np.nan, inplace=True)\n",
    "    # print(data.shape)\n",
    "    # print(data.isnull().sum().sum())\n",
    "    data.drop(columns=['Unix Date','Date'],axis=1,inplace=True)\n",
    "    # data.Date = pd.to_datetime(data.Date)\n",
    "    total = data.shape[0]\n",
    "    for col in data.columns:\n",
    "        if null_threshold * total / 100 < data[col].isnull().sum():\n",
    "            data.drop(columns=[col],axis=1,inplace=True)\n",
    "    data.replace([np.inf, -np.inf], np.nan, inplace=True)\n",
    "    data.dropna(axis=0,inplace=True)\n",
    "    return data"
   ]
  },
  {
   "source": [
    "# Removing columns based on dependent column"
   ],
   "cell_type": "markdown",
   "metadata": {}
  },
  {
   "cell_type": "code",
   "execution_count": 4,
   "metadata": {},
   "outputs": [],
   "source": [
    "def dependent_column(data,column):\n",
    "    cols = [col for col in data.columns if \"next\" not in col.lower()]\n",
    "    cols.append(column)\n",
    "    data = data[cols]\n",
    "    return (data,column)"
   ]
  },
  {
   "source": [
    "# OLS Regression"
   ],
   "cell_type": "markdown",
   "metadata": {}
  },
  {
   "cell_type": "code",
   "execution_count": 5,
   "metadata": {},
   "outputs": [],
   "source": [
    "def OLS_Regression(X_train,Y_train):\n",
    "    X_train = np.array(X_train, dtype=float)\n",
    "    ols_model = sm.OLS(Y_train, X_train).fit()\n",
    "    \n",
    "    rsquared_adj = ols_model.rsquared_adj\n",
    "    aic = ols_model.aic\n",
    "    bic = ols_model.bic\n",
    "    fvalue = ols_model.fvalue\n",
    "    return {\"rsquared_adj\":rsquared_adj,\"aic\":aic,\"bic\":bic,\"fvalue\":fvalue}"
   ]
  },
  {
   "source": [
    "# Linear Regression"
   ],
   "cell_type": "markdown",
   "metadata": {}
  },
  {
   "cell_type": "code",
   "execution_count": 6,
   "metadata": {},
   "outputs": [],
   "source": [
    "def linear_regression(data,y):\n",
    "    # print(\"------ Linear Regression ------\")\n",
    "    X = data[data.columns[:-1]]\n",
    "    Y = data[y].values\n",
    "    X_train, X_test, Y_train, Y_test = train_test_split(X, Y, test_size=0.3, random_state=0)\n",
    "    model = LinearRegression(fit_intercept = True)  \n",
    "    model.fit(X_train, Y_train)\n",
    "    pred = model.predict(X_test)\n",
    "\n",
    "    confidence = model.score(X_test, Y_test)\n",
    "    rmse = sqrt(metrics.mean_squared_error(Y_test, pred))\n",
    "    mae = metrics.mean_absolute_error(Y_test, pred)\n",
    "    mse = metrics.mean_squared_error(Y_test, pred)\n",
    "    ols_values = OLS_Regression(X_train,Y_train)\n",
    "    return {\"root_mean_squared_error\":rmse,\"mean_absolute_error\":mae,\"mean_squared_error\":mse,\"OLS\":ols_values}"
   ]
  },
  {
   "source": [
    "# linear regression with forward selection"
   ],
   "cell_type": "markdown",
   "metadata": {}
  },
  {
   "cell_type": "code",
   "execution_count": 7,
   "metadata": {},
   "outputs": [],
   "source": [
    "def forward_selection(data, target, significance_level=0.05):\n",
    "    initial_features = data.columns.tolist()\n",
    "    best_features = []\n",
    "    while (len(initial_features)>0):\n",
    "        remaining_features = list(set(initial_features)-set(best_features))\n",
    "        new_pval = pd.Series(index=remaining_features)\n",
    "        for new_column in remaining_features:\n",
    "            model = sm.OLS(target, sm.add_constant(data[best_features+[new_column]]).astype(float)).fit()\n",
    "            new_pval[new_column] = model.pvalues[new_column]\n",
    "        min_p_value = new_pval.min()\n",
    "        if(min_p_value<significance_level):\n",
    "            best_features.append(new_pval.idxmin())\n",
    "        else:\n",
    "            break\n",
    "    return best_features"
   ]
  },
  {
   "cell_type": "code",
   "execution_count": 8,
   "metadata": {},
   "outputs": [],
   "source": [
    "def linear_regression_forward_selection(data,y):\n",
    "    # print(\"------ Linear Regression Forward Selection ------\")\n",
    "    X = data[data.columns[:-1]]\n",
    "    Y = data[y].values\n",
    "    forward_features = forward_selection(X,Y)\n",
    "    # print(forward_features)\n",
    "    return linear_regression(data[forward_features+[y]],y)"
   ]
  },
  {
   "source": [
    "# linear regression with backward elimination"
   ],
   "cell_type": "markdown",
   "metadata": {}
  },
  {
   "cell_type": "code",
   "execution_count": 9,
   "metadata": {},
   "outputs": [],
   "source": [
    "def backward_elimination(data, target,significance_level = 0.05):\n",
    "    features = data.columns.tolist()\n",
    "    while(len(features)>0):\n",
    "        features_with_constant = sm.add_constant(data[features]).astype(float)\n",
    "        p_values = sm.OLS(target, features_with_constant).fit().pvalues[1:]\n",
    "        max_p_value = p_values.max()\n",
    "        if(max_p_value >= significance_level):\n",
    "            excluded_feature = p_values.idxmax()\n",
    "            features.remove(excluded_feature)\n",
    "        else:\n",
    "            break \n",
    "    return features"
   ]
  },
  {
   "cell_type": "code",
   "execution_count": 10,
   "metadata": {},
   "outputs": [],
   "source": [
    "def linear_regression_backward_selection(data,y):\n",
    "    # print(\"------ Linear Regression Backward Selection ------\")\n",
    "    X = data[data.columns[:-1]]\n",
    "    Y = data[y].values\n",
    "    backward_features = backward_elimination(X,Y)\n",
    "    # print(backward_features)\n",
    "    return linear_regression(data[backward_features+[y]],y)"
   ]
  },
  {
   "source": [
    "# Using Inbuilt Forward Selection Method"
   ],
   "cell_type": "markdown",
   "metadata": {}
  },
  {
   "cell_type": "code",
   "execution_count": 11,
   "metadata": {},
   "outputs": [],
   "source": [
    "def forward_selection_inbuilt(X,Y,k,score):\n",
    "    sfs = SFS(LinearRegression(),k_features=k,forward=True,floating=False,scoring = score,cv = 0)\n",
    "    sfs.fit(X, Y)\n",
    "    lst = list(sfs.k_feature_names_)\n",
    "    return lst"
   ]
  },
  {
   "cell_type": "code",
   "execution_count": 12,
   "metadata": {},
   "outputs": [],
   "source": [
    "def linear_regression_forward_selection_inbuit(data,y):\n",
    "    # print(\"------ Linear Regression Forward Selection Inbuilt ------\")\n",
    "\n",
    "    X = data[data.columns[:-1]]\n",
    "    Y = data[y].values\n",
    "    scores = ['explained_variance','max_error','neg_mean_absolute_error','neg_mean_squared_error',\n",
    "                  'neg_root_mean_squared_error','neg_median_absolute_error','r2']\n",
    "    df = pd.DataFrame(columns=scores,index=range(1,data.shape[1]+1))\n",
    "    for k in range(1,data.shape[1]+1):\n",
    "        for score in scores:\n",
    "            sfs = forward_selection_inbuilt(X,Y,k,score)\n",
    "            df.loc[k,score] = sfs\n",
    "    df.to_csv(\"forwardFeatures.csv\",index=None)\n",
    "    return df"
   ]
  },
  {
   "source": [
    "# Using Inbuilt Backward Elimination Method"
   ],
   "cell_type": "markdown",
   "metadata": {}
  },
  {
   "cell_type": "code",
   "execution_count": 13,
   "metadata": {},
   "outputs": [],
   "source": [
    "def backward_selection_inbuilt(X,Y,k,score):\n",
    "    sfs = SFS(LinearRegression(),k_features=k,forward=False,floating=False,scoring = score,cv = 0)\n",
    "    sfs.fit(X, Y)\n",
    "    lst = list(sfs.k_feature_names_)\n",
    "    return lst"
   ]
  },
  {
   "cell_type": "code",
   "execution_count": 14,
   "metadata": {},
   "outputs": [],
   "source": [
    "def linear_regression_backward_selection_inbuit(data,y):\n",
    "    # print(\"------ Linear Regression Backward Selection Inbuilt ------\")\n",
    "    X = data[data.columns[:-1]]\n",
    "    Y = data[y].values\n",
    "    scores = ['explained_variance','max_error','neg_mean_absolute_error','neg_mean_squared_error',\n",
    "                  'neg_root_mean_squared_error','neg_median_absolute_error','r2']\n",
    "    df = pd.DataFrame(columns=scores,index=range(1,data.shape[1]+1))\n",
    "    for k in range(1,data.shape[1]+1):\n",
    "        for score in scores:\n",
    "            sfs = backward_selection_inbuilt(X,Y,k,score)\n",
    "            df.loc[k,score] = sfs\n",
    "    df.to_csv(\"backwardFeatures.csv\",index=None)\n",
    "    return df"
   ]
  },
  {
   "source": [
    "# Ridge Regression"
   ],
   "cell_type": "markdown",
   "metadata": {}
  },
  {
   "cell_type": "code",
   "execution_count": 15,
   "metadata": {},
   "outputs": [],
   "source": [
    "def bestparams_ridge(alpha,X_train,Y_train):\n",
    "    \n",
    "    ridge = Ridge(alpha=1).fit(X_train,Y_train)\n",
    "    \n",
    "    param_grid = dict(alpha=alpha)\n",
    "    \n",
    "    grid = GridSearchCV(estimator=ridge, param_grid=param_grid, scoring='r2')\n",
    "    \n",
    "    grid.fit(X_train,Y_train)\n",
    "    \n",
    "    alpha_val = grid.best_estimator_.alpha\n",
    "    \n",
    "    return alpha_val"
   ]
  },
  {
   "cell_type": "code",
   "execution_count": 16,
   "metadata": {},
   "outputs": [],
   "source": [
    "def ridge_regression(data,y):\n",
    "    \n",
    "    # print(\"------ Ridge Regression ------\")\n",
    "\n",
    "    X = data[data.columns[:-1]]\n",
    "    Y = data[y].values\n",
    "    \n",
    "    X_train, X_test, Y_train, Y_test = train_test_split(X, Y, test_size=0.3, random_state=0)\n",
    "    \n",
    "    # selection of alpha value from the respective array values\n",
    "    alpha = np.array([1,0.1,0.01,0.001,0.0001,0])\n",
    "    best = bestparams_ridge(alpha,X_train,Y_train)\n",
    "    # print(\"Best Alpha:\", best) # best alpha value\n",
    "    \n",
    "    # Re-selecting the alpha value based on the above selected alpha value\n",
    "    alpha1 = np.arange(best-10,best+10)\n",
    "    best_alpha = bestparams_ridge(alpha1,X_train,Y_train)\n",
    "    # print(\"Best Alpha after tuning : \", best_alpha)\n",
    "    # Ridge regression with the above best alpha value and the train datasets.\n",
    "    clf = Ridge(alpha=best_alpha)\n",
    "    clf.fit(X_train, Y_train)\n",
    "    \n",
    "    pred = clf.predict(X_test)\n",
    "    \n",
    "    confidence = clf.score(X_test, Y_test)\n",
    "    rmse = sqrt(metrics.mean_squared_error(Y_test, pred))\n",
    "    mae = metrics.mean_absolute_error(Y_test, pred)\n",
    "    mse = metrics.mean_squared_error(Y_test, pred)\n",
    "\n",
    "    ols_values = OLS_Regression(X_train,Y_train)\n",
    "\n",
    "    return {\"root_mean_squared_error\":rmse,\"mean_absolute_error\":mae,\"mean_squared_error\":mse,\"OLS\":ols_values}"
   ]
  },
  {
   "source": [
    "# Lasso Regression"
   ],
   "cell_type": "markdown",
   "metadata": {}
  },
  {
   "cell_type": "code",
   "execution_count": 17,
   "metadata": {},
   "outputs": [],
   "source": [
    "def bestparams_lasso(alpha,X_train,Y_train):\n",
    "    \n",
    "    lasso = Lasso(alpha=1).fit(X_train,Y_train)\n",
    "    \n",
    "    param_grid = dict(alpha=alpha)\n",
    "    \n",
    "    grid = GridSearchCV(estimator=lasso, param_grid=param_grid, scoring='r2')\n",
    "    \n",
    "    grid.fit(X_train,Y_train)\n",
    "    \n",
    "    alpha_val = grid.best_estimator_.alpha\n",
    "    \n",
    "    return alpha_val"
   ]
  },
  {
   "cell_type": "code",
   "execution_count": 18,
   "metadata": {},
   "outputs": [],
   "source": [
    "def lasso_regression(data,y):\n",
    "    \n",
    "    # print(\"------ Lasso Regression ------\")\n",
    "\n",
    "    X = data[data.columns[:-1]]\n",
    "    Y = data[y].values\n",
    "    \n",
    "    X_train, X_test, Y_train, Y_test = train_test_split(X, Y, test_size=0.3, random_state=0)\n",
    "    \n",
    "    # selection of alpha value from the respective array values\n",
    "    alpha = np.array([1,0.1,0.01,0.001,0.0001,0])\n",
    "    best = bestparams_lasso(alpha,X_train,Y_train)\n",
    "    # print(\"Best Alpha:\", best) # best alpha value\n",
    "    \n",
    "    # Re-selecting the alpha value based on the above selected alpha value\n",
    "    alpha1 = np.arange(best-10,best+10)\n",
    "    best_alpha = bestparams_lasso(alpha1,X_train,Y_train)\n",
    "    # print(\"Best Alpha after tuning : \", best_alpha)\n",
    "    # Lasso regression with the above best alpha value and the train datasets.\n",
    "    clf = Lasso(alpha=best_alpha)\n",
    "    clf.fit(X_train, Y_train)\n",
    "    \n",
    "    pred = clf.predict(X_test)\n",
    "    \n",
    "    confidence = clf.score(X_test, Y_test)\n",
    "    rmse = sqrt(metrics.mean_squared_error(Y_test, pred))\n",
    "    mae = metrics.mean_absolute_error(Y_test, pred)\n",
    "    mse = metrics.mean_squared_error(Y_test, pred)\n",
    "    ols_values = OLS_Regression(X_train,Y_train)\n",
    "\n",
    "    return {\"root_mean_squared_error\":rmse,\"mean_absolute_error\":mae,\"mean_squared_error\":mse,\"OLS\":ols_values}"
   ]
  },
  {
   "source": [
    "# Elastic Regression"
   ],
   "cell_type": "markdown",
   "metadata": {}
  },
  {
   "cell_type": "code",
   "execution_count": 19,
   "metadata": {},
   "outputs": [],
   "source": [
    "def bestparams_elastic(alphas,l1,X_train,Y_train):\n",
    "    \n",
    "    elastic_net = ElasticNet(alpha=1, l1_ratio=0.2).fit(X_train, Y_train)\n",
    "    param_grid = dict(alpha=alphas, l1_ratio=l1)\n",
    "    \n",
    "    grid = GridSearchCV(estimator=elastic_net, param_grid=param_grid, scoring='r2')\n",
    "    \n",
    "    grid_result = grid.fit(X_train, Y_train)\n",
    "    \n",
    "    alpha_val = grid_result.best_estimator_.alpha\n",
    "    l1_val = grid_result.best_estimator_.l1_ratio\n",
    "    \n",
    "    return (alpha_val,l1_val)"
   ]
  },
  {
   "cell_type": "code",
   "execution_count": 20,
   "metadata": {},
   "outputs": [],
   "source": [
    "def elastic_net_regression(data,y):\n",
    "\n",
    "    # print(\"------ Elastic Net Regression ------\")\n",
    "    \n",
    "    X = data[data.columns[:-1]]\n",
    "    Y = data[y].values\n",
    "    \n",
    "    X_train, X_test, Y_train, Y_test = train_test_split(X, Y, test_size=0.3, random_state=0)\n",
    "    \n",
    "    # selection of alpha value from the respective array values\n",
    "    \n",
    "    alpha = np.array([0,0.1,0.001,0.0001,1])\n",
    "    l1_ratio = np.array([0, 0.1, 0.2, 0.3, 0.4, 0.5, 0.6, 0.7, 0.8, 0.9, 1])\n",
    "    \n",
    "    best = bestparams_elastic(alpha,l1_ratio,X_train,Y_train)\n",
    "    # print(\"Best Alpha:\", best[0]) # best alpha value\n",
    "    # print(\"Best l1 - value:\", best[1])\n",
    "    \n",
    "    # Re-selecting the alpha value based on the above selected alpha value\n",
    "    \n",
    "    alpha1 = np.arange(best[0]/10,best[0]*10)\n",
    "    best_alpha = bestparams_elastic(alpha1,l1_ratio,X_train,Y_train)\n",
    "    # print(\"Best Alpha after tuning : \", best_alpha[0])\n",
    "    # print(\"Best l1 after tuning : \", best_alpha[1])\n",
    "    clf = ElasticNet(alpha=best_alpha[0],l1_ratio = best_alpha[1])\n",
    "    clf.fit(X_train, Y_train)\n",
    "    \n",
    "    pred = clf.predict(X_test)\n",
    "    \n",
    "    confidence = clf.score(X_test, Y_test)\n",
    "    \n",
    "    rmse = sqrt(metrics.mean_squared_error(Y_test, pred))\n",
    "    mae = metrics.mean_absolute_error(Y_test, pred)\n",
    "    mse = metrics.mean_squared_error(Y_test, pred)\n",
    "    ols_values = OLS_Regression(X_train,Y_train)\n",
    "    \n",
    "    # coeff_vs_Regularization(X_train,Y_train)\n",
    "\n",
    "    return {\"root_mean_squared_error\":rmse,\"mean_absolute_error\":mae,\"mean_squared_error\":mse,\"OLS\":ols_values}\n",
    "    "
   ]
  },
  {
   "cell_type": "code",
   "execution_count": 21,
   "metadata": {},
   "outputs": [],
   "source": [
    "def coeff_vs_Regularization(X_train,Y_train):\n",
    "    coefs = []\n",
    "    n_alphas = 200\n",
    "    alphas = np.logspace(-10, -2, n_alphas)\n",
    "\n",
    "    for a in alphas:\n",
    "        elastic = ElasticNet(alpha=a)\n",
    "        elastic.fit(X_train, Y_train)\n",
    "        coefs.append(elastic.coef_)\n",
    "    \n",
    "    ax = plt.gca()\n",
    "\n",
    "    ax.plot(alphas, coefs)\n",
    "    ax.set_xscale('log')\n",
    "    ax.set_xlim(ax.get_xlim()[::-1])  # reverse axis\n",
    "    plt.xlabel('alpha(log scale)')\n",
    "    plt.ylabel('Coefficients')\n",
    "    plt.title('ElasticNet - Coefficients Vs Regularization')\n",
    "    plt.axis('tight')\n",
    "    plt.show()"
   ]
  },
  {
   "source": [
    "# Results "
   ],
   "cell_type": "markdown",
   "metadata": {}
  },
  {
   "cell_type": "code",
   "execution_count": 22,
   "metadata": {},
   "outputs": [],
   "source": [
    "columns = [\"company\",'root_mean_squared_error', 'mean_absolute_error', 'mean_squared_error','rsquared_adj', 'aic', 'bic', 'fvalue']\n",
    "models = [\"linear_regression\",\"linear_regression_forward_selection\",\"linear_regression_backward_selection\",\"lasso_regression\",\"ridge_regression\",\"elastic_net_regression\"]"
   ]
  },
  {
   "cell_type": "code",
   "execution_count": 23,
   "metadata": {},
   "outputs": [],
   "source": [
    "dfs = {}\n",
    "dfs = {k:pd.DataFrame(columns=columns) for k in models}\n",
    "def create_df(filename,model,result):\n",
    "    values = [filename] + [v for k,v in result.items() if not isinstance(v,dict)] + list(result[\"OLS\"].values())\n",
    "    dfs[model].loc[dfs[model].shape[0]] = values"
   ]
  },
  {
   "cell_type": "code",
   "execution_count": 24,
   "metadata": {},
   "outputs": [
    {
     "output_type": "stream",
     "name": "stdout",
     "text": [
      "gr500112 132.39638710021973\n",
      "gr500180 116.28825426101685\n",
      "gr500182 111.4531729221344\n",
      "gr500209 125.7742691040039\n",
      "gr500325 210.97310996055603\n",
      "gr500680 88.80196833610535\n",
      "gr507685 78.82978391647339\n",
      "gr530965 83.41498255729675\n",
      "gr532174 120.63194990158081\n",
      "gr532210 65.7193398475647\n",
      "gr532540 78.46716809272766\n",
      "Wall time: 20min 12s\n"
     ]
    }
   ],
   "source": [
    "%%time\n",
    "for filename in os.listdir(os.path.join(path,\"Data/Stock\")):\n",
    "    if filename.startswith(\"gr\"):\n",
    "        start = time.time()\n",
    "        df = pd.read_csv(os.path.join(path,\"Data\\Stock\\\\\"+filename))\n",
    "        df = pre_process_data(df,60)\n",
    "        column = \"Next Day Close Price GR\"\n",
    "        (data,column) = dependent_column(df,column)\n",
    "        result = linear_regression(data,column)\n",
    "        create_df(filename,linear_regression.__name__,result)\n",
    "        result = linear_regression_forward_selection(data,column)\n",
    "        create_df(filename,linear_regression_forward_selection.__name__,result)\n",
    "        result = linear_regression_backward_selection(data,column)\n",
    "        create_df(filename,linear_regression_backward_selection.__name__,result)\n",
    "        result = ridge_regression(data,column)\n",
    "        create_df(filename,ridge_regression.__name__,result)\n",
    "        result = lasso_regression(data,column)\n",
    "        create_df(filename,lasso_regression.__name__,result)\n",
    "        result = elastic_net_regression(data,column)\n",
    "        create_df(filename,elastic_net_regression.__name__,result)\n",
    "        end = time.time()\n",
    "        print(os.path.splitext(filename)[0],end-start)"
   ]
  },
  {
   "cell_type": "code",
   "execution_count": 25,
   "metadata": {},
   "outputs": [],
   "source": [
    "for name, df in dfs.items():\n",
    "    df.to_csv(os.path.join(path,\"Results\\\\\"+name+\".csv\"),index=None)"
   ]
  },
  {
   "cell_type": "code",
   "execution_count": 33,
   "metadata": {},
   "outputs": [
    {
     "output_type": "display_data",
     "data": {
      "text/plain": "'linear_regression'"
     },
     "metadata": {}
    },
    {
     "output_type": "display_data",
     "data": {
      "text/plain": "         company  root_mean_squared_error  mean_absolute_error  \\\n0   gr500112.csv                 0.294745             0.026969   \n1   gr500180.csv                 0.054732             0.015361   \n2   gr500182.csv                 0.016879             0.012354   \n3   gr500209.csv                 0.019788             0.013603   \n4   gr500325.csv                 0.021471             0.014990   \n5   gr500680.csv                 0.014956             0.010623   \n6   gr507685.csv                 0.171958             0.019054   \n7   gr530965.csv                 0.038992             0.017378   \n8   gr532174.csv                 0.137580             0.023669   \n9   gr532210.csv                 0.082219             0.018281   \n10  gr532540.csv                 0.051475             0.015344   \n\n    mean_squared_error  rsquared_adj           aic           bic       fvalue  \n0             0.086875      0.988420 -10162.952522  -9592.670796  1786.611107  \n1             0.002996      0.925198  -9393.639962  -8823.503108   259.379178  \n2             0.000285      0.302150 -11309.288799 -10750.110759    10.260305  \n3             0.000392      0.481386  -8747.606875  -8177.228683    20.436857  \n4             0.000461      0.373816  -8424.807571  -7854.381181    13.506598  \n5             0.000224      0.315304 -11349.874905 -10792.844454    10.544937  \n6             0.029570      0.348073  -9884.733145  -9314.692988    12.142804  \n7             0.001520      0.372609  -8927.509662  -8357.517888    13.272032  \n8             0.018928      0.926628  -9487.679759  -8917.349789   265.326785  \n9             0.006760      0.247735  -9950.797829  -9383.852006     7.602691  \n10            0.002650      0.567855 -10410.521927  -9847.959234    26.466039  ",
      "text/html": "<div>\n<style scoped>\n    .dataframe tbody tr th:only-of-type {\n        vertical-align: middle;\n    }\n\n    .dataframe tbody tr th {\n        vertical-align: top;\n    }\n\n    .dataframe thead th {\n        text-align: right;\n    }\n</style>\n<table border=\"1\" class=\"dataframe\">\n  <thead>\n    <tr style=\"text-align: right;\">\n      <th></th>\n      <th>company</th>\n      <th>root_mean_squared_error</th>\n      <th>mean_absolute_error</th>\n      <th>mean_squared_error</th>\n      <th>rsquared_adj</th>\n      <th>aic</th>\n      <th>bic</th>\n      <th>fvalue</th>\n    </tr>\n  </thead>\n  <tbody>\n    <tr>\n      <th>0</th>\n      <td>gr500112.csv</td>\n      <td>0.294745</td>\n      <td>0.026969</td>\n      <td>0.086875</td>\n      <td>0.988420</td>\n      <td>-10162.952522</td>\n      <td>-9592.670796</td>\n      <td>1786.611107</td>\n    </tr>\n    <tr>\n      <th>1</th>\n      <td>gr500180.csv</td>\n      <td>0.054732</td>\n      <td>0.015361</td>\n      <td>0.002996</td>\n      <td>0.925198</td>\n      <td>-9393.639962</td>\n      <td>-8823.503108</td>\n      <td>259.379178</td>\n    </tr>\n    <tr>\n      <th>2</th>\n      <td>gr500182.csv</td>\n      <td>0.016879</td>\n      <td>0.012354</td>\n      <td>0.000285</td>\n      <td>0.302150</td>\n      <td>-11309.288799</td>\n      <td>-10750.110759</td>\n      <td>10.260305</td>\n    </tr>\n    <tr>\n      <th>3</th>\n      <td>gr500209.csv</td>\n      <td>0.019788</td>\n      <td>0.013603</td>\n      <td>0.000392</td>\n      <td>0.481386</td>\n      <td>-8747.606875</td>\n      <td>-8177.228683</td>\n      <td>20.436857</td>\n    </tr>\n    <tr>\n      <th>4</th>\n      <td>gr500325.csv</td>\n      <td>0.021471</td>\n      <td>0.014990</td>\n      <td>0.000461</td>\n      <td>0.373816</td>\n      <td>-8424.807571</td>\n      <td>-7854.381181</td>\n      <td>13.506598</td>\n    </tr>\n    <tr>\n      <th>5</th>\n      <td>gr500680.csv</td>\n      <td>0.014956</td>\n      <td>0.010623</td>\n      <td>0.000224</td>\n      <td>0.315304</td>\n      <td>-11349.874905</td>\n      <td>-10792.844454</td>\n      <td>10.544937</td>\n    </tr>\n    <tr>\n      <th>6</th>\n      <td>gr507685.csv</td>\n      <td>0.171958</td>\n      <td>0.019054</td>\n      <td>0.029570</td>\n      <td>0.348073</td>\n      <td>-9884.733145</td>\n      <td>-9314.692988</td>\n      <td>12.142804</td>\n    </tr>\n    <tr>\n      <th>7</th>\n      <td>gr530965.csv</td>\n      <td>0.038992</td>\n      <td>0.017378</td>\n      <td>0.001520</td>\n      <td>0.372609</td>\n      <td>-8927.509662</td>\n      <td>-8357.517888</td>\n      <td>13.272032</td>\n    </tr>\n    <tr>\n      <th>8</th>\n      <td>gr532174.csv</td>\n      <td>0.137580</td>\n      <td>0.023669</td>\n      <td>0.018928</td>\n      <td>0.926628</td>\n      <td>-9487.679759</td>\n      <td>-8917.349789</td>\n      <td>265.326785</td>\n    </tr>\n    <tr>\n      <th>9</th>\n      <td>gr532210.csv</td>\n      <td>0.082219</td>\n      <td>0.018281</td>\n      <td>0.006760</td>\n      <td>0.247735</td>\n      <td>-9950.797829</td>\n      <td>-9383.852006</td>\n      <td>7.602691</td>\n    </tr>\n    <tr>\n      <th>10</th>\n      <td>gr532540.csv</td>\n      <td>0.051475</td>\n      <td>0.015344</td>\n      <td>0.002650</td>\n      <td>0.567855</td>\n      <td>-10410.521927</td>\n      <td>-9847.959234</td>\n      <td>26.466039</td>\n    </tr>\n  </tbody>\n</table>\n</div>"
     },
     "metadata": {}
    },
    {
     "output_type": "display_data",
     "data": {
      "text/plain": "'linear_regression_forward_selection'"
     },
     "metadata": {}
    },
    {
     "output_type": "display_data",
     "data": {
      "text/plain": "         company  root_mean_squared_error  mean_absolute_error  \\\n0   gr500112.csv                 0.293622             0.026588   \n1   gr500180.csv                 0.041360             0.013843   \n2   gr500182.csv                 0.016280             0.011794   \n3   gr500209.csv                 0.019066             0.012865   \n4   gr500325.csv                 0.019056             0.013416   \n5   gr500680.csv                 0.014547             0.010349   \n6   gr507685.csv                 0.156637             0.018276   \n7   gr530965.csv                 0.038454             0.016596   \n8   gr532174.csv                 0.124765             0.021589   \n9   gr532210.csv                 0.072279             0.016618   \n10  gr532540.csv                 0.050678             0.014956   \n\n    mean_squared_error  rsquared_adj           aic           bic       fvalue  \n0             0.086214      0.987711 -10094.319438  -9851.526228  3913.207377  \n1             0.001711      0.912649  -9149.024182  -9041.770715  1150.283665  \n2             0.000265      0.006721 -10658.032496 -10612.846392     2.773713  \n3             0.000364      0.408498  -8555.254516  -8464.897575    91.426991  \n4             0.000363      0.255333  -8143.463445  -8047.451083    43.275441  \n5             0.000212      0.008076 -10678.801794 -10639.415803     3.386640  \n6             0.024535      0.141348  -9395.122559  -9316.107092    25.551253  \n7             0.001479      0.228406  -8579.261035  -8494.608792    42.186024  \n8             0.015566      0.901678  -8959.434773  -8880.379134  1372.662591  \n9             0.005224      0.057739  -9577.238388  -9487.425188     8.755440  \n10            0.002568      0.339261  -9667.053839  -9583.504925    67.372951  ",
      "text/html": "<div>\n<style scoped>\n    .dataframe tbody tr th:only-of-type {\n        vertical-align: middle;\n    }\n\n    .dataframe tbody tr th {\n        vertical-align: top;\n    }\n\n    .dataframe thead th {\n        text-align: right;\n    }\n</style>\n<table border=\"1\" class=\"dataframe\">\n  <thead>\n    <tr style=\"text-align: right;\">\n      <th></th>\n      <th>company</th>\n      <th>root_mean_squared_error</th>\n      <th>mean_absolute_error</th>\n      <th>mean_squared_error</th>\n      <th>rsquared_adj</th>\n      <th>aic</th>\n      <th>bic</th>\n      <th>fvalue</th>\n    </tr>\n  </thead>\n  <tbody>\n    <tr>\n      <th>0</th>\n      <td>gr500112.csv</td>\n      <td>0.293622</td>\n      <td>0.026588</td>\n      <td>0.086214</td>\n      <td>0.987711</td>\n      <td>-10094.319438</td>\n      <td>-9851.526228</td>\n      <td>3913.207377</td>\n    </tr>\n    <tr>\n      <th>1</th>\n      <td>gr500180.csv</td>\n      <td>0.041360</td>\n      <td>0.013843</td>\n      <td>0.001711</td>\n      <td>0.912649</td>\n      <td>-9149.024182</td>\n      <td>-9041.770715</td>\n      <td>1150.283665</td>\n    </tr>\n    <tr>\n      <th>2</th>\n      <td>gr500182.csv</td>\n      <td>0.016280</td>\n      <td>0.011794</td>\n      <td>0.000265</td>\n      <td>0.006721</td>\n      <td>-10658.032496</td>\n      <td>-10612.846392</td>\n      <td>2.773713</td>\n    </tr>\n    <tr>\n      <th>3</th>\n      <td>gr500209.csv</td>\n      <td>0.019066</td>\n      <td>0.012865</td>\n      <td>0.000364</td>\n      <td>0.408498</td>\n      <td>-8555.254516</td>\n      <td>-8464.897575</td>\n      <td>91.426991</td>\n    </tr>\n    <tr>\n      <th>4</th>\n      <td>gr500325.csv</td>\n      <td>0.019056</td>\n      <td>0.013416</td>\n      <td>0.000363</td>\n      <td>0.255333</td>\n      <td>-8143.463445</td>\n      <td>-8047.451083</td>\n      <td>43.275441</td>\n    </tr>\n    <tr>\n      <th>5</th>\n      <td>gr500680.csv</td>\n      <td>0.014547</td>\n      <td>0.010349</td>\n      <td>0.000212</td>\n      <td>0.008076</td>\n      <td>-10678.801794</td>\n      <td>-10639.415803</td>\n      <td>3.386640</td>\n    </tr>\n    <tr>\n      <th>6</th>\n      <td>gr507685.csv</td>\n      <td>0.156637</td>\n      <td>0.018276</td>\n      <td>0.024535</td>\n      <td>0.141348</td>\n      <td>-9395.122559</td>\n      <td>-9316.107092</td>\n      <td>25.551253</td>\n    </tr>\n    <tr>\n      <th>7</th>\n      <td>gr530965.csv</td>\n      <td>0.038454</td>\n      <td>0.016596</td>\n      <td>0.001479</td>\n      <td>0.228406</td>\n      <td>-8579.261035</td>\n      <td>-8494.608792</td>\n      <td>42.186024</td>\n    </tr>\n    <tr>\n      <th>8</th>\n      <td>gr532174.csv</td>\n      <td>0.124765</td>\n      <td>0.021589</td>\n      <td>0.015566</td>\n      <td>0.901678</td>\n      <td>-8959.434773</td>\n      <td>-8880.379134</td>\n      <td>1372.662591</td>\n    </tr>\n    <tr>\n      <th>9</th>\n      <td>gr532210.csv</td>\n      <td>0.072279</td>\n      <td>0.016618</td>\n      <td>0.005224</td>\n      <td>0.057739</td>\n      <td>-9577.238388</td>\n      <td>-9487.425188</td>\n      <td>8.755440</td>\n    </tr>\n    <tr>\n      <th>10</th>\n      <td>gr532540.csv</td>\n      <td>0.050678</td>\n      <td>0.014956</td>\n      <td>0.002568</td>\n      <td>0.339261</td>\n      <td>-9667.053839</td>\n      <td>-9583.504925</td>\n      <td>67.372951</td>\n    </tr>\n  </tbody>\n</table>\n</div>"
     },
     "metadata": {}
    },
    {
     "output_type": "display_data",
     "data": {
      "text/plain": "'linear_regression_backward_selection'"
     },
     "metadata": {}
    },
    {
     "output_type": "display_data",
     "data": {
      "text/plain": "         company  root_mean_squared_error  mean_absolute_error  \\\n0   gr500112.csv                 0.294303             0.026754   \n1   gr500180.csv                 0.042053             0.013910   \n2   gr500182.csv                 0.016319             0.011831   \n3   gr500209.csv                 0.019072             0.012805   \n4   gr500325.csv                 0.019687             0.013915   \n5   gr500680.csv                 0.014500             0.010305   \n6   gr507685.csv                 0.158746             0.018466   \n7   gr530965.csv                 0.037971             0.016508   \n8   gr532174.csv                 0.123427             0.021365   \n9   gr532210.csv                 0.078248             0.017437   \n10  gr532540.csv                 0.050995             0.015008   \n\n    mean_squared_error  rsquared_adj           aic           bic       fvalue  \n0             0.086614      0.987641 -10071.672863  -9766.769762  3098.383175  \n1             0.001768      0.918135  -9278.667651  -9137.544667   938.598393  \n2             0.000266      0.010959 -10665.006124 -10608.523493     3.323470  \n3             0.000364      0.412507  -8566.528446  -8459.229578    78.421206  \n4             0.000388      0.363253  -8456.798506  -8276.069352    38.366556  \n5             0.000210      0.009396 -10677.552555 -10615.660283     2.769428  \n6             0.025200      0.164559  -9435.527841  -9260.565020    14.267043  \n7             0.001442      0.241026  -8609.710925  -8502.484750    35.882384  \n8             0.015234      0.925215  -9499.927830  -9234.526755   552.200923  \n9             0.006123      0.201535  -9900.691786  -9743.518687    19.254164  \n10            0.002601      0.391372  -9803.664719  -9592.007468    33.811980  ",
      "text/html": "<div>\n<style scoped>\n    .dataframe tbody tr th:only-of-type {\n        vertical-align: middle;\n    }\n\n    .dataframe tbody tr th {\n        vertical-align: top;\n    }\n\n    .dataframe thead th {\n        text-align: right;\n    }\n</style>\n<table border=\"1\" class=\"dataframe\">\n  <thead>\n    <tr style=\"text-align: right;\">\n      <th></th>\n      <th>company</th>\n      <th>root_mean_squared_error</th>\n      <th>mean_absolute_error</th>\n      <th>mean_squared_error</th>\n      <th>rsquared_adj</th>\n      <th>aic</th>\n      <th>bic</th>\n      <th>fvalue</th>\n    </tr>\n  </thead>\n  <tbody>\n    <tr>\n      <th>0</th>\n      <td>gr500112.csv</td>\n      <td>0.294303</td>\n      <td>0.026754</td>\n      <td>0.086614</td>\n      <td>0.987641</td>\n      <td>-10071.672863</td>\n      <td>-9766.769762</td>\n      <td>3098.383175</td>\n    </tr>\n    <tr>\n      <th>1</th>\n      <td>gr500180.csv</td>\n      <td>0.042053</td>\n      <td>0.013910</td>\n      <td>0.001768</td>\n      <td>0.918135</td>\n      <td>-9278.667651</td>\n      <td>-9137.544667</td>\n      <td>938.598393</td>\n    </tr>\n    <tr>\n      <th>2</th>\n      <td>gr500182.csv</td>\n      <td>0.016319</td>\n      <td>0.011831</td>\n      <td>0.000266</td>\n      <td>0.010959</td>\n      <td>-10665.006124</td>\n      <td>-10608.523493</td>\n      <td>3.323470</td>\n    </tr>\n    <tr>\n      <th>3</th>\n      <td>gr500209.csv</td>\n      <td>0.019072</td>\n      <td>0.012805</td>\n      <td>0.000364</td>\n      <td>0.412507</td>\n      <td>-8566.528446</td>\n      <td>-8459.229578</td>\n      <td>78.421206</td>\n    </tr>\n    <tr>\n      <th>4</th>\n      <td>gr500325.csv</td>\n      <td>0.019687</td>\n      <td>0.013915</td>\n      <td>0.000388</td>\n      <td>0.363253</td>\n      <td>-8456.798506</td>\n      <td>-8276.069352</td>\n      <td>38.366556</td>\n    </tr>\n    <tr>\n      <th>5</th>\n      <td>gr500680.csv</td>\n      <td>0.014500</td>\n      <td>0.010305</td>\n      <td>0.000210</td>\n      <td>0.009396</td>\n      <td>-10677.552555</td>\n      <td>-10615.660283</td>\n      <td>2.769428</td>\n    </tr>\n    <tr>\n      <th>6</th>\n      <td>gr507685.csv</td>\n      <td>0.158746</td>\n      <td>0.018466</td>\n      <td>0.025200</td>\n      <td>0.164559</td>\n      <td>-9435.527841</td>\n      <td>-9260.565020</td>\n      <td>14.267043</td>\n    </tr>\n    <tr>\n      <th>7</th>\n      <td>gr530965.csv</td>\n      <td>0.037971</td>\n      <td>0.016508</td>\n      <td>0.001442</td>\n      <td>0.241026</td>\n      <td>-8609.710925</td>\n      <td>-8502.484750</td>\n      <td>35.882384</td>\n    </tr>\n    <tr>\n      <th>8</th>\n      <td>gr532174.csv</td>\n      <td>0.123427</td>\n      <td>0.021365</td>\n      <td>0.015234</td>\n      <td>0.925215</td>\n      <td>-9499.927830</td>\n      <td>-9234.526755</td>\n      <td>552.200923</td>\n    </tr>\n    <tr>\n      <th>9</th>\n      <td>gr532210.csv</td>\n      <td>0.078248</td>\n      <td>0.017437</td>\n      <td>0.006123</td>\n      <td>0.201535</td>\n      <td>-9900.691786</td>\n      <td>-9743.518687</td>\n      <td>19.254164</td>\n    </tr>\n    <tr>\n      <th>10</th>\n      <td>gr532540.csv</td>\n      <td>0.050995</td>\n      <td>0.015008</td>\n      <td>0.002601</td>\n      <td>0.391372</td>\n      <td>-9803.664719</td>\n      <td>-9592.007468</td>\n      <td>33.811980</td>\n    </tr>\n  </tbody>\n</table>\n</div>"
     },
     "metadata": {}
    },
    {
     "output_type": "display_data",
     "data": {
      "text/plain": "'lasso_regression'"
     },
     "metadata": {}
    },
    {
     "output_type": "display_data",
     "data": {
      "text/plain": "         company  root_mean_squared_error  mean_absolute_error  \\\n0   gr500112.csv                 0.288589             0.027576   \n1   gr500180.csv                 0.047286             0.014849   \n2   gr500182.csv                 0.016836             0.012327   \n3   gr500209.csv                 0.019026             0.012917   \n4   gr500325.csv                 0.020917             0.014820   \n5   gr500680.csv                 0.014902             0.010594   \n6   gr507685.csv                 0.035956             0.013299   \n7   gr530965.csv                 0.045089             0.017239   \n8   gr532174.csv                 0.136801             0.023488   \n9   gr532210.csv                 0.052104             0.016364   \n10  gr532540.csv                 0.053297             0.015860   \n\n    mean_squared_error  rsquared_adj           aic           bic       fvalue  \n0             0.083284      0.988420 -10162.952522  -9592.670796  1786.611107  \n1             0.002236      0.925198  -9393.639962  -8823.503108   259.379178  \n2             0.000283      0.302150 -11309.288799 -10750.110759    10.260305  \n3             0.000362      0.481386  -8747.606875  -8177.228683    20.436857  \n4             0.000438      0.373816  -8424.807571  -7854.381181    13.506598  \n5             0.000222      0.315304 -11349.874905 -10792.844454    10.544937  \n6             0.001293      0.348073  -9884.733145  -9314.692988    12.142804  \n7             0.002033      0.372609  -8927.509662  -8357.517888    13.272032  \n8             0.018715      0.926628  -9487.679759  -8917.349789   265.326785  \n9             0.002715      0.247735  -9950.797829  -9383.852006     7.602691  \n10            0.002841      0.567855 -10410.521927  -9847.959234    26.466039  ",
      "text/html": "<div>\n<style scoped>\n    .dataframe tbody tr th:only-of-type {\n        vertical-align: middle;\n    }\n\n    .dataframe tbody tr th {\n        vertical-align: top;\n    }\n\n    .dataframe thead th {\n        text-align: right;\n    }\n</style>\n<table border=\"1\" class=\"dataframe\">\n  <thead>\n    <tr style=\"text-align: right;\">\n      <th></th>\n      <th>company</th>\n      <th>root_mean_squared_error</th>\n      <th>mean_absolute_error</th>\n      <th>mean_squared_error</th>\n      <th>rsquared_adj</th>\n      <th>aic</th>\n      <th>bic</th>\n      <th>fvalue</th>\n    </tr>\n  </thead>\n  <tbody>\n    <tr>\n      <th>0</th>\n      <td>gr500112.csv</td>\n      <td>0.288589</td>\n      <td>0.027576</td>\n      <td>0.083284</td>\n      <td>0.988420</td>\n      <td>-10162.952522</td>\n      <td>-9592.670796</td>\n      <td>1786.611107</td>\n    </tr>\n    <tr>\n      <th>1</th>\n      <td>gr500180.csv</td>\n      <td>0.047286</td>\n      <td>0.014849</td>\n      <td>0.002236</td>\n      <td>0.925198</td>\n      <td>-9393.639962</td>\n      <td>-8823.503108</td>\n      <td>259.379178</td>\n    </tr>\n    <tr>\n      <th>2</th>\n      <td>gr500182.csv</td>\n      <td>0.016836</td>\n      <td>0.012327</td>\n      <td>0.000283</td>\n      <td>0.302150</td>\n      <td>-11309.288799</td>\n      <td>-10750.110759</td>\n      <td>10.260305</td>\n    </tr>\n    <tr>\n      <th>3</th>\n      <td>gr500209.csv</td>\n      <td>0.019026</td>\n      <td>0.012917</td>\n      <td>0.000362</td>\n      <td>0.481386</td>\n      <td>-8747.606875</td>\n      <td>-8177.228683</td>\n      <td>20.436857</td>\n    </tr>\n    <tr>\n      <th>4</th>\n      <td>gr500325.csv</td>\n      <td>0.020917</td>\n      <td>0.014820</td>\n      <td>0.000438</td>\n      <td>0.373816</td>\n      <td>-8424.807571</td>\n      <td>-7854.381181</td>\n      <td>13.506598</td>\n    </tr>\n    <tr>\n      <th>5</th>\n      <td>gr500680.csv</td>\n      <td>0.014902</td>\n      <td>0.010594</td>\n      <td>0.000222</td>\n      <td>0.315304</td>\n      <td>-11349.874905</td>\n      <td>-10792.844454</td>\n      <td>10.544937</td>\n    </tr>\n    <tr>\n      <th>6</th>\n      <td>gr507685.csv</td>\n      <td>0.035956</td>\n      <td>0.013299</td>\n      <td>0.001293</td>\n      <td>0.348073</td>\n      <td>-9884.733145</td>\n      <td>-9314.692988</td>\n      <td>12.142804</td>\n    </tr>\n    <tr>\n      <th>7</th>\n      <td>gr530965.csv</td>\n      <td>0.045089</td>\n      <td>0.017239</td>\n      <td>0.002033</td>\n      <td>0.372609</td>\n      <td>-8927.509662</td>\n      <td>-8357.517888</td>\n      <td>13.272032</td>\n    </tr>\n    <tr>\n      <th>8</th>\n      <td>gr532174.csv</td>\n      <td>0.136801</td>\n      <td>0.023488</td>\n      <td>0.018715</td>\n      <td>0.926628</td>\n      <td>-9487.679759</td>\n      <td>-8917.349789</td>\n      <td>265.326785</td>\n    </tr>\n    <tr>\n      <th>9</th>\n      <td>gr532210.csv</td>\n      <td>0.052104</td>\n      <td>0.016364</td>\n      <td>0.002715</td>\n      <td>0.247735</td>\n      <td>-9950.797829</td>\n      <td>-9383.852006</td>\n      <td>7.602691</td>\n    </tr>\n    <tr>\n      <th>10</th>\n      <td>gr532540.csv</td>\n      <td>0.053297</td>\n      <td>0.015860</td>\n      <td>0.002841</td>\n      <td>0.567855</td>\n      <td>-10410.521927</td>\n      <td>-9847.959234</td>\n      <td>26.466039</td>\n    </tr>\n  </tbody>\n</table>\n</div>"
     },
     "metadata": {}
    },
    {
     "output_type": "display_data",
     "data": {
      "text/plain": "'ridge_regression'"
     },
     "metadata": {}
    },
    {
     "output_type": "display_data",
     "data": {
      "text/plain": "         company  root_mean_squared_error  mean_absolute_error  \\\n0   gr500112.csv                 0.289119             0.027009   \n1   gr500180.csv                 0.053650             0.015211   \n2   gr500182.csv                 0.016829             0.012270   \n3   gr500209.csv                 0.020455             0.014247   \n4   gr500325.csv                 0.020845             0.014759   \n5   gr500680.csv                 0.014910             0.010574   \n6   gr507685.csv                 0.036210             0.013830   \n7   gr530965.csv                 0.042681             0.017396   \n8   gr532174.csv                 0.137580             0.023668   \n9   gr532210.csv                 0.066783             0.017764   \n10  gr532540.csv                 0.052613             0.016038   \n\n    mean_squared_error  rsquared_adj           aic           bic       fvalue  \n0             0.083590      0.988420 -10162.952522  -9592.670796  1786.611107  \n1             0.002878      0.925198  -9393.639962  -8823.503108   259.379178  \n2             0.000283      0.302150 -11309.288799 -10750.110759    10.260305  \n3             0.000418      0.481386  -8747.606875  -8177.228683    20.436857  \n4             0.000435      0.373816  -8424.807571  -7854.381181    13.506598  \n5             0.000222      0.315304 -11349.874905 -10792.844454    10.544937  \n6             0.001311      0.348073  -9884.733145  -9314.692988    12.142804  \n7             0.001822      0.372609  -8927.509662  -8357.517888    13.272032  \n8             0.018928      0.926628  -9487.679759  -8917.349789   265.326785  \n9             0.004460      0.247735  -9950.797829  -9383.852006     7.602691  \n10            0.002768      0.567855 -10410.521927  -9847.959234    26.466039  ",
      "text/html": "<div>\n<style scoped>\n    .dataframe tbody tr th:only-of-type {\n        vertical-align: middle;\n    }\n\n    .dataframe tbody tr th {\n        vertical-align: top;\n    }\n\n    .dataframe thead th {\n        text-align: right;\n    }\n</style>\n<table border=\"1\" class=\"dataframe\">\n  <thead>\n    <tr style=\"text-align: right;\">\n      <th></th>\n      <th>company</th>\n      <th>root_mean_squared_error</th>\n      <th>mean_absolute_error</th>\n      <th>mean_squared_error</th>\n      <th>rsquared_adj</th>\n      <th>aic</th>\n      <th>bic</th>\n      <th>fvalue</th>\n    </tr>\n  </thead>\n  <tbody>\n    <tr>\n      <th>0</th>\n      <td>gr500112.csv</td>\n      <td>0.289119</td>\n      <td>0.027009</td>\n      <td>0.083590</td>\n      <td>0.988420</td>\n      <td>-10162.952522</td>\n      <td>-9592.670796</td>\n      <td>1786.611107</td>\n    </tr>\n    <tr>\n      <th>1</th>\n      <td>gr500180.csv</td>\n      <td>0.053650</td>\n      <td>0.015211</td>\n      <td>0.002878</td>\n      <td>0.925198</td>\n      <td>-9393.639962</td>\n      <td>-8823.503108</td>\n      <td>259.379178</td>\n    </tr>\n    <tr>\n      <th>2</th>\n      <td>gr500182.csv</td>\n      <td>0.016829</td>\n      <td>0.012270</td>\n      <td>0.000283</td>\n      <td>0.302150</td>\n      <td>-11309.288799</td>\n      <td>-10750.110759</td>\n      <td>10.260305</td>\n    </tr>\n    <tr>\n      <th>3</th>\n      <td>gr500209.csv</td>\n      <td>0.020455</td>\n      <td>0.014247</td>\n      <td>0.000418</td>\n      <td>0.481386</td>\n      <td>-8747.606875</td>\n      <td>-8177.228683</td>\n      <td>20.436857</td>\n    </tr>\n    <tr>\n      <th>4</th>\n      <td>gr500325.csv</td>\n      <td>0.020845</td>\n      <td>0.014759</td>\n      <td>0.000435</td>\n      <td>0.373816</td>\n      <td>-8424.807571</td>\n      <td>-7854.381181</td>\n      <td>13.506598</td>\n    </tr>\n    <tr>\n      <th>5</th>\n      <td>gr500680.csv</td>\n      <td>0.014910</td>\n      <td>0.010574</td>\n      <td>0.000222</td>\n      <td>0.315304</td>\n      <td>-11349.874905</td>\n      <td>-10792.844454</td>\n      <td>10.544937</td>\n    </tr>\n    <tr>\n      <th>6</th>\n      <td>gr507685.csv</td>\n      <td>0.036210</td>\n      <td>0.013830</td>\n      <td>0.001311</td>\n      <td>0.348073</td>\n      <td>-9884.733145</td>\n      <td>-9314.692988</td>\n      <td>12.142804</td>\n    </tr>\n    <tr>\n      <th>7</th>\n      <td>gr530965.csv</td>\n      <td>0.042681</td>\n      <td>0.017396</td>\n      <td>0.001822</td>\n      <td>0.372609</td>\n      <td>-8927.509662</td>\n      <td>-8357.517888</td>\n      <td>13.272032</td>\n    </tr>\n    <tr>\n      <th>8</th>\n      <td>gr532174.csv</td>\n      <td>0.137580</td>\n      <td>0.023668</td>\n      <td>0.018928</td>\n      <td>0.926628</td>\n      <td>-9487.679759</td>\n      <td>-8917.349789</td>\n      <td>265.326785</td>\n    </tr>\n    <tr>\n      <th>9</th>\n      <td>gr532210.csv</td>\n      <td>0.066783</td>\n      <td>0.017764</td>\n      <td>0.004460</td>\n      <td>0.247735</td>\n      <td>-9950.797829</td>\n      <td>-9383.852006</td>\n      <td>7.602691</td>\n    </tr>\n    <tr>\n      <th>10</th>\n      <td>gr532540.csv</td>\n      <td>0.052613</td>\n      <td>0.016038</td>\n      <td>0.002768</td>\n      <td>0.567855</td>\n      <td>-10410.521927</td>\n      <td>-9847.959234</td>\n      <td>26.466039</td>\n    </tr>\n  </tbody>\n</table>\n</div>"
     },
     "metadata": {}
    },
    {
     "output_type": "display_data",
     "data": {
      "text/plain": "'elastic_net_regression'"
     },
     "metadata": {}
    },
    {
     "output_type": "display_data",
     "data": {
      "text/plain": "         company  root_mean_squared_error  mean_absolute_error  \\\n0   gr500112.csv                 0.289796             0.026027   \n1   gr500180.csv                 0.046168             0.014647   \n2   gr500182.csv                 0.016681             0.012151   \n3   gr500209.csv                 0.020525             0.014183   \n4   gr500325.csv                 0.020916             0.014819   \n5   gr500680.csv                 0.014810             0.010516   \n6   gr507685.csv                 0.141398             0.017915   \n7   gr530965.csv                 0.039406             0.017238   \n8   gr532174.csv                 0.136791             0.023507   \n9   gr532210.csv                 0.074590             0.016958   \n10  gr532540.csv                 0.051523             0.015132   \n\n    mean_squared_error  rsquared_adj           aic           bic       fvalue  \n0             0.083982      0.988420 -10162.952522  -9592.670796  1786.611107  \n1             0.002132      0.925198  -9393.639962  -8823.503108   259.379178  \n2             0.000278      0.302150 -11309.288799 -10750.110759    10.260305  \n3             0.000421      0.481386  -8747.606875  -8177.228683    20.436857  \n4             0.000437      0.373816  -8424.807571  -7854.381181    13.506598  \n5             0.000219      0.315304 -11349.874905 -10792.844454    10.544937  \n6             0.019993      0.348073  -9884.733145  -9314.692988    12.142804  \n7             0.001553      0.372609  -8927.509662  -8357.517888    13.272032  \n8             0.018712      0.926628  -9487.679759  -8917.349789   265.326785  \n9             0.005564      0.247735  -9950.797829  -9383.852006     7.602691  \n10            0.002655      0.567855 -10410.521927  -9847.959234    26.466039  ",
      "text/html": "<div>\n<style scoped>\n    .dataframe tbody tr th:only-of-type {\n        vertical-align: middle;\n    }\n\n    .dataframe tbody tr th {\n        vertical-align: top;\n    }\n\n    .dataframe thead th {\n        text-align: right;\n    }\n</style>\n<table border=\"1\" class=\"dataframe\">\n  <thead>\n    <tr style=\"text-align: right;\">\n      <th></th>\n      <th>company</th>\n      <th>root_mean_squared_error</th>\n      <th>mean_absolute_error</th>\n      <th>mean_squared_error</th>\n      <th>rsquared_adj</th>\n      <th>aic</th>\n      <th>bic</th>\n      <th>fvalue</th>\n    </tr>\n  </thead>\n  <tbody>\n    <tr>\n      <th>0</th>\n      <td>gr500112.csv</td>\n      <td>0.289796</td>\n      <td>0.026027</td>\n      <td>0.083982</td>\n      <td>0.988420</td>\n      <td>-10162.952522</td>\n      <td>-9592.670796</td>\n      <td>1786.611107</td>\n    </tr>\n    <tr>\n      <th>1</th>\n      <td>gr500180.csv</td>\n      <td>0.046168</td>\n      <td>0.014647</td>\n      <td>0.002132</td>\n      <td>0.925198</td>\n      <td>-9393.639962</td>\n      <td>-8823.503108</td>\n      <td>259.379178</td>\n    </tr>\n    <tr>\n      <th>2</th>\n      <td>gr500182.csv</td>\n      <td>0.016681</td>\n      <td>0.012151</td>\n      <td>0.000278</td>\n      <td>0.302150</td>\n      <td>-11309.288799</td>\n      <td>-10750.110759</td>\n      <td>10.260305</td>\n    </tr>\n    <tr>\n      <th>3</th>\n      <td>gr500209.csv</td>\n      <td>0.020525</td>\n      <td>0.014183</td>\n      <td>0.000421</td>\n      <td>0.481386</td>\n      <td>-8747.606875</td>\n      <td>-8177.228683</td>\n      <td>20.436857</td>\n    </tr>\n    <tr>\n      <th>4</th>\n      <td>gr500325.csv</td>\n      <td>0.020916</td>\n      <td>0.014819</td>\n      <td>0.000437</td>\n      <td>0.373816</td>\n      <td>-8424.807571</td>\n      <td>-7854.381181</td>\n      <td>13.506598</td>\n    </tr>\n    <tr>\n      <th>5</th>\n      <td>gr500680.csv</td>\n      <td>0.014810</td>\n      <td>0.010516</td>\n      <td>0.000219</td>\n      <td>0.315304</td>\n      <td>-11349.874905</td>\n      <td>-10792.844454</td>\n      <td>10.544937</td>\n    </tr>\n    <tr>\n      <th>6</th>\n      <td>gr507685.csv</td>\n      <td>0.141398</td>\n      <td>0.017915</td>\n      <td>0.019993</td>\n      <td>0.348073</td>\n      <td>-9884.733145</td>\n      <td>-9314.692988</td>\n      <td>12.142804</td>\n    </tr>\n    <tr>\n      <th>7</th>\n      <td>gr530965.csv</td>\n      <td>0.039406</td>\n      <td>0.017238</td>\n      <td>0.001553</td>\n      <td>0.372609</td>\n      <td>-8927.509662</td>\n      <td>-8357.517888</td>\n      <td>13.272032</td>\n    </tr>\n    <tr>\n      <th>8</th>\n      <td>gr532174.csv</td>\n      <td>0.136791</td>\n      <td>0.023507</td>\n      <td>0.018712</td>\n      <td>0.926628</td>\n      <td>-9487.679759</td>\n      <td>-8917.349789</td>\n      <td>265.326785</td>\n    </tr>\n    <tr>\n      <th>9</th>\n      <td>gr532210.csv</td>\n      <td>0.074590</td>\n      <td>0.016958</td>\n      <td>0.005564</td>\n      <td>0.247735</td>\n      <td>-9950.797829</td>\n      <td>-9383.852006</td>\n      <td>7.602691</td>\n    </tr>\n    <tr>\n      <th>10</th>\n      <td>gr532540.csv</td>\n      <td>0.051523</td>\n      <td>0.015132</td>\n      <td>0.002655</td>\n      <td>0.567855</td>\n      <td>-10410.521927</td>\n      <td>-9847.959234</td>\n      <td>26.466039</td>\n    </tr>\n  </tbody>\n</table>\n</div>"
     },
     "metadata": {}
    }
   ],
   "source": [
    "for name, df in dfs.items():\n",
    "    display(name,df)\n"
   ]
  },
  {
   "cell_type": "code",
   "execution_count": 26,
   "metadata": {},
   "outputs": [],
   "source": [
    "features = {}"
   ]
  },
  {
   "cell_type": "code",
   "execution_count": 27,
   "metadata": {},
   "outputs": [
    {
     "output_type": "stream",
     "name": "stdout",
     "text": [
      "gr500112 56.04677224159241\n",
      "gr500180 16.109879970550537\n",
      "gr500182 7.648442268371582\n",
      "gr500209 13.616867065429688\n",
      "gr500325 15.065235614776611\n",
      "gr500680 7.678414821624756\n",
      "gr507685 12.010040998458862\n",
      "gr530965 15.891726732254028\n",
      "gr532174 17.464090585708618\n",
      "gr532210 19.60629439353943\n",
      "gr532540 19.156341791152954\n",
      "Wall time: 3min 20s\n"
     ]
    }
   ],
   "source": [
    "%%time\n",
    "for filename in os.listdir(os.path.join(path,\"Data/Stock\")):\n",
    "    if filename.startswith(\"gr\"):\n",
    "        start = time.time()\n",
    "        df = pd.read_csv(os.path.join(path,\"Data\\Stock\\\\\"+filename))\n",
    "        df = pre_process_data(df,60)\n",
    "        column = \"Next Day Close Price GR\"\n",
    "        (data,column) = dependent_column(df,column)\n",
    "        X = data[data.columns[:-1]]\n",
    "        Y = data[column].values\n",
    "        forward_features = forward_selection(X,Y)\n",
    "        backward_features = backward_elimination(X,Y)\n",
    "        feat = {\"forward_features\":forward_features,\"backward_features\":backward_features}\n",
    "        end = time.time()\n",
    "        name = os.path.splitext(filename)[0]\n",
    "        features[name] = features.get(name,{})\n",
    "        features[name].update(feat)\n",
    "        end = time.time()\n",
    "        print(name,end-start)"
   ]
  },
  {
   "cell_type": "code",
   "execution_count": 28,
   "metadata": {},
   "outputs": [
    {
     "output_type": "stream",
     "name": "stdout",
     "text": [
      "gr500112\nforward_features ['Beta GR', 'Open Price GR', 'CP % LV 7 days', 'Spread High-Low GR', 'Low Price GR', 'WAP GR', 'CP % HV 7 days', 'Min Inc % in 90 days', 'CP % LV 90 days', 'Alpha GR', 'No.of Shares GR', 'Total Turnover (Rs.) GR', 'No. of Trades GR', 'No. of Trades', '% YTD of SP500', 'Spread Close-Open', 'Min Inc % in 180 days', 'Min Inc % in 365 days', '% Return of Company', 'Close Price GR', 'No.of Shares', 'Total Turnover (Rs.)', 'Beta', 'Open Price', 'Close Price', 'Low Price', 'Expenditure  last 4 quarters', 'EPS last 2 quarters', 'CP % LV 180 days', '% YTD of Company', 'Alpha', 'Close Price of SP500', 'CP % LV 365 days', 'Lower Band', 'High Price', 'CP % HV 365 days', 'Net Profit  last 8 quarters', 'Band Area', 'Upper Band', 'Avg Inc % in 90 days', 'Avg Inc % in 180 days', 'Spread High-Low', 'Rate', 'Max Dec % in 90 days', 'Avg Dec % in 90 days']\nbackward_features ['Open Price', 'High Price', 'Close Price', 'No. of Trades', 'Spread High-Low', 'Spread Close-Open', '% Return of Company', 'Close Price of SP500', 'Beta', '% YTD of Company', '% YTD of SP500', 'Alpha', 'Lower Band', 'Upper Band', 'Band Area', 'Income', 'Expenditure', 'EPS', 'Revenue last 2 quarters', 'Income last 2 quarters', 'Expenditure  last 2 quarters', 'Net Profit  last 2 quarters', 'EPS last 2 quarters', 'Revenue last 4 quarters', 'Expenditure  last 4 quarters', 'Income last 8 quarters', 'Expenditure  last 8 quarters', 'Net Profit  last 8 quarters', 'EPS last 8 quarters', 'Low Price GR', 'Close Price GR', 'WAP GR', 'No.of Shares GR', 'No. of Trades GR', 'Total Turnover (Rs.) GR', 'Spread High-Low GR', 'Alpha GR', 'Beta GR', 'Max Dec % in 90 days', 'Min Inc % in 90 days', 'Avg Inc % in 90 days', 'Avg Dec % in 90 days', 'Min Inc % in 180 days', 'Avg Inc % in 180 days', 'Min Inc % in 365 days', 'Dividend Value GR', 'Income GR', 'Net Profit GR', 'CP % LV 7 days', 'CP % HV 7 days', 'CP % LV 90 days', 'CP % HV 90 days', 'CP % LV 180 days', 'CP % LV 365 days', 'CP % HV 365 days', 'CP % BA 365 days']\n---------------------------\ngr500180\nforward_features ['Beta GR', 'Alpha GR', 'CP % HV 7 days', 'CP % BA 7 days', 'Spread Close-Open GR', '% Return of Company', 'Open Price GR', 'Close Price GR', 'CP % BA 30 days', 'Spread Close-Open', 'Spread High-Low', 'Net Profit  last 2 quarters', 'Net Profit  last 4 quarters', 'CP % LV 365 days', 'CP % LV 7 days', 'p/e', '% YTD of Company', 'Rate', 'Close Price of SP500', '% YTD of SP500']\nbackward_features ['Low Price', 'Spread High-Low', 'Spread Close-Open', '% Return of Company', 'Close Price of SP500', '% YTD of SP500', 'Alpha', 'Income', 'EPS', 'year', 'Income last 4 quarters', 'Net Profit  last 4 quarters', 'p/e', 'Open Price GR', 'Close Price GR', 'No.of Shares GR', 'No. of Trades GR', 'Total Turnover (Rs.) GR', 'Spread Close-Open GR', 'Alpha GR', 'Beta GR', 'Income GR', 'CP % LV 7 days', 'CP % HV 7 days', 'CP % BA 7 days', 'CP % HV 180 days']\n---------------------------\ngr500182\nforward_features ['CP % HV 7 days', 'CP % LV 7 days', '% Return of Company', 'Close Price GR', 'CP % LV 30 days', 'Sequential Increase %', 'Max Inc % in 90 days', 'Alpha GR', 'CP % BA 90 days']\nbackward_features ['% Return of Company', 'Close Price GR', 'No.of Shares GR', 'No. of Trades GR', 'Deliverable Quantity GR', 'Alpha GR', 'Sequential Increase %', 'Avg Inc % in 90 days', 'CP % LV 7 days', 'CP % HV 7 days', 'CP % LV 30 days']\n---------------------------\ngr500209\nforward_features ['Beta GR', 'Alpha GR', 'CP % LV 7 days', 'CP % HV 7 days', 'No. of Trades GR', 'Spread High-Low GR', 'CP % BA 7 days', 'Close Price GR', '% Return of Company', 'Low Price GR', 'Spread Close-Open', 'Min Inc % in 90 days', 'Spread High-Low', 'CP % HV 30 days', 'Avg Dec % in 365 days', 'Beta', 'Open Price GR']\nbackward_features ['No.of Shares', 'Spread High-Low', 'Spread Close-Open', '% Return of Company', 'Open Price GR', 'High Price GR', 'Close Price GR', 'WAP GR', 'No.of Shares GR', 'No. of Trades GR', 'Total Turnover (Rs.) GR', 'Alpha GR', 'Beta GR', 'Min Inc % in 90 days', 'Min Inc % in 180 days', 'Avg Dec % in 365 days', 'CP % LV 7 days', 'CP % HV 7 days', 'CP % BA 7 days', 'CP % HV 30 days']\n---------------------------\ngr500325\nforward_features ['CP % LV 7 days', 'Alpha GR', 'Beta GR', 'Close Price GR', 'CP % HV 7 days', '% Return of Company', 'Sequential Increase', 'Max Dec % in 90 days', 'Min Inc % in 180 days', 'CP % HV 30 days', 'Beta', 'Max Dec % in 365 days', 'EPS', 'CP % LV 180 days', '% YTD of SP500', 'Lower Band', 'Expenditure', 'Revenue']\nbackward_features ['Spread High-Low', 'Spread Close-Open', '% Return of Company', '% Return of SP500', 'Beta', 'Upper Band', 'Revenue', 'Income', 'year', 'Revenue last 2 quarters', 'Income last 2 quarters', 'Expenditure  last 2 quarters', 'Expenditure  last 4 quarters', 'Net Profit  last 4 quarters', 'Revenue last 8 quarters', 'Income last 8 quarters', 'Expenditure  last 8 quarters', 'Open Price GR', 'Low Price GR', 'Close Price GR', 'Alpha GR', 'Beta GR', 'Sequential Increase', 'Max Dec % in 90 days', 'Min Inc % in 180 days', 'Max Dec % in 365 days', 'CP % LV 7 days', 'CP % HV 7 days', 'CP % HV 30 days', 'CP % LV 180 days', 'CP % BA 180 days', 'CP % LV 365 days', 'CP % BA 365 days']\n---------------------------\ngr500680\nforward_features ['CP % LV 7 days', 'CP % HV 7 days', '% Return of Company', 'Close Price GR', 'CP % LV 30 days', 'Spread Close-Open', 'No. of Trades GR', 'Max Dec % in 365 days']\nbackward_features ['High Price', 'Low Price', 'WAP', 'Spread High-Low', '% Return of Company', 'Close Price GR', 'No. of Trades GR', 'Max Inc % in 180 days', 'Min Dec % in 180 days', 'Max Dec % in 365 days', 'CP % LV 7 days', 'CP % HV 7 days', 'CP % LV 30 days']\n---------------------------\ngr507685\nforward_features ['High Price GR', 'CP % LV 7 days', 'CP % HV 7 days', 'Beta GR', '% Return of Company', 'Close Price GR', 'Alpha GR', 'CP % BA 7 days', 'WAP GR', 'No. of Trades GR', 'CP % HV 30 days', 'Min Inc % in 90 days', 'Spread High-Low', 'Max Dec % in 90 days', 'Sequential Increase']\nbackward_features ['High Price', 'Close Price', 'WAP', 'Spread Close-Open', '% Return of Company', '% YTD of Company', '% YTD of SP500', 'Alpha', 'Revenue', 'Income', 'Revenue last 8 quarters', 'Income last 8 quarters', 'EPS last 8 quarters', 'Open Price GR', 'High Price GR', 'Close Price GR', 'WAP GR', 'No. of Trades GR', 'Alpha GR', 'Beta GR', 'Sequential Increase', 'Max Inc % in 90 days', 'Max Dec % in 90 days', 'Min Inc % in 90 days', 'Min Dec % in 90 days', 'Avg Dec % in 90 days', 'Max Inc % in 365 days', 'Avg Dec % in 365 days', 'CP % LV 7 days', 'CP % HV 7 days', 'CP % BA 7 days', 'CP % HV 30 days']\n---------------------------\ngr530965\nforward_features ['Beta GR', 'Open Price GR', 'CP % HV 7 days', 'CP % LV 7 days', '% Return of Company', 'Close Price GR', 'Alpha GR', 'Spread Close-Open', 'CP % BA 7 days', 'Max Inc % in 365 days', 'CP % HV 30 days', 'Beta', '% YTD of SP500', 'No. of Trades GR', 'Low Price GR', 'WAP GR']\nbackward_features ['Total Turnover (Rs.)', 'Spread Close-Open', '% Return of Company', 'Close Price of SP500', 'Beta', 'Revenue last 2 quarters', 'Income last 2 quarters', 'Open Price GR', 'Low Price GR', 'Close Price GR', 'No.of Shares GR', 'Total Turnover (Rs.) GR', 'Alpha GR', 'Beta GR', 'Max Inc % in 180 days', 'Max Inc % in 365 days', 'CP % LV 7 days', 'CP % HV 7 days', 'CP % BA 7 days', 'CP % HV 90 days']\n---------------------------\ngr532174\nforward_features ['Beta GR', 'WAP GR', 'CP % LV 7 days', 'CP % HV 7 days', 'Spread Close-Open', 'Open Price GR', 'Max Dec % in 180 days', 'Alpha GR', 'Spread High-Low GR', 'High Price GR', 'CP % BA 7 days', 'Min Inc % in 180 days', 'Avg Inc % in 180 days', 'Avg Dec % in 180 days']\nbackward_features ['Open Price', 'WAP', 'Spread Close-Open', 'Dividend Value', '% Return of Company', 'Close Price of SP500', '% Return of SP500', 'Beta', 'Rate', '% YTD of Company', '% YTD of SP500', 'Alpha', 'Lower Band', 'Upper Band', 'Band Area', 'Revenue', 'Income', 'Net Profit', 'EPS', 'year', 'Income last 2 quarters', 'Expenditure  last 2 quarters', 'Revenue last 4 quarters', 'Income last 4 quarters', 'Expenditure  last 4 quarters', 'Net Profit  last 4 quarters', 'Income last 8 quarters', 'Expenditure  last 8 quarters', 'EPS last 8 quarters', 'Open Price GR', 'High Price GR', 'Low Price GR', 'Close Price GR', 'WAP GR', 'Spread High-Low GR', 'Alpha GR', 'Beta GR', 'Max Dec % in 90 days', 'Avg Dec % in 90 days', 'Max Dec % in 180 days', 'Avg Dec % in 180 days', 'Dividend Value GR', 'Expenditure GR', 'EPS GR', 'CP % LV 7 days', 'CP % HV 7 days', 'CP % BA 7 days', 'CP % HV 90 days', 'CP % LV 365 days']\n---------------------------\ngr532210\nforward_features ['CP % HV 7 days', 'CP % BA 7 days', 'Revenue last 2 quarters', '% Return of Company', 'Open Price GR', 'Close Price GR', 'Spread High-Low', 'Spread Close-Open', 'Sequential Increase %', 'Max Inc % in 180 days', 'Min Inc % in 180 days', 'Sequential Decrease %', 'Upper Band', 'No. of Trades GR', 'Low Price GR', '% Return of SP500', 'CP % BA 30 days']\nbackward_features ['Open Price', 'Low Price', 'WAP', '% Return of Company', '% Return of SP500', 'Beta', 'Lower Band', 'Upper Band', 'Band Area', 'Income', 'Net Profit', 'EPS', 'Net Profit  last 8 quarters', 'p/e', 'Open Price GR', 'High Price GR', 'Low Price GR', 'Close Price GR', 'WAP GR', 'No. of Trades GR', 'Spread High-Low GR', 'Alpha GR', 'Sequential Increase %', 'Sequential Decrease %', 'Max Inc % in 180 days', 'Min Inc % in 180 days', 'CP % HV 7 days', 'CP % BA 7 days', 'CP % LV 90 days', 'CP % LV 365 days']\n---------------------------\ngr532540\nforward_features ['WAP GR', 'CP % LV 7 days', 'CP % HV 7 days', 'Close Price GR', '% Return of Company', 'Max Dec % in 180 days', 'Max Inc % in 90 days', 'Min Dec % in 90 days', 'CP % BA 7 days', 'Max Dec % in 90 days', 'CP % HV 90 days', 'Open Price GR', 'Spread Close-Open', 'No. of Trades GR', 'Alpha GR', 'Max Inc % in 365 days']\nbackward_features ['Low Price', 'Close Price', 'Spread High-Low', 'Spread Close-Open', '% Return of Company', 'Beta', 'Rate', '% YTD of Company', 'Lower Band', 'Upper Band', 'Band Area', 'Income', 'Expenditure  last 2 quarters', 'Revenue last 8 quarters', 'Expenditure  last 8 quarters', 'Net Profit  last 8 quarters', 'EPS last 8 quarters', 'Open Price GR', 'High Price GR', 'Close Price GR', 'No. of Trades GR', 'Alpha GR', 'Beta GR', 'Max Inc % in 90 days', 'Max Dec % in 90 days', 'Min Inc % in 90 days', 'Min Dec % in 90 days', 'Avg Inc % in 90 days', 'Avg Dec % in 90 days', 'Max Inc % in 180 days', 'Max Dec % in 180 days', 'Avg Dec % in 180 days', 'Max Inc % in 365 days', 'Income GR', 'CP % LV 7 days', 'CP % HV 7 days', 'CP % BA 7 days', 'CP % LV 90 days', 'CP % LV 365 days', 'CP % BA 365 days']\n---------------------------\n"
     ]
    }
   ],
   "source": [
    "for name,feature in features.items():\n",
    "    print(name)\n",
    "    print(\"forward_features\",feature[\"forward_features\"])\n",
    "    print(\"backward_features\",feature[\"backward_features\"])\n",
    "    print(\"---------------------------\")"
   ]
  },
  {
   "source": [
    "# Feature Importance"
   ],
   "cell_type": "markdown",
   "metadata": {}
  },
  {
   "cell_type": "code",
   "execution_count": 29,
   "metadata": {},
   "outputs": [],
   "source": [
    "mycols = [\"company\",'Open Price', 'High Price', 'Low Price','WAP','No.of Shares', 'No. of Trades', 'Total Turnover (Rs.)',\n",
    "       'Deliverable Quantity', '% Deli. Qty to Traded Qty', 'Spread High-Low','Spread Close-Open']\n",
    "feature_importance = pd.DataFrame(columns=mycols)"
   ]
  },
  {
   "cell_type": "code",
   "execution_count": 30,
   "metadata": {},
   "outputs": [
    {
     "output_type": "stream",
     "name": "stdout",
     "text": [
      "Wall time: 2.17 s\n"
     ]
    }
   ],
   "source": [
    "%%time\n",
    "for filename in os.listdir(os.path.join(path,\"Data/Stock\")):\n",
    "    if filename.startswith(\"gr\"):\n",
    "        start = time.time()\n",
    "        df = pd.read_csv(os.path.join(path,\"Data\\Stock\\\\\"+filename))\n",
    "        df = pre_process_data(df,60)\n",
    "        name = os.path.splitext(filename)[0]\n",
    "        cols = ['Open Price', 'High Price', 'Low Price','WAP','No.of Shares', 'No. of Trades', 'Total Turnover (Rs.)',\n",
    "       'Deliverable Quantity', '% Deli. Qty to Traded Qty', 'Spread High-Low','Spread Close-Open']\n",
    "        depd = \"Close Price\"\n",
    "        df.drop\n",
    "        X = df[cols]\n",
    "        Y = df[depd]\n",
    "        model = LinearRegression(fit_intercept=True)\n",
    "        model.fit(X, Y)\n",
    "        data = [name] + [round(i,6) for i in list(model.coef_)]\n",
    "        feature_importance.loc[feature_importance.shape[0]] = data\n",
    "feature_importance.to_csv(\"feature_importance.csv\",index=None)"
   ]
  },
  {
   "cell_type": "code",
   "execution_count": 31,
   "metadata": {
    "tags": []
   },
   "outputs": [
    {
     "output_type": "execute_result",
     "data": {
      "text/plain": [
       "     company  Open Price  High Price  Low Price       WAP  No.of Shares  \\\n",
       "0   gr500112    0.875946   -0.041160   0.100697  0.064066     -0.000008   \n",
       "1   gr500180    0.140703    0.125933   0.116718  0.616187     -0.000010   \n",
       "2   gr500182    1.000000    0.000000  -0.000000  0.000000      0.000000   \n",
       "3   gr500209   -0.172014    0.295981   0.281420  0.594101      0.000001   \n",
       "4   gr500325   -0.239092    0.457957   0.387422  0.392495      0.000001   \n",
       "5   gr500680    1.000000    0.000000  -0.000000 -0.000000     -0.000000   \n",
       "6   gr507685    0.187928    0.142687   0.097953  0.570566      0.000000   \n",
       "7   gr530965   -0.046876    0.124065   0.115081  0.807596      0.000000   \n",
       "8   gr532174    0.668908    0.072728   0.026695  0.230866     -0.000002   \n",
       "9   gr532210    0.927876   -0.059508   0.107953  0.023757      0.000000   \n",
       "10  gr532540    0.271834    0.145888   0.093536  0.488011     -0.000001   \n",
       "\n",
       "    No. of Trades  Total Turnover (Rs.)  Deliverable Quantity  \\\n",
       "0        0.000416                  -0.0              0.000005   \n",
       "1       -0.000310                  -0.0              0.000023   \n",
       "2       -0.000000                  -0.0             -0.000000   \n",
       "3       -0.000054                   0.0             -0.000002   \n",
       "4       -0.000015                  -0.0             -0.000000   \n",
       "5       -0.000000                  -0.0             -0.000000   \n",
       "6        0.000003                  -0.0              0.000000   \n",
       "7       -0.000030                  -0.0             -0.000000   \n",
       "8        0.000111                   0.0              0.000001   \n",
       "9       -0.000021                  -0.0             -0.000000   \n",
       "10      -0.000009                   0.0              0.000000   \n",
       "\n",
       "    % Deli. Qty to Traded Qty  Spread High-Low  Spread Close-Open  \n",
       "0                    0.140324         0.724055           9.185882  \n",
       "1                   -0.028889         0.320387           3.203855  \n",
       "2                   -0.000000        -0.000000           1.000000  \n",
       "3                   -0.002392         0.002450           0.037702  \n",
       "4                    0.007578         0.011886           0.118557  \n",
       "5                    0.000000        -0.000000           1.000000  \n",
       "6                    0.002868         0.004435           0.153178  \n",
       "7                    0.002315         0.000953           0.059824  \n",
       "8                    0.074222        -0.088357           3.388370  \n",
       "9                    0.000138         0.072944           0.836977  \n",
       "10                   0.001192        -0.008348           0.313732  "
      ],
      "text/html": "<div>\n<style scoped>\n    .dataframe tbody tr th:only-of-type {\n        vertical-align: middle;\n    }\n\n    .dataframe tbody tr th {\n        vertical-align: top;\n    }\n\n    .dataframe thead th {\n        text-align: right;\n    }\n</style>\n<table border=\"1\" class=\"dataframe\">\n  <thead>\n    <tr style=\"text-align: right;\">\n      <th></th>\n      <th>company</th>\n      <th>Open Price</th>\n      <th>High Price</th>\n      <th>Low Price</th>\n      <th>WAP</th>\n      <th>No.of Shares</th>\n      <th>No. of Trades</th>\n      <th>Total Turnover (Rs.)</th>\n      <th>Deliverable Quantity</th>\n      <th>% Deli. Qty to Traded Qty</th>\n      <th>Spread High-Low</th>\n      <th>Spread Close-Open</th>\n    </tr>\n  </thead>\n  <tbody>\n    <tr>\n      <th>0</th>\n      <td>gr500112</td>\n      <td>0.875946</td>\n      <td>-0.041160</td>\n      <td>0.100697</td>\n      <td>0.064066</td>\n      <td>-0.000008</td>\n      <td>0.000416</td>\n      <td>-0.0</td>\n      <td>0.000005</td>\n      <td>0.140324</td>\n      <td>0.724055</td>\n      <td>9.185882</td>\n    </tr>\n    <tr>\n      <th>1</th>\n      <td>gr500180</td>\n      <td>0.140703</td>\n      <td>0.125933</td>\n      <td>0.116718</td>\n      <td>0.616187</td>\n      <td>-0.000010</td>\n      <td>-0.000310</td>\n      <td>-0.0</td>\n      <td>0.000023</td>\n      <td>-0.028889</td>\n      <td>0.320387</td>\n      <td>3.203855</td>\n    </tr>\n    <tr>\n      <th>2</th>\n      <td>gr500182</td>\n      <td>1.000000</td>\n      <td>0.000000</td>\n      <td>-0.000000</td>\n      <td>0.000000</td>\n      <td>0.000000</td>\n      <td>-0.000000</td>\n      <td>-0.0</td>\n      <td>-0.000000</td>\n      <td>-0.000000</td>\n      <td>-0.000000</td>\n      <td>1.000000</td>\n    </tr>\n    <tr>\n      <th>3</th>\n      <td>gr500209</td>\n      <td>-0.172014</td>\n      <td>0.295981</td>\n      <td>0.281420</td>\n      <td>0.594101</td>\n      <td>0.000001</td>\n      <td>-0.000054</td>\n      <td>0.0</td>\n      <td>-0.000002</td>\n      <td>-0.002392</td>\n      <td>0.002450</td>\n      <td>0.037702</td>\n    </tr>\n    <tr>\n      <th>4</th>\n      <td>gr500325</td>\n      <td>-0.239092</td>\n      <td>0.457957</td>\n      <td>0.387422</td>\n      <td>0.392495</td>\n      <td>0.000001</td>\n      <td>-0.000015</td>\n      <td>-0.0</td>\n      <td>-0.000000</td>\n      <td>0.007578</td>\n      <td>0.011886</td>\n      <td>0.118557</td>\n    </tr>\n    <tr>\n      <th>5</th>\n      <td>gr500680</td>\n      <td>1.000000</td>\n      <td>0.000000</td>\n      <td>-0.000000</td>\n      <td>-0.000000</td>\n      <td>-0.000000</td>\n      <td>-0.000000</td>\n      <td>-0.0</td>\n      <td>-0.000000</td>\n      <td>0.000000</td>\n      <td>-0.000000</td>\n      <td>1.000000</td>\n    </tr>\n    <tr>\n      <th>6</th>\n      <td>gr507685</td>\n      <td>0.187928</td>\n      <td>0.142687</td>\n      <td>0.097953</td>\n      <td>0.570566</td>\n      <td>0.000000</td>\n      <td>0.000003</td>\n      <td>-0.0</td>\n      <td>0.000000</td>\n      <td>0.002868</td>\n      <td>0.004435</td>\n      <td>0.153178</td>\n    </tr>\n    <tr>\n      <th>7</th>\n      <td>gr530965</td>\n      <td>-0.046876</td>\n      <td>0.124065</td>\n      <td>0.115081</td>\n      <td>0.807596</td>\n      <td>0.000000</td>\n      <td>-0.000030</td>\n      <td>-0.0</td>\n      <td>-0.000000</td>\n      <td>0.002315</td>\n      <td>0.000953</td>\n      <td>0.059824</td>\n    </tr>\n    <tr>\n      <th>8</th>\n      <td>gr532174</td>\n      <td>0.668908</td>\n      <td>0.072728</td>\n      <td>0.026695</td>\n      <td>0.230866</td>\n      <td>-0.000002</td>\n      <td>0.000111</td>\n      <td>0.0</td>\n      <td>0.000001</td>\n      <td>0.074222</td>\n      <td>-0.088357</td>\n      <td>3.388370</td>\n    </tr>\n    <tr>\n      <th>9</th>\n      <td>gr532210</td>\n      <td>0.927876</td>\n      <td>-0.059508</td>\n      <td>0.107953</td>\n      <td>0.023757</td>\n      <td>0.000000</td>\n      <td>-0.000021</td>\n      <td>-0.0</td>\n      <td>-0.000000</td>\n      <td>0.000138</td>\n      <td>0.072944</td>\n      <td>0.836977</td>\n    </tr>\n    <tr>\n      <th>10</th>\n      <td>gr532540</td>\n      <td>0.271834</td>\n      <td>0.145888</td>\n      <td>0.093536</td>\n      <td>0.488011</td>\n      <td>-0.000001</td>\n      <td>-0.000009</td>\n      <td>0.0</td>\n      <td>0.000000</td>\n      <td>0.001192</td>\n      <td>-0.008348</td>\n      <td>0.313732</td>\n    </tr>\n  </tbody>\n</table>\n</div>"
     },
     "metadata": {},
     "execution_count": 31
    }
   ],
   "source": [
    "feature_importance"
   ]
  },
  {
   "cell_type": "code",
   "execution_count": null,
   "metadata": {},
   "outputs": [],
   "source": []
  }
 ]
}