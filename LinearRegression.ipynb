{
 "metadata": {
  "language_info": {
   "codemirror_mode": {
    "name": "ipython",
    "version": 3
   },
   "file_extension": ".py",
   "mimetype": "text/x-python",
   "name": "python",
   "nbconvert_exporter": "python",
   "pygments_lexer": "ipython3",
   "version": "3.8.3-final"
  },
  "orig_nbformat": 2,
  "kernelspec": {
   "name": "python3",
   "display_name": "Python 3.8.3 64-bit",
   "metadata": {
    "interpreter": {
     "hash": "2db524e06e9f5f4ffedc911c917cb75e12dbc923643829bf417064a77eb14d37"
    }
   }
  }
 },
 "nbformat": 4,
 "nbformat_minor": 2,
 "cells": [
  {
   "cell_type": "code",
   "execution_count": 3,
   "metadata": {},
   "outputs": [],
   "source": [
    "import pandas as pd\n",
    "import numpy as np \n",
    "import os\n",
    "from sklearn.model_selection import train_test_split\n",
    "from sklearn.linear_model import LinearRegression\n",
    "from sklearn import metrics\n",
    "from math import sqrt\n",
    "import statsmodels.api as sm\n",
    "from mlxtend.feature_selection import SequentialFeatureSelector as SFS\n",
    "from sklearn.linear_model import RidgeCV\n",
    "from sklearn.linear_model import LassoCV\n",
    "from sklearn.model_selection import GridSearchCV\n",
    "from sklearn.linear_model import Ridge\n",
    "from sklearn.linear_model import Lasso\n",
    "from sklearn.linear_model import ElasticNet\n",
    "from prettytable import PrettyTable\n",
    "import time \n",
    "import matplotlib\n",
    "import matplotlib.pyplot as plt\n",
    "import matplotlib.cm as cmx\n",
    "import matplotlib.colors as colors\n",
    "import matplotlib.patches as patches"
   ]
  },
  {
   "cell_type": "code",
   "execution_count": 4,
   "metadata": {},
   "outputs": [
    {
     "output_type": "execute_result",
     "data": {
      "text/plain": [
       "'f:\\\\PracticumProject\\\\StockAnalysisTool'"
      ]
     },
     "metadata": {},
     "execution_count": 4
    }
   ],
   "source": [
    "path = os.getcwd()\n",
    "path"
   ]
  },
  {
   "source": [
    "# PreProcessing Data"
   ],
   "cell_type": "markdown",
   "metadata": {}
  },
  {
   "cell_type": "code",
   "execution_count": 5,
   "metadata": {},
   "outputs": [],
   "source": [
    "def pre_process_data(data,null_threshold):\n",
    "    # data.replace(0, np.nan, inplace=True)\n",
    "    # print(data.shape)\n",
    "    # print(data.isnull().sum().sum())\n",
    "    data.drop(columns=['Unix Date','Date'],axis=1,inplace=True)\n",
    "    # data.Date = pd.to_datetime(data.Date)\n",
    "    total = data.shape[0]\n",
    "    for col in data.columns:\n",
    "        if null_threshold * total / 100 < data[col].isnull().sum():\n",
    "            data.drop(columns=[col],axis=1,inplace=True)\n",
    "    data.replace([np.inf, -np.inf], np.nan, inplace=True)\n",
    "    data.dropna(axis=0,inplace=True)\n",
    "    return data"
   ]
  },
  {
   "source": [
    "# Removing columns based on dependent column"
   ],
   "cell_type": "markdown",
   "metadata": {}
  },
  {
   "cell_type": "code",
   "execution_count": 6,
   "metadata": {},
   "outputs": [],
   "source": [
    "def dependent_column(data,column):\n",
    "    cols = [col for col in data.columns if \"next\" not in col.lower()]\n",
    "    cols.append(column)\n",
    "    data = data[cols]\n",
    "    return (data,column)"
   ]
  },
  {
   "source": [
    "# OLS Regression"
   ],
   "cell_type": "markdown",
   "metadata": {}
  },
  {
   "cell_type": "code",
   "execution_count": 7,
   "metadata": {},
   "outputs": [],
   "source": [
    "def OLS_Regression(X_train,Y_train):\n",
    "    X_train = np.array(X_train, dtype=float)\n",
    "    ols_model = sm.OLS(Y_train, X_train).fit()\n",
    "    \n",
    "    rsquared_adj = ols_model.rsquared_adj\n",
    "    aic = ols_model.aic\n",
    "    bic = ols_model.bic\n",
    "    fvalue = ols_model.fvalue\n",
    "    return {\"rsquared_adj\":rsquared_adj,\"aic\":aic,\"bic\":bic,\"fvalue\":fvalue}"
   ]
  },
  {
   "source": [
    "# Linear Regression"
   ],
   "cell_type": "markdown",
   "metadata": {}
  },
  {
   "cell_type": "code",
   "execution_count": 8,
   "metadata": {},
   "outputs": [],
   "source": [
    "def linear_regression(data,y):\n",
    "    # print(\"------ Linear Regression ------\")\n",
    "    X = data[data.columns[:-1]]\n",
    "    Y = data[y].values\n",
    "    X_train, X_test, Y_train, Y_test = train_test_split(X, Y, test_size=0.3, random_state=0)\n",
    "    model = LinearRegression(fit_intercept = True)  \n",
    "    model.fit(X_train, Y_train)\n",
    "    pred = model.predict(X_test)\n",
    "\n",
    "    confidence = model.score(X_test, Y_test)\n",
    "    rmse = sqrt(metrics.mean_squared_error(Y_test, pred))\n",
    "    mae = metrics.mean_absolute_error(Y_test, pred)\n",
    "    mse = metrics.mean_squared_error(Y_test, pred)\n",
    "    ols_values = OLS_Regression(X_train,Y_train)\n",
    "    return {\"root_mean_squared_error\":rmse,\"mean_absolute_error\":mae,\"mean_squared_error\":mse,\"OLS\":ols_values}"
   ]
  },
  {
   "source": [
    "# linear regression with forward selection"
   ],
   "cell_type": "markdown",
   "metadata": {}
  },
  {
   "cell_type": "code",
   "execution_count": 9,
   "metadata": {},
   "outputs": [],
   "source": [
    "def forward_selection(data, target, significance_level=0.05):\n",
    "    initial_features = data.columns.tolist()\n",
    "    best_features = []\n",
    "    while (len(initial_features)>0):\n",
    "        remaining_features = list(set(initial_features)-set(best_features))\n",
    "        new_pval = pd.Series(index=remaining_features)\n",
    "        for new_column in remaining_features:\n",
    "            model = sm.OLS(target, sm.add_constant(data[best_features+[new_column]]).astype(float)).fit()\n",
    "            new_pval[new_column] = model.pvalues[new_column]\n",
    "        min_p_value = new_pval.min()\n",
    "        if(min_p_value<significance_level):\n",
    "            best_features.append(new_pval.idxmin())\n",
    "        else:\n",
    "            break\n",
    "    return best_features"
   ]
  },
  {
   "cell_type": "code",
   "execution_count": 10,
   "metadata": {},
   "outputs": [],
   "source": [
    "def linear_regression_forward_selection(data,y):\n",
    "    # print(\"------ Linear Regression Forward Selection ------\")\n",
    "    X = data[data.columns[:-1]]\n",
    "    Y = data[y].values\n",
    "    forward_features = forward_selection(X,Y)\n",
    "    # print(forward_features)\n",
    "    return linear_regression(data[forward_features+[y]],y)"
   ]
  },
  {
   "source": [
    "# linear regression with backward elimination"
   ],
   "cell_type": "markdown",
   "metadata": {}
  },
  {
   "cell_type": "code",
   "execution_count": 11,
   "metadata": {},
   "outputs": [],
   "source": [
    "def backward_elimination(data, target,significance_level = 0.05):\n",
    "    features = data.columns.tolist()\n",
    "    while(len(features)>0):\n",
    "        features_with_constant = sm.add_constant(data[features]).astype(float)\n",
    "        p_values = sm.OLS(target, features_with_constant).fit().pvalues[1:]\n",
    "        max_p_value = p_values.max()\n",
    "        if(max_p_value >= significance_level):\n",
    "            excluded_feature = p_values.idxmax()\n",
    "            features.remove(excluded_feature)\n",
    "        else:\n",
    "            break \n",
    "    return features"
   ]
  },
  {
   "cell_type": "code",
   "execution_count": 12,
   "metadata": {},
   "outputs": [],
   "source": [
    "def linear_regression_backward_selection(data,y):\n",
    "    # print(\"------ Linear Regression Backward Selection ------\")\n",
    "    X = data[data.columns[:-1]]\n",
    "    Y = data[y].values\n",
    "    backward_features = backward_elimination(X,Y)\n",
    "    # print(backward_features)\n",
    "    return linear_regression(data[backward_features+[y]],y)"
   ]
  },
  {
   "source": [
    "# Using Inbuilt Forward Selection Method"
   ],
   "cell_type": "markdown",
   "metadata": {}
  },
  {
   "cell_type": "code",
   "execution_count": 13,
   "metadata": {},
   "outputs": [],
   "source": [
    "def forward_selection_inbuilt(X,Y,k,score):\n",
    "    sfs = SFS(LinearRegression(),k_features=k,forward=True,floating=False,scoring = score,cv = 0)\n",
    "    sfs.fit(X, Y)\n",
    "    lst = list(sfs.k_feature_names_)\n",
    "    return lst"
   ]
  },
  {
   "cell_type": "code",
   "execution_count": 14,
   "metadata": {},
   "outputs": [],
   "source": [
    "def linear_regression_forward_selection_inbuit(data,y):\n",
    "    # print(\"------ Linear Regression Forward Selection Inbuilt ------\")\n",
    "\n",
    "    X = data[data.columns[:-1]]\n",
    "    Y = data[y].values\n",
    "    scores = ['explained_variance','max_error','neg_mean_absolute_error','neg_mean_squared_error',\n",
    "                  'neg_root_mean_squared_error','neg_median_absolute_error','r2']\n",
    "    df = pd.DataFrame(columns=scores,index=range(1,data.shape[1]+1))\n",
    "    for k in range(1,data.shape[1]+1):\n",
    "        for score in scores:\n",
    "            sfs = forward_selection_inbuilt(X,Y,k,score)\n",
    "            df.loc[k,score] = sfs\n",
    "    df.to_csv(\"forwardFeatures.csv\",index=None)\n",
    "    return df"
   ]
  },
  {
   "source": [
    "# Using Inbuilt Backward Elimination Method"
   ],
   "cell_type": "markdown",
   "metadata": {}
  },
  {
   "cell_type": "code",
   "execution_count": 15,
   "metadata": {},
   "outputs": [],
   "source": [
    "def backward_selection_inbuilt(X,Y,k,score):\n",
    "    sfs = SFS(LinearRegression(),k_features=k,forward=False,floating=False,scoring = score,cv = 0)\n",
    "    sfs.fit(X, Y)\n",
    "    lst = list(sfs.k_feature_names_)\n",
    "    return lst"
   ]
  },
  {
   "cell_type": "code",
   "execution_count": 16,
   "metadata": {},
   "outputs": [],
   "source": [
    "def linear_regression_backward_selection_inbuit(data,y):\n",
    "    # print(\"------ Linear Regression Backward Selection Inbuilt ------\")\n",
    "    X = data[data.columns[:-1]]\n",
    "    Y = data[y].values\n",
    "    scores = ['explained_variance','max_error','neg_mean_absolute_error','neg_mean_squared_error',\n",
    "                  'neg_root_mean_squared_error','neg_median_absolute_error','r2']\n",
    "    df = pd.DataFrame(columns=scores,index=range(1,data.shape[1]+1))\n",
    "    for k in range(1,data.shape[1]+1):\n",
    "        for score in scores:\n",
    "            sfs = backward_selection_inbuilt(X,Y,k,score)\n",
    "            df.loc[k,score] = sfs\n",
    "    df.to_csv(\"backwardFeatures.csv\",index=None)\n",
    "    return df"
   ]
  },
  {
   "source": [
    "# Ridge Regression"
   ],
   "cell_type": "markdown",
   "metadata": {}
  },
  {
   "cell_type": "code",
   "execution_count": 17,
   "metadata": {},
   "outputs": [],
   "source": [
    "def bestparams_ridge(alpha,X_train,Y_train):\n",
    "    \n",
    "    ridge = Ridge(alpha=1).fit(X_train,Y_train)\n",
    "    \n",
    "    param_grid = dict(alpha=alpha)\n",
    "    \n",
    "    grid = GridSearchCV(estimator=ridge, param_grid=param_grid, scoring='r2')\n",
    "    \n",
    "    grid.fit(X_train,Y_train)\n",
    "    \n",
    "    alpha_val = grid.best_estimator_.alpha\n",
    "    \n",
    "    return alpha_val"
   ]
  },
  {
   "cell_type": "code",
   "execution_count": 18,
   "metadata": {},
   "outputs": [],
   "source": [
    "def ridge_regression(data,y):\n",
    "    \n",
    "    # print(\"------ Ridge Regression ------\")\n",
    "\n",
    "    X = data[data.columns[:-1]]\n",
    "    Y = data[y].values\n",
    "    \n",
    "    X_train, X_test, Y_train, Y_test = train_test_split(X, Y, test_size=0.3, random_state=0)\n",
    "    \n",
    "    # selection of alpha value from the respective array values\n",
    "    alpha = np.array([1,0.1,0.01,0.001,0.0001,0])\n",
    "    best = bestparams_ridge(alpha,X_train,Y_train)\n",
    "    # print(\"Best Alpha:\", best) # best alpha value\n",
    "    \n",
    "    # Re-selecting the alpha value based on the above selected alpha value\n",
    "    alpha1 = np.arange(best-10,best+10)\n",
    "    best_alpha = bestparams_ridge(alpha1,X_train,Y_train)\n",
    "    # print(\"Best Alpha after tuning : \", best_alpha)\n",
    "    # Ridge regression with the above best alpha value and the train datasets.\n",
    "    clf = Ridge(alpha=best_alpha)\n",
    "    clf.fit(X_train, Y_train)\n",
    "    \n",
    "    pred = clf.predict(X_test)\n",
    "    \n",
    "    confidence = clf.score(X_test, Y_test)\n",
    "    rmse = sqrt(metrics.mean_squared_error(Y_test, pred))\n",
    "    mae = metrics.mean_absolute_error(Y_test, pred)\n",
    "    mse = metrics.mean_squared_error(Y_test, pred)\n",
    "\n",
    "    ols_values = OLS_Regression(X_train,Y_train)\n",
    "\n",
    "    return {\"root_mean_squared_error\":rmse,\"mean_absolute_error\":mae,\"mean_squared_error\":mse,\"OLS\":ols_values}"
   ]
  },
  {
   "source": [
    "# Lasso Regression"
   ],
   "cell_type": "markdown",
   "metadata": {}
  },
  {
   "cell_type": "code",
   "execution_count": 19,
   "metadata": {},
   "outputs": [],
   "source": [
    "def bestparams_lasso(alpha,X_train,Y_train):\n",
    "    \n",
    "    lasso = Lasso(alpha=1).fit(X_train,Y_train)\n",
    "    \n",
    "    param_grid = dict(alpha=alpha)\n",
    "    \n",
    "    grid = GridSearchCV(estimator=lasso, param_grid=param_grid, scoring='r2')\n",
    "    \n",
    "    grid.fit(X_train,Y_train)\n",
    "    \n",
    "    alpha_val = grid.best_estimator_.alpha\n",
    "    \n",
    "    return alpha_val"
   ]
  },
  {
   "cell_type": "code",
   "execution_count": 20,
   "metadata": {},
   "outputs": [],
   "source": [
    "def lasso_regression(data,y):\n",
    "    \n",
    "    # print(\"------ Lasso Regression ------\")\n",
    "\n",
    "    X = data[data.columns[:-1]]\n",
    "    Y = data[y].values\n",
    "    \n",
    "    X_train, X_test, Y_train, Y_test = train_test_split(X, Y, test_size=0.3, random_state=0)\n",
    "    \n",
    "    # selection of alpha value from the respective array values\n",
    "    alpha = np.array([1,0.1,0.01,0.001,0.0001,0])\n",
    "    best = bestparams_lasso(alpha,X_train,Y_train)\n",
    "    # print(\"Best Alpha:\", best) # best alpha value\n",
    "    \n",
    "    # Re-selecting the alpha value based on the above selected alpha value\n",
    "    alpha1 = np.arange(best-10,best+10)\n",
    "    best_alpha = bestparams_lasso(alpha1,X_train,Y_train)\n",
    "    # print(\"Best Alpha after tuning : \", best_alpha)\n",
    "    # Lasso regression with the above best alpha value and the train datasets.\n",
    "    clf = Lasso(alpha=best_alpha)\n",
    "    clf.fit(X_train, Y_train)\n",
    "    \n",
    "    pred = clf.predict(X_test)\n",
    "    \n",
    "    confidence = clf.score(X_test, Y_test)\n",
    "    rmse = sqrt(metrics.mean_squared_error(Y_test, pred))\n",
    "    mae = metrics.mean_absolute_error(Y_test, pred)\n",
    "    mse = metrics.mean_squared_error(Y_test, pred)\n",
    "    ols_values = OLS_Regression(X_train,Y_train)\n",
    "\n",
    "    return {\"root_mean_squared_error\":rmse,\"mean_absolute_error\":mae,\"mean_squared_error\":mse,\"OLS\":ols_values}"
   ]
  },
  {
   "source": [
    "# Elastic Regression"
   ],
   "cell_type": "markdown",
   "metadata": {}
  },
  {
   "cell_type": "code",
   "execution_count": 21,
   "metadata": {},
   "outputs": [],
   "source": [
    "def bestparams_elastic(alphas,l1,X_train,Y_train):\n",
    "    \n",
    "    elastic_net = ElasticNet(alpha=1, l1_ratio=0.2).fit(X_train, Y_train)\n",
    "    param_grid = dict(alpha=alphas, l1_ratio=l1)\n",
    "    \n",
    "    grid = GridSearchCV(estimator=elastic_net, param_grid=param_grid, scoring='r2')\n",
    "    \n",
    "    grid_result = grid.fit(X_train, Y_train)\n",
    "    \n",
    "    alpha_val = grid_result.best_estimator_.alpha\n",
    "    l1_val = grid_result.best_estimator_.l1_ratio\n",
    "    \n",
    "    return (alpha_val,l1_val)"
   ]
  },
  {
   "cell_type": "code",
   "execution_count": 22,
   "metadata": {},
   "outputs": [],
   "source": [
    "def elastic_net_regression(data,y):\n",
    "\n",
    "    # print(\"------ Elastic Net Regression ------\")\n",
    "    \n",
    "    X = data[data.columns[:-1]]\n",
    "    Y = data[y].values\n",
    "    \n",
    "    X_train, X_test, Y_train, Y_test = train_test_split(X, Y, test_size=0.3, random_state=0)\n",
    "    \n",
    "    # selection of alpha value from the respective array values\n",
    "    \n",
    "    alpha = np.array([0,0.1,0.001,0.0001,1])\n",
    "    l1_ratio = np.array([0, 0.1, 0.2, 0.3, 0.4, 0.5, 0.6, 0.7, 0.8, 0.9, 1])\n",
    "    \n",
    "    best = bestparams_elastic(alpha,l1_ratio,X_train,Y_train)\n",
    "    # print(\"Best Alpha:\", best[0]) # best alpha value\n",
    "    # print(\"Best l1 - value:\", best[1])\n",
    "    \n",
    "    # Re-selecting the alpha value based on the above selected alpha value\n",
    "    \n",
    "    alpha1 = np.arange(best[0]/10,best[0]*10)\n",
    "    best_alpha = bestparams_elastic(alpha1,l1_ratio,X_train,Y_train)\n",
    "    # print(\"Best Alpha after tuning : \", best_alpha[0])\n",
    "    # print(\"Best l1 after tuning : \", best_alpha[1])\n",
    "    clf = ElasticNet(alpha=best_alpha[0],l1_ratio = best_alpha[1])\n",
    "    clf.fit(X_train, Y_train)\n",
    "    \n",
    "    pred = clf.predict(X_test)\n",
    "    \n",
    "    confidence = clf.score(X_test, Y_test)\n",
    "    \n",
    "    rmse = sqrt(metrics.mean_squared_error(Y_test, pred))\n",
    "    mae = metrics.mean_absolute_error(Y_test, pred)\n",
    "    mse = metrics.mean_squared_error(Y_test, pred)\n",
    "    ols_values = OLS_Regression(X_train,Y_train)\n",
    "    \n",
    "    # coeff_vs_Regularization(X_train,Y_train)\n",
    "\n",
    "    return {\"root_mean_squared_error\":rmse,\"mean_absolute_error\":mae,\"mean_squared_error\":mse,\"OLS\":ols_values}\n",
    "    "
   ]
  },
  {
   "cell_type": "code",
   "execution_count": 23,
   "metadata": {},
   "outputs": [],
   "source": [
    "def coeff_vs_Regularization(X_train,Y_train):\n",
    "    coefs = []\n",
    "    n_alphas = 200\n",
    "    alphas = np.logspace(-10, -2, n_alphas)\n",
    "\n",
    "    for a in alphas:\n",
    "        elastic = ElasticNet(alpha=a)\n",
    "        elastic.fit(X_train, Y_train)\n",
    "        coefs.append(elastic.coef_)\n",
    "    \n",
    "    ax = plt.gca()\n",
    "\n",
    "    ax.plot(alphas, coefs)\n",
    "    ax.set_xscale('log')\n",
    "    ax.set_xlim(ax.get_xlim()[::-1])  # reverse axis\n",
    "    plt.xlabel('alpha(log scale)')\n",
    "    plt.ylabel('Coefficients')\n",
    "    plt.title('ElasticNet - Coefficients Vs Regularization')\n",
    "    plt.axis('tight')\n",
    "    plt.show()"
   ]
  },
  {
   "source": [
    "# Pretty Table"
   ],
   "cell_type": "markdown",
   "metadata": {}
  },
  {
   "cell_type": "code",
   "execution_count": 24,
   "metadata": {},
   "outputs": [],
   "source": [
    "columns = [\"company\",'root_mean_squared_error', 'mean_absolute_error', 'mean_squared_error','rsquared_adj', 'aic', 'bic', 'fvalue']"
   ]
  },
  {
   "cell_type": "code",
   "execution_count": null,
   "metadata": {},
   "outputs": [],
   "source": [
    "models = [\"linear_regression\",\"linear_regression_forward_selection\",\"linear_regression_backward_selection\",\"lasso_regression\",\"ridge_regression\",\"elastic_net_regression\"]\n",
    "tables = {model:PrettyTable() for model in models}\n",
    "for name,table in tables.items():\n",
    "    table.field_names = columns"
   ]
  },
  {
   "cell_type": "code",
   "execution_count": null,
   "metadata": {},
   "outputs": [],
   "source": [
    "def create_pretty_table(filename,model,result):\n",
    "    values = [filename] + [v for k,v in result.items() if not isinstance(v,dict)] + list(result[\"OLS\"].values())\n",
    "    tables[model].add_row(values)\n",
    "    tables[model].title = model"
   ]
  },
  {
   "cell_type": "code",
   "execution_count": null,
   "metadata": {},
   "outputs": [],
   "source": [
    "%%time\n",
    "for filename in os.listdir(os.path.join(path,\"Data/Stock\")):\n",
    "    if filename.startswith(\"gr\"):\n",
    "        start = time.time()\n",
    "        df = pd.read_csv(os.path.join(path,\"Data\\Stock\\\\\"+filename))\n",
    "        df = pre_process_data(df,60)\n",
    "        column = \"Next Day Close Price GR\"\n",
    "        (data,column) = dependent_column(df,column)\n",
    "        result = linear_regression(data,column)\n",
    "        create_pretty_table(filename,linear_regression.__name__,result)\n",
    "        result = linear_regression_forward_selection(data,column)\n",
    "        create_pretty_table(filename,linear_regression_forward_selection.__name__,result)\n",
    "        result = linear_regression_backward_selection(data,column)\n",
    "        create_pretty_table(filename,linear_regression_backward_selection.__name__,result)\n",
    "        result = ridge_regression(data,column)\n",
    "        create_pretty_table(filename,ridge_regression.__name__,result)\n",
    "        result = lasso_regression(data,column)\n",
    "        create_pretty_table(filename,lasso_regression.__name__,result)\n",
    "        result = elastic_net_regression(data,column)\n",
    "        create_pretty_table(filename,elastic_net_regression.__name__,result)\n",
    "        end = time.time()\n",
    "        print(os.path.splitext(filename)[0],end-start)"
   ]
  },
  {
   "cell_type": "code",
   "execution_count": 131,
   "metadata": {},
   "outputs": [
    {
     "output_type": "stream",
     "name": "stdout",
     "text": [
      "+-------------------------------------------------------------------------------------------------------------------------------------------------------------------------------+\n|                                                                               linear_regression                                                                               |\n+--------------+-------------------------+----------------------+------------------------+---------------------+---------------------+---------------------+--------------------+\n|   company    | root_mean_squared_error | mean_absolute_error  |   mean_squared_error   |     rsquared_adj    |         aic         |         bic         |       fvalue       |\n+--------------+-------------------------+----------------------+------------------------+---------------------+---------------------+---------------------+--------------------+\n| gr500112.csv |   0.29474546460059015   | 0.026969088628010125 |  0.08687488890261773   |  0.988419795310432  |  -10162.95252183275 |  -9592.670795865704 | 1786.6111072476808 |\n| gr500180.csv |   0.05473172427654574   | 0.015361042580091666 | 0.0029955616422838263  |  0.9251976169752373 |  -9393.639961650353 |  -8823.503107809509 | 259.37917773574844 |\n| gr500182.csv |   0.01687904467830225   | 0.01235428073525149  | 0.0002849021492521235  |  0.3021497893530184 | -11309.288799124015 | -10750.110759064724 | 10.260304862306091 |\n| gr500209.csv |   0.019788313663372335  | 0.01360322763856424  | 0.00039157735764000826 | 0.48138607648358345 |  -8747.606875042016 |  -8177.228682974036 | 20.43685656030628  |\n| gr500325.csv |   0.021470653453584183  | 0.014989892416014807 | 0.0004609889597239065  |  0.3738155973314794 |  -8424.807571357549 |  -7854.381180768015 | 13.506598265176166 |\n| gr500680.csv |   0.014956491314397056  | 0.010622873249390265 | 0.00022369663243763458 |  0.3153036029235501 | -11349.874904623486 | -10792.844454200711 | 10.544936701278447 |\n| gr507685.csv |   0.17195786804183627   | 0.019054054821403776 |  0.029569508381493578  | 0.34807335058906597 |  -9884.733144501075 |  -9314.692987651819 | 12.14280392335189  |\n| gr530965.csv |   0.038991979064209405  | 0.017377890414587992 | 0.0015203744313437447  | 0.37260918865909365 |  -8927.509661621309 |  -8357.51788800651  | 13.27203208348406  |\n| gr532174.csv |   0.13758048904830353   | 0.023668916242860348 |  0.018928390966770365  |  0.9266275121003609 |  -9487.679759084203 |  -8917.349788549725 | 265.32678492228086 |\n| gr532210.csv |   0.08221942218418729   | 0.018281198087934193 |  0.006760033384301628  | 0.24773535942041114 |  -9950.79782886423  |  -9383.852005930625 | 7.602691456141495  |\n| gr532540.csv |   0.05147461395354906   | 0.015343927888997131 | 0.0026496358816669075  |  0.5678548098255025 | -10410.521927144604 |  -9847.959233965095 | 26.466038879142623 |\n+--------------+-------------------------+----------------------+------------------------+---------------------+---------------------+---------------------+--------------------+\n+--------------------------------------------------------------------------------------------------------------------------------------------------------------------------------+\n|                                                                      linear_regression_forward_selection                                                                       |\n+--------------+-------------------------+----------------------+------------------------+----------------------+---------------------+---------------------+--------------------+\n|   company    | root_mean_squared_error | mean_absolute_error  |   mean_squared_error   |     rsquared_adj     |         aic         |         bic         |       fvalue       |\n+--------------+-------------------------+----------------------+------------------------+----------------------+---------------------+---------------------+--------------------+\n| gr500112.csv |    0.2937102329457781   | 0.02661415810720865  |  0.08626570093706323   |  0.9877178713928582  |  -10095.45318232467 |  -9852.659972259493 | 3915.3535028215842 |\n| gr500180.csv |   0.041359934926004316  | 0.01384335849322826  | 0.0017106442170833117  |  0.9126487518061099  |  -9149.024182189163 |  -9041.770714634946 | 1150.2836653671777 |\n| gr500182.csv |   0.01628028518632697   | 0.01179430273139806  | 0.00026504768574813734 | 0.006721189013795592 | -10658.032496171561 | -10612.846391924346 | 2.773713131453928  |\n| gr500209.csv |   0.019065790202356082  | 0.012865280503229704 | 0.0003635043560402571  | 0.40849817620631523  |  -8555.254515949768 |  -8464.897574632068 | 91.42699074698183  |\n| gr500325.csv |   0.019056341957168047  | 0.013415911412723984 | 0.00036314416878852334 |  0.2553334163696823  |  -8143.463445327492 |  -8047.451082554996 | 43.275441075435126 |\n| gr500680.csv |   0.014547339914884605  | 0.010349183203351833 | 0.00021162509859919482 | 0.008075810917998472 | -10678.801794047822 | -10639.415802603788 |  3.38664034238189  |\n| gr507685.csv |   0.15663724710528462   | 0.018275873075500788 |  0.024535227180721993  |  0.1413476416262921  |  -9395.122559312542 |  -9316.107092026507 | 25.55125280559104  |\n| gr530965.csv |   0.038454074650993535  | 0.01659577239481865  | 0.0014787158572641835  | 0.22840600539135203  |  -8579.261035428819 |  -8494.60879182266  |  42.1860241338041  |\n| gr532174.csv |   0.12481209320899947   | 0.021666245662139087 |  0.015578058611211972  |  0.9017388171921789  |  -8960.739622276884 |  -8881.683982796858 | 1373.610823844154  |\n| gr532210.csv |   0.07227915319924122   | 0.01661813489854682  |  0.005224275987199383  | 0.057739421062604324 |  -9577.238387918309 |  -9487.42518824566  | 8.755440099676914  |\n| gr532540.csv |   0.05067839357967687   | 0.014955674223825653 |  0.002568299575816634  |  0.3392612986056508  |  -9667.053839332679 |  -9583.504924504039 | 67.37295061907236  |\n+--------------+-------------------------+----------------------+------------------------+----------------------+---------------------+---------------------+--------------------+\n+--------------------------------------------------------------------------------------------------------------------------------------------------------------------------------+\n|                                                                      linear_regression_backward_selection                                                                      |\n+--------------+-------------------------+----------------------+------------------------+----------------------+---------------------+---------------------+--------------------+\n|   company    | root_mean_squared_error | mean_absolute_error  |   mean_squared_error   |     rsquared_adj     |         aic         |         bic         |       fvalue       |\n+--------------+-------------------------+----------------------+------------------------+----------------------+---------------------+---------------------+--------------------+\n| gr500112.csv |    0.294302796297736    | 0.026753831228169885 |  0.08661413590866666   |  0.9876411036592103  | -10071.672862654215 |  -9766.769761642132 | 3098.383175347702  |\n| gr500180.csv |   0.04205272869441644   | 0.013910380856367716 |  0.001768431990646196  |  0.9181353980010686  |  -9278.66765099463  |  -9137.54466737066  | 938.5983929402262  |\n| gr500182.csv |   0.016318537904628876  | 0.011831221079971942 | 0.0002662946793448094  | 0.010958548812179725 |  -10665.00612352809 |  -10608.52349321907 | 3.323469540284922  |\n| gr500209.csv |   0.01907227860937334   | 0.012804835943319347 | 0.00036375181135355996 | 0.41250748956385663  |  -8566.528445803633 |  -8459.229577988865 | 78.42120562656075  |\n| gr500325.csv |   0.019686925195110713  | 0.013915366356859056 | 0.00038757502363788497 |  0.363252717914201   |  -8456.798505825038 |  -8276.069352370929 | 38.36655607769701  |\n| gr500680.csv |   0.014500025362896367  | 0.010304652459550277 | 0.00021025073552463793 | 0.00939611393770634  | -10677.552555271419 | -10615.660283002222 | 2.7694280934408715 |\n| gr507685.csv |    0.1587455341981677   | 0.018465872061102704 |  0.025200144627861628  | 0.16455883981508834  |  -9435.527840657043 |  -9260.565020237966 | 14.26704338046224  |\n| gr530965.csv |   0.03797129542598767   | 0.016507776079523806 |  0.001441819276327632  |  0.2410261343542205  |  -8609.710924855208 |  -8502.48474962074  | 35.88238425493348  |\n| gr532174.csv |    0.123427493517233    | 0.02136549989810551  |  0.015234346155946597  |   0.92521546997522   |  -9499.927830179742 |  -9234.52675478251  | 552.2009233603127  |\n| gr532210.csv |   0.07824801729828697   | 0.017436722025805755 | 0.0061227522111130155  |  0.2015351348693476  |  -9900.691786448107 |  -9743.518687020969 | 19.254164331578703 |\n| gr532540.csv |   0.050995249937909014  | 0.015007760392347925 | 0.0026005155162298096  |  0.3913722227936064  |  -9803.664719241795 |  -9592.007468342574 |  33.8119802930431  |\n+--------------+-------------------------+----------------------+------------------------+----------------------+---------------------+---------------------+--------------------+\n+-------------------------------------------------------------------------------------------------------------------------------------------------------------------------------+\n|                                                                                lasso_regression                                                                               |\n+--------------+-------------------------+----------------------+------------------------+---------------------+---------------------+---------------------+--------------------+\n|   company    | root_mean_squared_error | mean_absolute_error  |   mean_squared_error   |     rsquared_adj    |         aic         |         bic         |       fvalue       |\n+--------------+-------------------------+----------------------+------------------------+---------------------+---------------------+---------------------+--------------------+\n| gr500112.csv |   0.28858893162125765   | 0.02757590240124231  |  0.08328357145429893   |  0.988419795310432  |  -10162.95252183275 |  -9592.670795865704 | 1786.6111072476808 |\n| gr500180.csv |   0.04728613100235408   | 0.014849453212765365 |  0.002235978185171791  |  0.9251976169752373 |  -9393.639961650353 |  -8823.503107809509 | 259.37917773574844 |\n| gr500182.csv |   0.016836426923079892  | 0.012327178407168243 | 0.0002834652715362095  |  0.3021497893530184 | -11309.288799124015 | -10750.110759064724 | 10.260304862306091 |\n| gr500209.csv |   0.01902559962356108   | 0.012917315691214942 | 0.00036197344103604744 | 0.48138607648358345 |  -8747.606875042016 |  -8177.228682974036 | 20.43685656030628  |\n| gr500325.csv |   0.020916674681409102  | 0.014819649508697633 | 0.0004375072797279006  |  0.3738155973314794 |  -8424.807571357549 |  -7854.381180768015 | 13.506598265176166 |\n| gr500680.csv |   0.01490197405834831   | 0.010594245848214437 | 0.00022206883083568605 |  0.3153036029235501 | -11349.874904623486 | -10792.844454200711 | 10.544936701278447 |\n| gr507685.csv |   0.03595553014921193   | 0.01329885529590103  | 0.0012928001483108876  | 0.34807335058906597 |  -9884.733144501075 |  -9314.692987651819 | 12.14280392335189  |\n| gr530965.csv |   0.045088633729067615  | 0.017238562225556663 |  0.002032984891554014  | 0.37260918865909365 |  -8927.509661621309 |  -8357.51788800651  | 13.27203208348406  |\n| gr532174.csv |    0.1368014318277283   | 0.023488107387736868 |  0.018714631750116596  |  0.9266275121003609 |  -9487.679759084203 |  -8917.349788549725 | 265.32678492228086 |\n| gr532210.csv |   0.05210359417976104   | 0.016364169465678254 |  0.002714784526449229  | 0.24773535942041114 |  -9950.79782886423  |  -9383.852005930625 | 7.602691456141495  |\n| gr532540.csv |   0.053296661430686405  | 0.015859680498411816 | 0.0028405341196572156  |  0.5678548098255025 | -10410.521927144604 |  -9847.959233965095 | 26.466038879142623 |\n+--------------+-------------------------+----------------------+------------------------+---------------------+---------------------+---------------------+--------------------+\n+-------------------------------------------------------------------------------------------------------------------------------------------------------------------------------+\n|                                                                                ridge_regression                                                                               |\n+--------------+-------------------------+----------------------+------------------------+---------------------+---------------------+---------------------+--------------------+\n|   company    | root_mean_squared_error | mean_absolute_error  |   mean_squared_error   |     rsquared_adj    |         aic         |         bic         |       fvalue       |\n+--------------+-------------------------+----------------------+------------------------+---------------------+---------------------+---------------------+--------------------+\n| gr500112.csv |    0.2891192499669366   | 0.027008712740906493 |  0.08358994070144397   |  0.988419795310432  |  -10162.95252183275 |  -9592.670795865704 | 1786.6111072476808 |\n| gr500180.csv |   0.05365044403562122   | 0.015210599334497447 | 0.0028783701452193243  |  0.9251976169752373 |  -9393.639961650353 |  -8823.503107809509 | 259.37917773574844 |\n| gr500182.csv |   0.01682892519880813   | 0.012270186318581667 | 0.00028321272334707925 |  0.3021497893530184 | -11309.288799124015 | -10750.110759064724 | 10.260304862306091 |\n| gr500209.csv |   0.020454575896344203  | 0.01424732023286659  | 0.0004183896750993053  | 0.48138607648358345 |  -8747.606875042016 |  -8177.228682974036 | 20.43685656030628  |\n| gr500325.csv |   0.020845243959029234  | 0.014759247258482194 | 0.0004345241957114448  |  0.3738155973314794 |  -8424.807571357549 |  -7854.381180768015 | 13.506598265176166 |\n| gr500680.csv |   0.014910274076465245  | 0.01057383885851239  | 0.0002223162730353115  |  0.3153036029235501 | -11349.874904623486 | -10792.844454200711 | 10.544936701278447 |\n| gr507685.csv |    0.0362101326920874   | 0.013830055598791358 | 0.0013111737095785768  | 0.34807335058906597 |  -9884.733144501075 |  -9314.692987651819 | 12.14280392335189  |\n| gr530965.csv |   0.042681032052198795  | 0.017395506898324715 | 0.0018216704970408209  | 0.37260918865909365 |  -8927.509661621309 |  -8357.51788800651  | 13.27203208348406  |\n| gr532174.csv |   0.13757963049166758   |  0.0236684241444633  |  0.01892815472622379   |  0.9266275121003609 |  -9487.679759084203 |  -8917.349788549725 | 265.32678492228086 |\n| gr532210.csv |    0.0667833505698926   |  0.0177636520617852  |  0.004460015913341175  | 0.24773535942041114 |  -9950.79782886423  |  -9383.852005930625 | 7.602691456141495  |\n| gr532540.csv |   0.05261317400243892   | 0.01603773466287041  |  0.002768146078610915  |  0.5678548098255025 | -10410.521927144604 |  -9847.959233965095 | 26.466038879142623 |\n+--------------+-------------------------+----------------------+------------------------+---------------------+---------------------+---------------------+--------------------+\n+-------------------------------------------------------------------------------------------------------------------------------------------------------------------------------+\n|                                                                             elastic_net_regression                                                                            |\n+--------------+-------------------------+----------------------+------------------------+---------------------+---------------------+---------------------+--------------------+\n|   company    | root_mean_squared_error | mean_absolute_error  |   mean_squared_error   |     rsquared_adj    |         aic         |         bic         |       fvalue       |\n+--------------+-------------------------+----------------------+------------------------+---------------------+---------------------+---------------------+--------------------+\n| gr500112.csv |   0.28979609513229604   | 0.026026729194290263 |  0.08398177675392678   |  0.988419795310432  |  -10162.95252183275 |  -9592.670795865704 | 1786.6111072476808 |\n| gr500180.csv |   0.04616830691378658   | 0.014646633373581177 |  0.002131512563285594  |  0.9251976169752373 |  -9393.639961650353 |  -8823.503107809509 | 259.37917773574844 |\n| gr500182.csv |   0.01668140041121984   | 0.012150584762310276 | 0.0002782691196794454  |  0.3021497893530184 | -11309.288799124015 | -10750.110759064724 | 10.260304862306091 |\n| gr500209.csv |   0.020525269737584385  | 0.014182975606288551 | 0.0004212866978005973  | 0.48138607648358345 |  -8747.606875042016 |  -8177.228682974036 | 20.43685656030628  |\n| gr500325.csv |   0.02091584234048498   | 0.014819338117654714 | 0.0004374724608120242  |  0.3738155973314794 |  -8424.807571357549 |  -7854.381180768015 | 13.506598265176166 |\n| gr500680.csv |   0.014809816565610265  | 0.010516398395726713 | 0.00021933066670702425 |  0.3153036029235501 | -11349.874904623486 | -10792.844454200711 | 10.544936701278447 |\n| gr507685.csv |   0.14139787262279888   | 0.017914870093547256 |  0.019993358382253253  | 0.34807335058906597 |  -9884.733144501075 |  -9314.692987651819 | 12.14280392335189  |\n| gr530965.csv |   0.03940583835817718   | 0.01723754408252222  | 0.0015528200967107881  | 0.37260918865909365 |  -8927.509661621309 |  -8357.51788800651  | 13.27203208348406  |\n| gr532174.csv |   0.13679109905522596   | 0.023507043624373013 |  0.018711804780736644  |  0.9266275121003609 |  -9487.679759084203 |  -8917.349788549725 | 265.32678492228086 |\n| gr532210.csv |   0.07458999778572667   | 0.01695783010219831  |  0.005563667769674709  | 0.24773535942041114 |  -9950.79782886423  |  -9383.852005930625 | 7.602691456141495  |\n| gr532540.csv |   0.051523151351548294  | 0.015132189311720947 | 0.0026546351251945524  |  0.5678548098255025 | -10410.521927144604 |  -9847.959233965095 | 26.466038879142623 |\n+--------------+-------------------------+----------------------+------------------------+---------------------+---------------------+---------------------+--------------------+\n"
     ]
    }
   ],
   "source": [
    "for name,table in tables.items():\n",
    "    print(table)"
   ]
  },
  {
   "cell_type": "code",
   "execution_count": null,
   "metadata": {},
   "outputs": [],
   "source": [
    "features = {}"
   ]
  },
  {
   "cell_type": "code",
   "execution_count": null,
   "metadata": {},
   "outputs": [],
   "source": [
    "%%time\n",
    "for filename in os.listdir(os.path.join(path,\"Data/Stock\")):\n",
    "    if filename.startswith(\"gr\"):\n",
    "        start = time.time()\n",
    "        df = pd.read_csv(os.path.join(path,\"Data\\Stock\\\\\"+filename))\n",
    "        df = pre_process_data(df,60)\n",
    "        column = \"Next Day Close Price GR\"\n",
    "        (data,column) = dependent_column(df,column)\n",
    "        X = data[data.columns[:-1]]\n",
    "        Y = data[column].values\n",
    "        forward_features = forward_selection(X,Y)\n",
    "        backward_features = backward_elimination(X,Y)\n",
    "        feat = {\"forward_features\":forward_features,\"backward_features\":backward_features}\n",
    "        end = time.time()\n",
    "        name = os.path.splitext(filename)[0]\n",
    "        features[name] = features.get(name,{})\n",
    "        features[name].update(feat)\n",
    "        end = time.time()\n",
    "        print(name,end-start)"
   ]
  },
  {
   "cell_type": "code",
   "execution_count": 132,
   "metadata": {},
   "outputs": [
    {
     "output_type": "stream",
     "name": "stdout",
     "text": [
      "gr500112\nforward_features ['Beta GR', 'High Price GR', 'CP % LV 7 days', 'Spread High-Low GR', 'Low Price GR', 'CP % HV 7 days', 'WAP GR', 'Min Inc % in 90 days', 'CP % LV 90 days', 'Alpha GR', 'No.of Shares GR', 'Total Turnover (Rs.) GR', 'No. of Trades GR', 'No. of Trades', '% YTD of SP500', 'Spread Close-Open', 'Min Inc % in 180 days', 'Min Inc % in 365 days', 'Close Price GR', '% Return of Company', 'No.of Shares', 'Total Turnover (Rs.)', 'Beta', 'Open Price', 'Close Price', 'Low Price', 'Expenditure  last 4 quarters', 'EPS last 2 quarters', 'CP % LV 180 days', '% YTD of Company', 'Alpha', 'Close Price of SP500', 'CP % LV 365 days', 'Lower Band', 'High Price', 'CP % HV 365 days', 'Net Profit  last 8 quarters', 'Upper Band', 'Band Area', 'Avg Inc % in 90 days', 'Avg Inc % in 180 days', 'Spread High-Low', 'Rate', 'Max Dec % in 90 days', 'Avg Dec % in 90 days']\nbackward_features ['Open Price', 'High Price', 'Close Price', 'No. of Trades', 'Spread High-Low', 'Spread Close-Open', '% Return of Company', 'Close Price of SP500', 'Beta', '% YTD of Company', '% YTD of SP500', 'Alpha', 'Lower Band', 'Upper Band', 'Band Area', 'Income', 'Expenditure', 'EPS', 'Revenue last 2 quarters', 'Income last 2 quarters', 'Expenditure  last 2 quarters', 'Net Profit  last 2 quarters', 'EPS last 2 quarters', 'Revenue last 4 quarters', 'Expenditure  last 4 quarters', 'Income last 8 quarters', 'Expenditure  last 8 quarters', 'Net Profit  last 8 quarters', 'EPS last 8 quarters', 'Low Price GR', 'Close Price GR', 'WAP GR', 'No.of Shares GR', 'No. of Trades GR', 'Total Turnover (Rs.) GR', 'Spread High-Low GR', 'Alpha GR', 'Beta GR', 'Max Dec % in 90 days', 'Min Inc % in 90 days', 'Avg Inc % in 90 days', 'Avg Dec % in 90 days', 'Min Inc % in 180 days', 'Avg Inc % in 180 days', 'Min Inc % in 365 days', 'Dividend Value GR', 'Income GR', 'Net Profit GR', 'CP % LV 7 days', 'CP % HV 7 days', 'CP % LV 90 days', 'CP % HV 90 days', 'CP % LV 180 days', 'CP % LV 365 days', 'CP % HV 365 days', 'CP % BA 365 days']\n---------------------------\ngr500180\nforward_features ['Beta GR', 'Alpha GR', 'CP % HV 7 days', 'CP % BA 7 days', 'Spread Close-Open GR', '% Return of Company', 'Open Price GR', 'Close Price GR', 'CP % BA 30 days', 'Spread Close-Open', 'Spread High-Low', 'Net Profit  last 2 quarters', 'Net Profit  last 4 quarters', 'CP % LV 365 days', 'CP % LV 7 days', 'p/e', '% YTD of Company', 'Rate', 'Close Price of SP500', '% YTD of SP500']\nbackward_features ['Low Price', 'Spread High-Low', 'Spread Close-Open', '% Return of Company', 'Close Price of SP500', '% YTD of SP500', 'Alpha', 'Income', 'EPS', 'year', 'Income last 4 quarters', 'Net Profit  last 4 quarters', 'p/e', 'Open Price GR', 'Close Price GR', 'No.of Shares GR', 'No. of Trades GR', 'Total Turnover (Rs.) GR', 'Spread Close-Open GR', 'Alpha GR', 'Beta GR', 'Income GR', 'CP % LV 7 days', 'CP % HV 7 days', 'CP % BA 7 days', 'CP % HV 180 days']\n---------------------------\ngr500182\nforward_features ['CP % HV 7 days', 'CP % LV 7 days', '% Return of Company', 'Close Price GR', 'CP % LV 30 days', 'Sequential Increase %', 'Max Inc % in 90 days', 'Alpha GR', 'CP % BA 90 days']\nbackward_features ['% Return of Company', 'Close Price GR', 'No.of Shares GR', 'No. of Trades GR', 'Deliverable Quantity GR', 'Alpha GR', 'Sequential Increase %', 'Avg Inc % in 90 days', 'CP % LV 7 days', 'CP % HV 7 days', 'CP % LV 30 days']\n---------------------------\ngr500209\nforward_features ['Beta GR', 'Alpha GR', 'CP % LV 7 days', 'CP % HV 7 days', 'No. of Trades GR', 'Spread High-Low GR', 'CP % BA 7 days', 'Close Price GR', '% Return of Company', 'Low Price GR', 'Spread Close-Open', 'Min Inc % in 90 days', 'Spread High-Low', 'CP % HV 30 days', 'Avg Dec % in 365 days', 'Beta', 'Open Price GR']\nbackward_features ['No.of Shares', 'Spread High-Low', 'Spread Close-Open', '% Return of Company', 'Open Price GR', 'High Price GR', 'Close Price GR', 'WAP GR', 'No.of Shares GR', 'No. of Trades GR', 'Total Turnover (Rs.) GR', 'Alpha GR', 'Beta GR', 'Min Inc % in 90 days', 'Min Inc % in 180 days', 'Avg Dec % in 365 days', 'CP % LV 7 days', 'CP % HV 7 days', 'CP % BA 7 days', 'CP % HV 30 days']\n---------------------------\ngr500325\nforward_features ['CP % LV 7 days', 'Alpha GR', 'Beta GR', 'Close Price GR', 'CP % HV 7 days', '% Return of Company', 'Sequential Increase', 'Max Dec % in 90 days', 'Min Inc % in 180 days', 'CP % HV 30 days', 'Beta', 'Max Dec % in 365 days', 'EPS', 'CP % LV 180 days', '% YTD of SP500', 'Lower Band', 'Expenditure', 'Revenue']\nbackward_features ['Spread High-Low', 'Spread Close-Open', '% Return of Company', '% Return of SP500', 'Beta', 'Upper Band', 'Revenue', 'Income', 'year', 'Revenue last 2 quarters', 'Income last 2 quarters', 'Expenditure  last 2 quarters', 'Expenditure  last 4 quarters', 'Net Profit  last 4 quarters', 'Revenue last 8 quarters', 'Income last 8 quarters', 'Expenditure  last 8 quarters', 'Open Price GR', 'Low Price GR', 'Close Price GR', 'Alpha GR', 'Beta GR', 'Sequential Increase', 'Max Dec % in 90 days', 'Min Inc % in 180 days', 'Max Dec % in 365 days', 'CP % LV 7 days', 'CP % HV 7 days', 'CP % HV 30 days', 'CP % LV 180 days', 'CP % BA 180 days', 'CP % LV 365 days', 'CP % BA 365 days']\n---------------------------\ngr500680\nforward_features ['CP % LV 7 days', 'CP % HV 7 days', '% Return of Company', 'Close Price GR', 'CP % LV 30 days', 'Spread Close-Open', 'No. of Trades GR', 'Max Dec % in 365 days']\nbackward_features ['High Price', 'Low Price', 'WAP', 'Spread High-Low', '% Return of Company', 'Close Price GR', 'No. of Trades GR', 'Max Inc % in 180 days', 'Min Dec % in 180 days', 'Max Dec % in 365 days', 'CP % LV 7 days', 'CP % HV 7 days', 'CP % LV 30 days']\n---------------------------\ngr507685\nforward_features ['High Price GR', 'CP % LV 7 days', 'CP % HV 7 days', 'Beta GR', '% Return of Company', 'Close Price GR', 'Alpha GR', 'CP % BA 7 days', 'WAP GR', 'No. of Trades GR', 'CP % HV 30 days', 'Min Inc % in 90 days', 'Spread High-Low', 'Max Dec % in 90 days', 'Sequential Increase']\nbackward_features ['High Price', 'Close Price', 'WAP', 'Spread Close-Open', '% Return of Company', '% YTD of Company', '% YTD of SP500', 'Alpha', 'Revenue', 'Income', 'Revenue last 8 quarters', 'Income last 8 quarters', 'EPS last 8 quarters', 'Open Price GR', 'High Price GR', 'Close Price GR', 'WAP GR', 'No. of Trades GR', 'Alpha GR', 'Beta GR', 'Sequential Increase', 'Max Inc % in 90 days', 'Max Dec % in 90 days', 'Min Inc % in 90 days', 'Min Dec % in 90 days', 'Avg Dec % in 90 days', 'Max Inc % in 365 days', 'Avg Dec % in 365 days', 'CP % LV 7 days', 'CP % HV 7 days', 'CP % BA 7 days', 'CP % HV 30 days']\n---------------------------\ngr530965\nforward_features ['Beta GR', 'Open Price GR', 'CP % HV 7 days', 'CP % LV 7 days', '% Return of Company', 'Close Price GR', 'Alpha GR', 'Spread Close-Open', 'CP % BA 7 days', 'Max Inc % in 365 days', 'CP % HV 30 days', 'Beta', '% YTD of SP500', 'No. of Trades GR', 'Low Price GR', 'WAP GR']\nbackward_features ['Total Turnover (Rs.)', 'Spread Close-Open', '% Return of Company', 'Close Price of SP500', 'Beta', 'Revenue last 2 quarters', 'Income last 2 quarters', 'Open Price GR', 'Low Price GR', 'Close Price GR', 'No.of Shares GR', 'Total Turnover (Rs.) GR', 'Alpha GR', 'Beta GR', 'Max Inc % in 180 days', 'Max Inc % in 365 days', 'CP % LV 7 days', 'CP % HV 7 days', 'CP % BA 7 days', 'CP % HV 90 days']\n---------------------------\ngr532174\nforward_features ['Beta GR', 'High Price GR', 'CP % LV 7 days', 'CP % HV 7 days', 'Spread Close-Open', 'Open Price GR', 'Max Dec % in 180 days', 'Spread High-Low GR', 'Low Price GR', 'Alpha GR', 'CP % BA 7 days', 'Min Inc % in 180 days', 'Avg Inc % in 180 days', 'Avg Dec % in 180 days']\nbackward_features ['Open Price', 'WAP', 'Spread Close-Open', 'Dividend Value', '% Return of Company', 'Close Price of SP500', '% Return of SP500', 'Beta', 'Rate', '% YTD of Company', '% YTD of SP500', 'Alpha', 'Lower Band', 'Upper Band', 'Band Area', 'Revenue', 'Income', 'Net Profit', 'EPS', 'year', 'Income last 2 quarters', 'Expenditure  last 2 quarters', 'Revenue last 4 quarters', 'Income last 4 quarters', 'Expenditure  last 4 quarters', 'Net Profit  last 4 quarters', 'Income last 8 quarters', 'Expenditure  last 8 quarters', 'EPS last 8 quarters', 'Open Price GR', 'High Price GR', 'Low Price GR', 'Close Price GR', 'WAP GR', 'Spread High-Low GR', 'Alpha GR', 'Beta GR', 'Max Dec % in 90 days', 'Avg Dec % in 90 days', 'Max Dec % in 180 days', 'Avg Dec % in 180 days', 'Dividend Value GR', 'Expenditure GR', 'EPS GR', 'CP % LV 7 days', 'CP % HV 7 days', 'CP % BA 7 days', 'CP % HV 90 days', 'CP % LV 365 days']\n---------------------------\ngr532210\nforward_features ['CP % HV 7 days', 'CP % BA 7 days', 'Revenue last 2 quarters', '% Return of Company', 'Open Price GR', 'Close Price GR', 'Spread High-Low', 'Spread Close-Open', 'Sequential Increase %', 'Max Inc % in 180 days', 'Min Inc % in 180 days', 'Sequential Decrease %', 'Upper Band', 'No. of Trades GR', 'Low Price GR', '% Return of SP500', 'CP % BA 30 days']\nbackward_features ['Open Price', 'Low Price', 'WAP', '% Return of Company', '% Return of SP500', 'Beta', 'Lower Band', 'Upper Band', 'Band Area', 'Income', 'Net Profit', 'EPS', 'Net Profit  last 8 quarters', 'p/e', 'Open Price GR', 'High Price GR', 'Low Price GR', 'Close Price GR', 'WAP GR', 'No. of Trades GR', 'Spread High-Low GR', 'Alpha GR', 'Sequential Increase %', 'Sequential Decrease %', 'Max Inc % in 180 days', 'Min Inc % in 180 days', 'CP % HV 7 days', 'CP % BA 7 days', 'CP % LV 90 days', 'CP % LV 365 days']\n---------------------------\ngr532540\nforward_features ['WAP GR', 'CP % LV 7 days', 'CP % HV 7 days', 'Close Price GR', '% Return of Company', 'Max Dec % in 180 days', 'Max Inc % in 90 days', 'Min Dec % in 90 days', 'CP % BA 7 days', 'Max Dec % in 90 days', 'CP % HV 90 days', 'Open Price GR', 'Spread Close-Open', 'No. of Trades GR', 'Alpha GR', 'Max Inc % in 365 days', 'Low Price', 'Close Price', 'Spread High-Low', 'Spread Close-Open', '% Return of Company', 'Beta', 'Rate', '% YTD of Company', 'Lower Band', 'Upper Band', 'Band Area', 'Income', 'Expenditure  last 2 quarters', 'Revenue last 8 quarters', 'Expenditure  last 8 quarters', 'Net Profit  last 8 quarters', 'EPS last 8 quarters', 'Open Price GR', 'High Price GR', 'Close Price GR', 'No. of Trades GR', 'Alpha GR', 'Beta GR', 'Max Inc % in 90 days', 'Max Dec % in 90 days', 'Min Inc % in 90 days', 'Min Dec % in 90 days', 'Avg Inc % in 90 days', 'Avg Dec % in 90 days', 'Max Inc % in 180 days', 'Max Dec % in 180 days', 'Avg Dec % in 180 days', 'Max Inc % in 365 days', 'Income GR', 'CP % LV 7 days', 'CP % HV 7 days', 'CP % BA 7 days', 'CP % LV 90 days', 'CP % LV 365 days', 'CP % BA 365 days', 'Low Price', 'Close Price', 'Spread High-Low', 'Spread Close-Open', '% Return of Company', 'Beta', 'Rate', '% YTD of Company', 'Lower Band', 'Upper Band', 'Band Area', 'Income', 'Expenditure  last 2 quarters', 'Revenue last 8 quarters', 'Expenditure  last 8 quarters', 'Net Profit  last 8 quarters', 'EPS last 8 quarters', 'Open Price GR', 'High Price GR', 'Close Price GR', 'No. of Trades GR', 'Alpha GR', 'Beta GR', 'Max Inc % in 90 days', 'Max Dec % in 90 days', 'Min Inc % in 90 days', 'Min Dec % in 90 days', 'Avg Inc % in 90 days', 'Avg Dec % in 90 days', 'Max Inc % in 180 days', 'Max Dec % in 180 days', 'Avg Dec % in 180 days', 'Max Inc % in 365 days', 'Income GR', 'CP % LV 7 days', 'CP % HV 7 days', 'CP % BA 7 days', 'CP % LV 90 days', 'CP % LV 365 days', 'CP % BA 365 days']\nbackward_features ['Low Price', 'Close Price', 'Spread High-Low', 'Spread Close-Open', '% Return of Company', 'Beta', 'Rate', '% YTD of Company', 'Lower Band', 'Upper Band', 'Band Area', 'Income', 'Expenditure  last 2 quarters', 'Revenue last 8 quarters', 'Expenditure  last 8 quarters', 'Net Profit  last 8 quarters', 'EPS last 8 quarters', 'Open Price GR', 'High Price GR', 'Close Price GR', 'No. of Trades GR', 'Alpha GR', 'Beta GR', 'Max Inc % in 90 days', 'Max Dec % in 90 days', 'Min Inc % in 90 days', 'Min Dec % in 90 days', 'Avg Inc % in 90 days', 'Avg Dec % in 90 days', 'Max Inc % in 180 days', 'Max Dec % in 180 days', 'Avg Dec % in 180 days', 'Max Inc % in 365 days', 'Income GR', 'CP % LV 7 days', 'CP % HV 7 days', 'CP % BA 7 days', 'CP % LV 90 days', 'CP % LV 365 days', 'CP % BA 365 days']\n---------------------------\n"
     ]
    }
   ],
   "source": [
    "for name,feature in features.items():\n",
    "    print(name)\n",
    "    print(\"forward_features\",feature[\"forward_features\"])\n",
    "    print(\"backward_features\",feature[\"backward_features\"])\n",
    "    print(\"---------------------------\")"
   ]
  },
  {
   "source": [
    "# Feature Importance"
   ],
   "cell_type": "markdown",
   "metadata": {}
  },
  {
   "cell_type": "code",
   "execution_count": 261,
   "metadata": {},
   "outputs": [],
   "source": [
    "mycols = [\"company\",'Open Price', 'High Price', 'Low Price','WAP','No.of Shares', 'No. of Trades', 'Total Turnover (Rs.)',\n",
    "       'Deliverable Quantity', '% Deli. Qty to Traded Qty', 'Spread High-Low','Spread Close-Open']\n",
    "feature_importance = pd.DataFrame(columns=mycols)"
   ]
  },
  {
   "cell_type": "code",
   "execution_count": 262,
   "metadata": {},
   "outputs": [
    {
     "output_type": "stream",
     "name": "stdout",
     "text": [
      "Wall time: 1 s\n"
     ]
    }
   ],
   "source": [
    "%%time\n",
    "for filename in os.listdir(os.path.join(path,\"Data/Stock\")):\n",
    "    if filename.startswith(\"gr\"):\n",
    "        start = time.time()\n",
    "        df = pd.read_csv(os.path.join(path,\"Data\\Stock\\\\\"+filename))\n",
    "        # df = pre_process_data(df,60)\n",
    "        name = os.path.splitext(filename)[0]\n",
    "        cols = ['Open Price', 'High Price', 'Low Price','WAP','No.of Shares', 'No. of Trades', 'Total Turnover (Rs.)',\n",
    "       'Deliverable Quantity', '% Deli. Qty to Traded Qty', 'Spread High-Low','Spread Close-Open']\n",
    "        depd = \"Close Price\"\n",
    "        X = df[cols]\n",
    "        Y = df[depd]\n",
    "        model = LinearRegression(fit_intercept=True)\n",
    "        model.fit(X, Y)\n",
    "        data = [name] + [round(i,6) for i in list(model.coef_)]\n",
    "        feature_importance.loc[feature_importance.shape[0]] = data"
   ]
  },
  {
   "cell_type": "code",
   "execution_count": 263,
   "metadata": {
    "tags": []
   },
   "outputs": [
    {
     "output_type": "execute_result",
     "data": {
      "text/plain": [
       "     company  Open Price  High Price  Low Price       WAP  No.of Shares  \\\n",
       "0   gr500112    0.859388   -0.033889   0.103027  0.070946     -0.000009   \n",
       "1   gr500180    0.111109    0.128058   0.111015  0.649267     -0.000000   \n",
       "2   gr500182    1.000000   -0.000000   0.000000 -0.000000      0.000000   \n",
       "3   gr500209   -0.229153    0.341475   0.375629  0.512259      0.000001   \n",
       "4   gr500325   -0.278226    0.452420   0.430554  0.394406      0.000001   \n",
       "5   gr500680    1.000000    0.000000  -0.000000  0.000000      0.000000   \n",
       "6   gr507685    0.136819    0.143186   0.132503  0.586311      0.000000   \n",
       "7   gr530965   -0.036804    0.100067   0.105504  0.831186      0.000000   \n",
       "8   gr532174    0.621169    0.119060   0.004834  0.253964     -0.000001   \n",
       "9   gr532210    0.929765   -0.045902   0.103453  0.012684      0.000000   \n",
       "10  gr532540    0.282955    0.173626   0.085280  0.457012     -0.000002   \n",
       "\n",
       "    No. of Trades  Total Turnover (Rs.)  Deliverable Quantity  \\\n",
       "0        0.000331                  -0.0              0.000006   \n",
       "1       -0.000618                  -0.0              0.000022   \n",
       "2        0.000000                  -0.0             -0.000000   \n",
       "3       -0.000041                   0.0             -0.000002   \n",
       "4       -0.000019                  -0.0             -0.000000   \n",
       "5       -0.000000                  -0.0             -0.000000   \n",
       "6        0.000015                  -0.0              0.000000   \n",
       "7       -0.000027                  -0.0             -0.000000   \n",
       "8        0.000077                  -0.0              0.000001   \n",
       "9       -0.000013                  -0.0             -0.000000   \n",
       "10      -0.000027                   0.0             -0.000000   \n",
       "\n",
       "    % Deli. Qty to Traded Qty  Spread High-Low  Spread Close-Open  \n",
       "0                    0.116070         0.718340           9.084646  \n",
       "1                   -0.065342         0.288567           2.984352  \n",
       "2                   -0.000000         0.000000           1.000000  \n",
       "3                   -0.000677         0.006352           0.037799  \n",
       "4                    0.006209         0.024996           0.112441  \n",
       "5                    0.000000        -0.000000           1.000000  \n",
       "6                    0.003078         0.004307           0.150056  \n",
       "7                    0.002448         0.002472           0.058488  \n",
       "8                    0.063648        -0.221987           3.232057  \n",
       "9                    0.000208         0.067524           0.845155  \n",
       "10                  -0.003234        -0.012936           0.329854  "
      ],
      "text/html": "<div>\n<style scoped>\n    .dataframe tbody tr th:only-of-type {\n        vertical-align: middle;\n    }\n\n    .dataframe tbody tr th {\n        vertical-align: top;\n    }\n\n    .dataframe thead th {\n        text-align: right;\n    }\n</style>\n<table border=\"1\" class=\"dataframe\">\n  <thead>\n    <tr style=\"text-align: right;\">\n      <th></th>\n      <th>company</th>\n      <th>Open Price</th>\n      <th>High Price</th>\n      <th>Low Price</th>\n      <th>WAP</th>\n      <th>No.of Shares</th>\n      <th>No. of Trades</th>\n      <th>Total Turnover (Rs.)</th>\n      <th>Deliverable Quantity</th>\n      <th>% Deli. Qty to Traded Qty</th>\n      <th>Spread High-Low</th>\n      <th>Spread Close-Open</th>\n    </tr>\n  </thead>\n  <tbody>\n    <tr>\n      <th>0</th>\n      <td>gr500112</td>\n      <td>0.859388</td>\n      <td>-0.033889</td>\n      <td>0.103027</td>\n      <td>0.070946</td>\n      <td>-0.000009</td>\n      <td>0.000331</td>\n      <td>-0.0</td>\n      <td>0.000006</td>\n      <td>0.116070</td>\n      <td>0.718340</td>\n      <td>9.084646</td>\n    </tr>\n    <tr>\n      <th>1</th>\n      <td>gr500180</td>\n      <td>0.111109</td>\n      <td>0.128058</td>\n      <td>0.111015</td>\n      <td>0.649267</td>\n      <td>-0.000000</td>\n      <td>-0.000618</td>\n      <td>-0.0</td>\n      <td>0.000022</td>\n      <td>-0.065342</td>\n      <td>0.288567</td>\n      <td>2.984352</td>\n    </tr>\n    <tr>\n      <th>2</th>\n      <td>gr500182</td>\n      <td>1.000000</td>\n      <td>-0.000000</td>\n      <td>0.000000</td>\n      <td>-0.000000</td>\n      <td>0.000000</td>\n      <td>0.000000</td>\n      <td>-0.0</td>\n      <td>-0.000000</td>\n      <td>-0.000000</td>\n      <td>0.000000</td>\n      <td>1.000000</td>\n    </tr>\n    <tr>\n      <th>3</th>\n      <td>gr500209</td>\n      <td>-0.229153</td>\n      <td>0.341475</td>\n      <td>0.375629</td>\n      <td>0.512259</td>\n      <td>0.000001</td>\n      <td>-0.000041</td>\n      <td>0.0</td>\n      <td>-0.000002</td>\n      <td>-0.000677</td>\n      <td>0.006352</td>\n      <td>0.037799</td>\n    </tr>\n    <tr>\n      <th>4</th>\n      <td>gr500325</td>\n      <td>-0.278226</td>\n      <td>0.452420</td>\n      <td>0.430554</td>\n      <td>0.394406</td>\n      <td>0.000001</td>\n      <td>-0.000019</td>\n      <td>-0.0</td>\n      <td>-0.000000</td>\n      <td>0.006209</td>\n      <td>0.024996</td>\n      <td>0.112441</td>\n    </tr>\n    <tr>\n      <th>5</th>\n      <td>gr500680</td>\n      <td>1.000000</td>\n      <td>0.000000</td>\n      <td>-0.000000</td>\n      <td>0.000000</td>\n      <td>0.000000</td>\n      <td>-0.000000</td>\n      <td>-0.0</td>\n      <td>-0.000000</td>\n      <td>0.000000</td>\n      <td>-0.000000</td>\n      <td>1.000000</td>\n    </tr>\n    <tr>\n      <th>6</th>\n      <td>gr507685</td>\n      <td>0.136819</td>\n      <td>0.143186</td>\n      <td>0.132503</td>\n      <td>0.586311</td>\n      <td>0.000000</td>\n      <td>0.000015</td>\n      <td>-0.0</td>\n      <td>0.000000</td>\n      <td>0.003078</td>\n      <td>0.004307</td>\n      <td>0.150056</td>\n    </tr>\n    <tr>\n      <th>7</th>\n      <td>gr530965</td>\n      <td>-0.036804</td>\n      <td>0.100067</td>\n      <td>0.105504</td>\n      <td>0.831186</td>\n      <td>0.000000</td>\n      <td>-0.000027</td>\n      <td>-0.0</td>\n      <td>-0.000000</td>\n      <td>0.002448</td>\n      <td>0.002472</td>\n      <td>0.058488</td>\n    </tr>\n    <tr>\n      <th>8</th>\n      <td>gr532174</td>\n      <td>0.621169</td>\n      <td>0.119060</td>\n      <td>0.004834</td>\n      <td>0.253964</td>\n      <td>-0.000001</td>\n      <td>0.000077</td>\n      <td>-0.0</td>\n      <td>0.000001</td>\n      <td>0.063648</td>\n      <td>-0.221987</td>\n      <td>3.232057</td>\n    </tr>\n    <tr>\n      <th>9</th>\n      <td>gr532210</td>\n      <td>0.929765</td>\n      <td>-0.045902</td>\n      <td>0.103453</td>\n      <td>0.012684</td>\n      <td>0.000000</td>\n      <td>-0.000013</td>\n      <td>-0.0</td>\n      <td>-0.000000</td>\n      <td>0.000208</td>\n      <td>0.067524</td>\n      <td>0.845155</td>\n    </tr>\n    <tr>\n      <th>10</th>\n      <td>gr532540</td>\n      <td>0.282955</td>\n      <td>0.173626</td>\n      <td>0.085280</td>\n      <td>0.457012</td>\n      <td>-0.000002</td>\n      <td>-0.000027</td>\n      <td>0.0</td>\n      <td>-0.000000</td>\n      <td>-0.003234</td>\n      <td>-0.012936</td>\n      <td>0.329854</td>\n    </tr>\n  </tbody>\n</table>\n</div>"
     },
     "metadata": {},
     "execution_count": 263
    }
   ],
   "source": [
    "feature_importance"
   ]
  },
  {
   "cell_type": "code",
   "execution_count": null,
   "metadata": {},
   "outputs": [],
   "source": []
  }
 ]
}