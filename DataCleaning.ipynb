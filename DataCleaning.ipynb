{
 "metadata": {
  "language_info": {
   "codemirror_mode": {
    "name": "ipython",
    "version": 3
   },
   "file_extension": ".py",
   "mimetype": "text/x-python",
   "name": "python",
   "nbconvert_exporter": "python",
   "pygments_lexer": "ipython3",
   "version": "3.8.3-final"
  },
  "orig_nbformat": 2,
  "kernelspec": {
   "name": "python3",
   "display_name": "Python 3",
   "language": "python"
  }
 },
 "nbformat": 4,
 "nbformat_minor": 2,
 "cells": [
  {
   "cell_type": "code",
   "execution_count": null,
   "metadata": {},
   "outputs": [],
   "source": [
    "import pandas as pd\n",
    "import numpy as np \n",
    "import os\n",
    "from dateutil.parser import parse"
   ]
  },
  {
   "cell_type": "code",
   "execution_count": null,
   "metadata": {},
   "outputs": [],
   "source": [
    "path = os.getcwd()\n",
    "path = os.path.join(path,\"Data\")\n",
    "stockspath = os.path.join(path,\"Stock\")\n",
    "print(stockspath)\n",
    "print(path)"
   ]
  },
  {
   "cell_type": "code",
   "execution_count": null,
   "metadata": {},
   "outputs": [],
   "source": [
    "# def is_date(date):\n",
    "#     try:\n",
    "#         parse(date,fuzzy=False)\n",
    "#         return True\n",
    "#     except Exception as e:\n",
    "#         return False"
   ]
  },
  {
   "cell_type": "code",
   "execution_count": null,
   "metadata": {},
   "outputs": [],
   "source": [
    "def clean_index(ind):\n",
    "    ind[\"Date\"] = pd.to_datetime(ind[\"Date\"])\n",
    "    ind = ind.drop_duplicates(subset=[\"Date\"],keep=\"first\")\n",
    "    return ind"
   ]
  },
  {
   "cell_type": "code",
   "execution_count": null,
   "metadata": {},
   "outputs": [],
   "source": [
    "def data_cleaning(df,ind):\n",
    "    df[\"Date\"] = pd.to_datetime(df[\"Date\"])\n",
    "    df = df.drop_duplicates(subset=[\"Date\"],keep=\"first\")\n",
    "    df = add_missing_rows(df,ind)\n",
    "    df = fill_with_previous_values(df)\n",
    "    return df"
   ]
  },
  {
   "cell_type": "code",
   "execution_count": null,
   "metadata": {},
   "outputs": [],
   "source": [
    "def add_missing_rows(df,ind):\n",
    "    missing_df = pd.DataFrame(columns=df.columns)\n",
    "    indexes_dates = ind.Date.values\n",
    "    df_dates = df.Date.values\n",
    "    start = 0\n",
    "    for i,v in enumerate(indexes_dates):\n",
    "        if v not in df.Date.values:\n",
    "            res = list(np.append(ind.loc[i].values,[np.nan]*8))\n",
    "            missing_df.loc[start] = res\n",
    "            start += 1\n",
    "    df = pd.concat([df,missing_df])\n",
    "    return df"
   ]
  },
  {
   "cell_type": "code",
   "execution_count": null,
   "metadata": {},
   "outputs": [],
   "source": [
    "def fill_with_previous_values(df):\n",
    "    df.fillna(method=\"ffill\",inplace=True)\n",
    "    return df"
   ]
  },
  {
   "cell_type": "code",
   "execution_count": null,
   "metadata": {
    "tags": []
   },
   "outputs": [],
   "source": [
    "ind = pd.read_csv(os.path.join(path,\"Index.csv\"))\n",
    "ind = clean_index(ind)\n",
    "ind.to_csv(os.path.join(path,\"modIndex.csv\"),index= None)"
   ]
  },
  {
   "cell_type": "code",
   "execution_count": null,
   "metadata": {
    "tags": []
   },
   "outputs": [],
   "source": [
    "for stk in os.listdir(stockspath):\n",
    "    if not stk.startswith(\"ar\") and not stk.startswith(\"ab\") and not stk.startswith(\"lu\") and not stk.startswith(\"sb\") and not stk.startswith(\"sample\"):\n",
    "        stk_df = pd.read_csv(os.path.join(stockspath,stk))\n",
    "        stk_df = data_cleaning(stk_df,ind)\n",
    "        stk_df.to_csv(os.path.join(stockspath,\"ar\"+stk),index=None)"
   ]
  },
  {
   "cell_type": "code",
   "execution_count": null,
   "metadata": {},
   "outputs": [],
   "source": [
    "stk_df = pd.read_csv(os.path.join(stockspath,\"sample.csv\"))\n",
    "stk_df = data_cleaning(stk_df,ind)\n",
    "stk_df.to_csv(os.path.join(stockspath,\"ar\"+\"sample.csv\"),index=None)"
   ]
  },
  {
   "cell_type": "code",
   "execution_count": null,
   "metadata": {},
   "outputs": [],
   "source": []
  }
 ]
}