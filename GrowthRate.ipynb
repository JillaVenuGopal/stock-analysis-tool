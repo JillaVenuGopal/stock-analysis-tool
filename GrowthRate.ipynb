{
 "metadata": {
  "language_info": {
   "codemirror_mode": {
    "name": "ipython",
    "version": 3
   },
   "file_extension": ".py",
   "mimetype": "text/x-python",
   "name": "python",
   "nbconvert_exporter": "python",
   "pygments_lexer": "ipython3",
   "version": "3.8.3-final"
  },
  "orig_nbformat": 2,
  "kernelspec": {
   "name": "python3",
   "display_name": "Python 3",
   "language": "python"
  }
 },
 "nbformat": 4,
 "nbformat_minor": 2,
 "cells": [
  {
   "cell_type": "code",
   "execution_count": null,
   "metadata": {},
   "outputs": [],
   "source": [
    "import pandas as pd \n",
    "import numpy as np \n",
    "import os\n",
    "import re\n",
    "from datetime import datetime,timedelta"
   ]
  },
  {
   "cell_type": "code",
   "execution_count": null,
   "metadata": {},
   "outputs": [],
   "source": [
    "path = os.getcwd()\n",
    "datapath = os.path.join(path,\"Data\")\n",
    "datapath"
   ]
  },
  {
   "cell_type": "code",
   "execution_count": null,
   "metadata": {},
   "outputs": [],
   "source": [
    "security_id = \"500002\"\n",
    "company_name = \"ABB India Limited,Active\""
   ]
  },
  {
   "cell_type": "code",
   "execution_count": null,
   "metadata": {},
   "outputs": [],
   "source": [
    "stock = pd.read_csv(os.path.join(datapath,\"Stock/\"+\"mod\"+security_id+\".csv\"))\n",
    "stock.Date = pd.to_datetime(stock.Date)"
   ]
  },
  {
   "cell_type": "code",
   "execution_count": null,
   "metadata": {},
   "outputs": [],
   "source": [
    "direct_columns = ['Open Price', 'High Price', 'Low Price', 'Close Price','Next Day Open Price', 'Next Day High Price', 'Next Day Low Price', 'Next Day Close Price','WAP','No.of Shares', 'No. of Trades', 'Total Turnover (Rs.)','Deliverable Quantity', '% Deli. Qty to Traded Qty','Spread High-Low','Spread Close-Open','Alpha','Beta']\n",
    "growth_direct_rate_columns = [col + \" GR\" for col in direct_columns]"
   ]
  },
  {
   "cell_type": "code",
   "execution_count": null,
   "metadata": {},
   "outputs": [],
   "source": [
    "def find_gain_loss(stock):\n",
    "    stock[growth_direct_rate_columns] = pd.DataFrame([[0]*len(growth_direct_rate_columns)], index=stock.index)\n",
    "    today = stock[direct_columns]\n",
    "    previous = stock[direct_columns].shift(1)\n",
    "    stock[growth_direct_rate_columns] = (today-previous)/previous\n",
    "    return stock"
   ]
  },
  {
   "cell_type": "code",
   "execution_count": null,
   "metadata": {},
   "outputs": [],
   "source": [
    "def close_price_as_percent_of_LV_HV_BA(stock):\n",
    "    bands = [7,30,90,180,365]\n",
    "    for b in bands:\n",
    "        bcols = [\"CP % LV \"+str(b)+\" days\",\"CP % HV \"+str(b)+\" days\",\"CP % BA \"+str(b)+\" days\"]\n",
    "        stock[bcols] = pd.DataFrame([[0]*len(bcols)], index=stock.index)\n",
    "        for i in range(stock.shape[0]):\n",
    "            s = i+1\n",
    "            specific_bands = stock.iloc[-(s):-(s+b+1):-1]\n",
    "            low = specific_bands[\"Close Price\"].min()\n",
    "            high = specific_bands[\"Close Price\"].max()\n",
    "            today = stock.iloc[-(s)][\"Close Price\"]\n",
    "            stock.loc[specific_bands.index,bcols] = [today/low,today/high,today/(high-low)]\n",
    "    return stock"
   ]
  },
  {
   "cell_type": "code",
   "execution_count": null,
   "metadata": {},
   "outputs": [],
   "source": [
    "def sequential_increase(stock):\n",
    "    stock[\"Sequential Increase\"] = 0\n",
    "    c = 1\n",
    "    for i in reversed(range(stock.shape[0]-1)):\n",
    "        if stock.at[i,\"Close Price\"] > stock.at[i+1,\"Close Price\"]:\n",
    "            stock.at[i,\"Sequential Increase\"] = c\n",
    "            c += 1\n",
    "        else:\n",
    "            stock.at[i,\"Sequential Increase\"] = 0\n",
    "            c = 1\n",
    "    return stock"
   ]
  },
  {
   "cell_type": "code",
   "execution_count": null,
   "metadata": {},
   "outputs": [],
   "source": [
    "def sequential_decrease(stock):\n",
    "    stock[\"Sequential Decrease\"] = 0\n",
    "    c = 1\n",
    "    stock.at[stock.shape[0]-2, \"Sequential Decrease\"] = 0\n",
    "    stock.at[stock.shape[0]-1, \"Sequential Decrease\"] = 0\n",
    "    for i in reversed(range(stock.shape[0]-1)):\n",
    "        if stock.at[i,\"Close Price\"] < stock.at[i+1,\"Close Price\"]:\n",
    "            stock.at[i,\"Sequential Decrease\"] = c\n",
    "            c += 1\n",
    "        else:\n",
    "            stock.at[i,\"Sequential Decrease\"] = 0\n",
    "            c = 1\n",
    "    return stock"
   ]
  },
  {
   "cell_type": "code",
   "execution_count": null,
   "metadata": {},
   "outputs": [],
   "source": [
    "def sequential_increase_percentage(stock):\n",
    "    stock[\"Sequential Increase %\"] = \"\"\n",
    "    for i in range(stock.shape[0]-2):\n",
    "        if stock.at[i, \"Sequential Increase\"] != 0:\n",
    "            inc = stock.at[i, \"Sequential Increase\"]\n",
    "        else:\n",
    "            inc = 1\n",
    "        fr = stock.at[i+1, \"Close Price\"]\n",
    "        to = stock.at[i+1+inc, \"Close Price\"]\n",
    "        stock.at[i, \"Sequential Increase %\"] = (fr - to) / to\n",
    "    stock.at[stock.shape[0]-2, \"Sequential Increase %\"] = 0\n",
    "    stock.at[stock.shape[0]-1, \"Sequential Increase %\"] = 0\n",
    "    return stock"
   ]
  },
  {
   "cell_type": "code",
   "execution_count": null,
   "metadata": {},
   "outputs": [],
   "source": [
    "def sequential_decrease_percentage(stock):\n",
    "    stock[\"Sequential Decrease %\"] = \"\"\n",
    "    for i in range(stock.shape[0]-2):\n",
    "        if stock.at[i, \"Sequential Decrease\"] != 0:\n",
    "            inc = stock.at[i, \"Sequential Decrease\"]\n",
    "        else:\n",
    "            inc = 1\n",
    "        fr = stock.at[i+1, \"Close Price\"]\n",
    "        to = stock.at[i+1+inc, \"Close Price\"]\n",
    "        stock.at[i, \"Sequential Decrease %\"] = (to - fr) / fr\n",
    "    stock.at[stock.shape[0]-2, \"Sequential Decrease %\"] = 0\n",
    "    stock.at[stock.shape[0]-1, \"Sequential Decrease %\"] = 0\n",
    "    return stock"
   ]
  },
  {
   "cell_type": "code",
   "execution_count": null,
   "metadata": {},
   "outputs": [],
   "source": [
    "def max_min_avg_of_sequential_data(stock):\n",
    "    index_start = stock.first_valid_index() \n",
    "    seq_inc_days = stock.at[index_start, \"Sequential Increase\"]\n",
    "    seq_dec_days = stock.at[index_start, \"Sequential Decrease\"]\n",
    "    seq_inc_list = [0]\n",
    "    seq_dec_list = [0]\n",
    "    for i in range(index_start, stock.shape[0]+index_start-1):\n",
    "        if stock.at[i, \"Sequential Increase\"] == seq_inc_days:\n",
    "            seq_inc_list.append(stock.at[i, \"Sequential Increase %\"])\n",
    "        if stock.at[i, \"Sequential Decrease\"] == seq_dec_days:\n",
    "            seq_dec_list.append(stock.at[i, \"Sequential Decrease %\"])\n",
    "    return seq_inc_list, seq_dec_list"
   ]
  },
  {
   "cell_type": "code",
   "execution_count": null,
   "metadata": {},
   "outputs": [],
   "source": [
    "def sequential_increase_decrease(stock):\n",
    "    bands = [90,180,365]\n",
    "    for b in bands:\n",
    "        bcols = [\"Max Inc % in \"+str(b)+\" days\",\"Max Dec % in \"+str(b)+\" days\",\"Min Inc % in \"+str(b)+\" days\",\"Min Dec % in \"+str(b)+\" days\",\"Avg Inc % in \"+str(b)+\" days\",\"Avg Dec % in \"+str(b)+\" days\"]\n",
    "        stock[bcols] = pd.DataFrame([[0]*len(bcols)], index=stock.index)\n",
    "        for i in range(stock.shape[0]):\n",
    "            s = i+1\n",
    "            specific_bands = stock.iloc[-(s):-(s+b+1):-1]\n",
    "            specific_bands.sort_index(inplace=True)\n",
    "            seq_inc_list, seq_dec_list = max_min_avg_of_sequential_data(specific_bands)\n",
    "            stock.loc[specific_bands.index,bcols] = [max(seq_inc_list),max(seq_dec_list),min(seq_inc_list),min(seq_dec_list),np.mean(seq_inc_list),np.mean(seq_dec_list)]\n",
    "    return stock"
   ]
  },
  {
   "cell_type": "code",
   "execution_count": null,
   "metadata": {},
   "outputs": [],
   "source": [
    "# def generate_dictionary_for_quarterwise_data(stock):\n",
    "#     result = {}\n",
    "#     for index,row in stock.iterrows():\n",
    "#         q = (row.Date.month-1)//3 + 1   \n",
    "#         year = row.Date.year\n",
    "#         month = row.Date.month\n",
    "#         res = result.get(year,{})\n",
    "#         # amount = re.findall(r\"\\d+.?\\d*\",row[\"Revenue\"])[0]\n",
    "#         amount  = row[\"Revenue\"]\n",
    "#         q = \"1q\" if 1 <= month <= 3 else \"2q\" if 4 <= month <= 6 else \"3q\" if 6 <= month <= 9 else \"4q\"\n",
    "#         val = res.get(q,[])\n",
    "#         val.append(float(amount))\n",
    "#         res[q] = val\n",
    "#         result[year] = res\n",
    "#     return result"
   ]
  },
  {
   "cell_type": "code",
   "execution_count": null,
   "metadata": {},
   "outputs": [],
   "source": [
    "# generate_dictionary_for_quarterwise_data(stock)"
   ]
  },
  {
   "cell_type": "code",
   "execution_count": null,
   "metadata": {},
   "outputs": [],
   "source": []
  },
  {
   "cell_type": "code",
   "execution_count": null,
   "metadata": {
    "tags": []
   },
   "outputs": [],
   "source": [
    "stock = find_gain_loss(stock)\n",
    "stock = close_price_as_percent_of_LV_HV_BA(stock)"
   ]
  },
  {
   "cell_type": "code",
   "execution_count": null,
   "metadata": {
    "tags": []
   },
   "outputs": [],
   "source": [
    "stock = sequential_increase(stock)\n",
    "stock = sequential_decrease(stock)"
   ]
  },
  {
   "cell_type": "code",
   "execution_count": null,
   "metadata": {},
   "outputs": [],
   "source": [
    "stock = sequential_increase_percentage(stock)\n",
    "stock = sequential_decrease_percentage(stock)"
   ]
  },
  {
   "cell_type": "code",
   "execution_count": null,
   "metadata": {},
   "outputs": [],
   "source": [
    "stock = sequential_increase_decrease(stock)"
   ]
  },
  {
   "cell_type": "code",
   "execution_count": null,
   "metadata": {},
   "outputs": [],
   "source": [
    "stock"
   ]
  },
  {
   "cell_type": "code",
   "execution_count": null,
   "metadata": {},
   "outputs": [],
   "source": []
  }
 ]
}