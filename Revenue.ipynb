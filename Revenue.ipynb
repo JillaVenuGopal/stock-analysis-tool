{
 "metadata": {
  "language_info": {
   "codemirror_mode": {
    "name": "ipython",
    "version": 3
   },
   "file_extension": ".py",
   "mimetype": "text/x-python",
   "name": "python",
   "nbconvert_exporter": "python",
   "pygments_lexer": "ipython3",
   "version": "3.8.3-final"
  },
  "orig_nbformat": 2,
  "kernelspec": {
   "name": "python3",
   "display_name": "Python 3",
   "language": "python"
  }
 },
 "nbformat": 4,
 "nbformat_minor": 2,
 "cells": [
  {
   "cell_type": "code",
   "execution_count": null,
   "metadata": {},
   "outputs": [],
   "source": [
    "import numpy as np \n",
    "import pandas as pd \n",
    "import os\n",
    "import re"
   ]
  },
  {
   "cell_type": "code",
   "execution_count": null,
   "metadata": {},
   "outputs": [],
   "source": [
    "path = os.path.join(os.getcwd(),\"Data\")\n",
    "revenuepath = os.path.join(path,\"Revenue\")\n",
    "stockspath = os.path.join(path,\"Stock\")\n",
    "print(stockspath)\n",
    "print(revenuepath)\n",
    "print(path)"
   ]
  },
  {
   "cell_type": "code",
   "execution_count": null,
   "metadata": {},
   "outputs": [],
   "source": [
    "rev = pd.read_csv(os.path.join(revenuepath,\"500002.csv\"))\n",
    "stk = pd.read_csv(os.path.join(stockspath,\"500002.csv\"))\n",
    "stk[\"Date\"] = pd.to_datetime(stk[\"Date\"])"
   ]
  },
  {
   "cell_type": "code",
   "execution_count": null,
   "metadata": {},
   "outputs": [],
   "source": [
    "s = min(rev.year)\n",
    "e = max(rev.year)"
   ]
  },
  {
   "cell_type": "code",
   "execution_count": null,
   "metadata": {},
   "outputs": [],
   "source": [
    "stk['Revenue'] = ''\n",
    "stk['Income'] = ''\n",
    "stk['Expenditure'] = ''\n",
    "stk['Net Profit'] = ''\n",
    "stk['EPS'] = ''\n",
    "cols = ['Revenue','Income','Expenditure','Net Profit','EPS']\n",
    "rep = ['net sales/revenue from operations','total income','expenditure','net profit','eps']"
   ]
  },
  {
   "cell_type": "code",
   "execution_count": null,
   "metadata": {},
   "outputs": [],
   "source": [
    "for index,row in stk.iterrows():\n",
    "    q = (row.Date.month-1)//3 + 1\n",
    "    samp = rev[(rev['year']==row.Date.year)&(rev['quartile']==q)]\n",
    "    if samp.shape[0] !=0:\n",
    "        stk.loc[index,cols] = samp.iloc[0][rep].values\n",
    "    else:\n",
    "        stk.loc[index,cols] = [0,0,0,0,0]"
   ]
  },
  {
   "cell_type": "code",
   "execution_count": null,
   "metadata": {},
   "outputs": [],
   "source": [
    "stk['year'] = pd.DatetimeIndex(stk['Date']).year\n",
    "stk = stk[(stk.year >= s)&(stk.year <= e) & stk[\"Revenue\"] !=0 ]\n",
    "stk = stk.drop([\"year\"],axis=1)"
   ]
  },
  {
   "cell_type": "code",
   "execution_count": null,
   "metadata": {},
   "outputs": [],
   "source": [
    "bands = [2,4,8]"
   ]
  },
  {
   "cell_type": "code",
   "execution_count": null,
   "metadata": {},
   "outputs": [],
   "source": [
    "for band in bands:\n",
    "    stk['Revenue last '+str(band)+' quarters'] = ''\n",
    "    stk['Income last '+str(band)+' quarters'] = ''\n",
    "    stk['Expenditure  last '+str(band)+' quarters'] = ''\n",
    "    stk['Net Profit  last '+str(band)+' quarters'] = ''\n",
    "    stk['EPS last '+str(band)+' quarters'] = ''\n",
    "    bcols = ['Revenue last '+str(band)+' quarters','Income last '+str(band)+' quarters','Expenditure  last '+str(band)+' quarters','Net Profit  last '+str(band)+' quarters','EPS last '+str(band)+' quarters']\n",
    "\n",
    "    for index,row in stk.iterrows():\n",
    "        q = (row.Date.month-1)//3 + 1\n",
    "        samp = rev[(rev['year']==row.Date.year)&(rev['quartile']==q)]\n",
    "        r = samp.index.values[0]\n",
    "        if r+band+1 < rev.shape[0]:\n",
    "            v = range(r+1,r+band+1)\n",
    "            stk.loc[index,bcols] = rev.loc[v,rep].sum().values"
   ]
  },
  {
   "cell_type": "code",
   "execution_count": null,
   "metadata": {},
   "outputs": [],
   "source": [
    "stk[\"p/e\"] = stk[\"Close Price\"]/stk[\"EPS\"]"
   ]
  },
  {
   "cell_type": "code",
   "execution_count": null,
   "metadata": {},
   "outputs": [],
   "source": [
    "stk.to_csv(os.path.join(stockspath,\"rp500002.csv\"),index=None)"
   ]
  },
  {
   "cell_type": "code",
   "execution_count": null,
   "metadata": {},
   "outputs": [],
   "source": []
  }
 ]
}