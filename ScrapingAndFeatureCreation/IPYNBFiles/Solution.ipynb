{
 "metadata": {
  "language_info": {
   "codemirror_mode": {
    "name": "ipython",
    "version": 3
   },
   "file_extension": ".py",
   "mimetype": "text/x-python",
   "name": "python",
   "nbconvert_exporter": "python",
   "pygments_lexer": "ipython3",
   "version": "3.8.3-final"
  },
  "orig_nbformat": 2,
  "kernelspec": {
   "name": "python3",
   "display_name": "Python 3",
   "language": "python"
  }
 },
 "nbformat": 4,
 "nbformat_minor": 2,
 "cells": [
  {
   "cell_type": "code",
   "execution_count": null,
   "metadata": {},
   "outputs": [],
   "source": [
    "from ipynb.fs.full.Equity_Scrape import download_equity\n",
    "from ipynb.fs.full.Stock_Scrape import download_stocks\n",
    "from ipynb.fs.full.CorporateActions_Scrape import download_corporate_actions\n",
    "from ipynb.fs.full.BhavCopy_Scrape import download_bhavcopy\n",
    "from ipynb.fs.full.Delivarable_Scrape import download_deliverables\n",
    "from ipynb.fs.full.Index_Scrape import download_index\n",
    "from ipynb.fs.full.RiskFreeRate_Scrape import download_risk_free_rate\n",
    "from ipynb.fs.full.Revenue_Profit_Scrape import download_revenue_profit, download_from_money_control\n",
    "\n",
    "from ipynb.fs.full.ConvertBhavToStock import convertBhavCopyToStock\n",
    "from ipynb.fs.full.DataCleaning import data_cleaning\n",
    "from ipynb.fs.full.CorporateActions import apply_corporate_actions\n",
    "from ipynb.fs.full.FeatureCreation import calculate_beta, calculate_alpha, add_risk_free_column,create_lower_upper_bands, calculate_band_area, create_dividend,create_index,add_next_day_columns\n",
    "from ipynb.fs.full.Revenue import create_eps_pe_ratio_revenue_income_expenditure_net_profit\n",
    "\n",
    "\n",
    "import pandas as pd \n",
    "import numpy as np "
   ]
  },
  {
   "source": [
    "### Scraping Functions\n",
    "* download_equity()\n",
    "* download_stocks(security_id)\n",
    "* download_corporate_actions(security_id)\n",
    "* download_bhavcopy()\n",
    "* download_deliverables()\n",
    "* download_index()\n",
    "* download_risk_free_rate()\n",
    "* download_revenue_profit(security_id,company_name)\n",
    "* download_from_money_control(code)\n",
    "\n",
    "### Functions\n",
    "* convertBhavCopyToStock(bhav_df_today,deliverables_df_today) : df_stocks_today\n",
    "* data_cleaning(stock,index_df) : stock\n",
    "* apply_corporate_actions(stock,corporate_df) : stock\n",
    "    * bonus_issue\n",
    "    * stock_split\n",
    "* add_risk_free_column(stock) : stock\n",
    "* calculate_beta(stock) : stock\n",
    "* calculate_alpha(stock) : stock\n",
    "* create_lower_upper_bands(stock) : stock\n",
    "* calculate_band_area(stock) : stock\n",
    "* create_dividend(corporate_df,stock) : stock\n",
    "* add_next_day_columns(stock) : stock\n",
    "* create_eps_pe_ratio_revenue_income_expenditure_net_profit(revenue_df,stock) : stock"
   ],
   "cell_type": "markdown",
   "metadata": {}
  },
  {
   "cell_type": "code",
   "execution_count": null,
   "metadata": {},
   "outputs": [],
   "source": [
    "path = os.getcwd()\n",
    "datapath = os.path.join(path,\"Data\")\n",
    "datapath"
   ]
  },
  {
   "cell_type": "code",
   "execution_count": null,
   "metadata": {},
   "outputs": [],
   "source": [
    "download_equity()"
   ]
  },
  {
   "cell_type": "code",
   "execution_count": null,
   "metadata": {},
   "outputs": [],
   "source": [
    "security_id = \"500002\"\n",
    "company_name = \"ABB India Limited\""
   ]
  },
  {
   "cell_type": "code",
   "execution_count": null,
   "metadata": {},
   "outputs": [],
   "source": [
    "download_corporate_actions(security_id)"
   ]
  },
  {
   "cell_type": "code",
   "execution_count": null,
   "metadata": {},
   "outputs": [],
   "source": [
    "download_bhavcopy()"
   ]
  },
  {
   "cell_type": "code",
   "execution_count": null,
   "metadata": {},
   "outputs": [],
   "source": [
    "download_deliverables()"
   ]
  },
  {
   "cell_type": "code",
   "execution_count": null,
   "metadata": {},
   "outputs": [],
   "source": [
    "download_index()"
   ]
  },
  {
   "cell_type": "code",
   "execution_count": null,
   "metadata": {},
   "outputs": [],
   "source": [
    "download_risk_free_rate()"
   ]
  },
  {
   "cell_type": "code",
   "execution_count": null,
   "metadata": {},
   "outputs": [],
   "source": [
    "download_revenue_profit(security_id,company_name)"
   ]
  },
  {
   "cell_type": "code",
   "execution_count": null,
   "metadata": {},
   "outputs": [],
   "source": [
    "download_from_money_control(security_id)"
   ]
  },
  {
   "cell_type": "code",
   "execution_count": null,
   "metadata": {},
   "outputs": [],
   "source": [
    "# bhav_df_today = pd.read_csv(os.path.join(datapath,\"BhavCopy/11022021.csv\"))\n",
    "# deliverables_df_today = pd.read_csv(os.path.join(datapath,\"Deliverables/11022021.csv\"))\n",
    "# df_stocks_today = convertBhavCopyToStock(bhav_df_today,deliverables_df_today)\n",
    "# df_stocks_today.to_csv(os.path.join(datapath,\"BhavConvertedToStock/11022021.csv\"),index=None)"
   ]
  },
  {
   "cell_type": "code",
   "execution_count": null,
   "metadata": {},
   "outputs": [],
   "source": [
    "modified_stock_path = os.path.join(os.getcwd(),\"Data/Stock/mod\"+security_id+\".csv\")\n",
    "print(modified_stock_path)"
   ]
  },
  {
   "cell_type": "code",
   "execution_count": null,
   "metadata": {},
   "outputs": [],
   "source": [
    "modified_stock = pd.read_csv(modified_stock_path) if os.path.exists(modified_stock_path) else pd.DataFrame()"
   ]
  },
  {
   "cell_type": "code",
   "execution_count": null,
   "metadata": {},
   "outputs": [],
   "source": [
    "stock = download_stocks(security_id)"
   ]
  },
  {
   "cell_type": "code",
   "execution_count": null,
   "metadata": {},
   "outputs": [],
   "source": [
    "index_df = pd.read_csv(os.path.join(datapath,\"Index.csv\"))\n",
    "corporate_df = pd.read_csv(os.path.join(datapath,\"CorporateActions/\"+security_id+\".csv\"))\n",
    "revenue_df = pd.read_csv(os.path.join(datapath,\"Revenue/\"+security_id+\".csv\"))"
   ]
  },
  {
   "cell_type": "code",
   "execution_count": null,
   "metadata": {},
   "outputs": [],
   "source": [
    "new_columns = [\"Next Day Open Price\",\"Next Day High Price\",\"Next Day Low Price\",\"Next Day Close Price\"]\n",
    "stock,index_df = data_cleaning(stock,index_df)\n",
    "stock = apply_corporate_actions(stock,corporate_df)\n",
    "stock = add_risk_free_column(stock)\n",
    "# create_index()\n",
    "stock = calculate_beta(stock,index_df)\n",
    "stock = calculate_alpha(stock,index_df)\n",
    "stock = create_dividend(corporate_df,stock)\n",
    "stock = create_eps_pe_ratio_revenue_income_expenditure_net_profit(revenue_df,stock)\n",
    "stock = create_lower_upper_bands(stock)\n",
    "stock = stock.sort_values(by=[\"Date\"],ascending=[True])\n",
    "stock = add_next_day_columns(stock)\n",
    "modified_stock.tail(1)[new_columns] = stock.head(1)[new_columns].values"
   ]
  },
  {
   "cell_type": "code",
   "execution_count": 27,
   "metadata": {},
   "outputs": [],
   "source": [
    "modified_stock = modified_stock.append(stock,ignore_index=True)"
   ]
  },
  {
   "cell_type": "code",
   "execution_count": 28,
   "metadata": {},
   "outputs": [],
   "source": [
    "modified_stock.to_csv(modified_stock_path,index=None)"
   ]
  },
  {
   "cell_type": "code",
   "execution_count": null,
   "metadata": {},
   "outputs": [],
   "source": []
  }
 ]
}