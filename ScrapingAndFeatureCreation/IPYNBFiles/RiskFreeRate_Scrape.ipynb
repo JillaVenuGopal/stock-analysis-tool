{
 "metadata": {
  "language_info": {
   "codemirror_mode": {
    "name": "ipython",
    "version": 3
   },
   "file_extension": ".py",
   "mimetype": "text/x-python",
   "name": "python",
   "nbconvert_exporter": "python",
   "pygments_lexer": "ipython3",
   "version": "3.8.3-final"
  },
  "orig_nbformat": 2,
  "kernelspec": {
   "name": "python3",
   "display_name": "Python 3",
   "language": "python"
  }
 },
 "nbformat": 4,
 "nbformat_minor": 2,
 "cells": [
  {
   "cell_type": "code",
   "execution_count": 9,
   "metadata": {},
   "outputs": [],
   "source": [
    "import os\n",
    "from selenium import webdriver\n",
    "from selenium.webdriver.common.keys import Keys\n",
    "from selenium.webdriver.support.ui import Select\n",
    "from webdriver_manager.chrome import ChromeDriverManager\n",
    "import pandas as pd\n",
    "import time\n",
    "from bs4 import BeautifulSoup\n",
    "import calendar\n",
    "import datetime"
   ]
  },
  {
   "cell_type": "code",
   "execution_count": 10,
   "metadata": {},
   "outputs": [],
   "source": [
    "risk_free_rate_url = \"https://www.treasury.gov/resource-center/data-chart-center/interest-rates/pages/textview.aspx?data=yield\""
   ]
  },
  {
   "cell_type": "code",
   "execution_count": 11,
   "metadata": {},
   "outputs": [],
   "source": [
    "path = os.path.join(os.getcwd(),\"Data\")\n",
    "\n",
    "def download_risk_free_rate():\n",
    "    \"\"\"\n",
    "    Downloads the Risk Free Rate file.\n",
    "\n",
    "    risk_free_rate_url = \"https://www.treasury.gov/resource-center/data-chart-center/interest-rates/pages/textview.aspx?data=yield\"\n",
    "\n",
    "    creates the driver.\n",
    "    opens the risk_free_rate_url.\n",
    "    downloads the file.\n",
    "\n",
    "    Methods:\n",
    "    --------\n",
    "\n",
    "    create_driver : creates the chrome driver.\n",
    "\n",
    "    download : extracts the data from the page and saves to a csv file.\n",
    "\n",
    "    \"\"\"\n",
    "    def create_driver():\n",
    "        \"\"\"\n",
    "        Creates a Chrome Driver.\n",
    "\n",
    "        Returns\n",
    "        --------\n",
    "        driver : driver\n",
    "            chrome web driver.\n",
    "        \"\"\"\n",
    "\n",
    "        chromeOptions = webdriver.ChromeOptions()\n",
    "        chromeOptions.add_argument(\"--headless\")\n",
    "        chromeOptions.add_experimental_option(\"prefs\",{\"download.default_directory\":path})\n",
    "        driver = webdriver.Chrome(ChromeDriverManager().install(), options = chromeOptions)\n",
    "        return driver\n",
    "\n",
    "    def download():\n",
    "        \"\"\"\n",
    "        downloads the risk free rate file.\n",
    "\n",
    "        \"\"\"\n",
    "        ele = driver.find_element_by_xpath('//*[@id=\"interestRateTimePeriod\"]')\n",
    "        ele = Select(ele)\n",
    "        ele.select_by_visible_text(\"All\") \n",
    "\n",
    "        btn = driver.find_element_by_xpath('/html/body/form/div[8]/div/div[1]/div/div[2]/div/div/div/div[1]/div[2]/div/table/tbody/tr/td/div/div[3]/div[2]/input')\n",
    "        btn.click()\n",
    "        time.sleep(15)\n",
    "        soup = BeautifulSoup(driver.page_source,'html')\n",
    "        driver.quit()\n",
    "        table = soup.find_all(\"table\", {\"class\": \"t-chart\"})\n",
    "        risk_free_rate = pd.read_html(str(table))[0]\n",
    "        # risk_free_rate.to_csv(os.path.join(path,\"inRiskFreeRate.csv\"),index=None)\n",
    "        risk_free = risk_free_rate[[\"Date\",\"3 mo\"]]\n",
    "        risk_free_rate[\"Rate\"] = risk_free_rate[\"3 mo\"]\n",
    "        risk_free.columns = [\"Date\",\"Rate\"]\n",
    "        risk_free.dropna(inplace=True)\n",
    "        risk_free.to_csv(os.path.join(path,\"RiskFreeRate.csv\"),index=None)\n",
    "    driver = create_driver()\n",
    "    driver.get(risk_free_rate_url)\n",
    "    download()"
   ]
  },
  {
   "cell_type": "code",
   "execution_count": 5,
   "metadata": {},
   "outputs": [],
   "source": [
    "# download_risk_free_rate()"
   ]
  },
  {
   "cell_type": "code",
   "execution_count": null,
   "metadata": {},
   "outputs": [],
   "source": []
  }
 ]
}