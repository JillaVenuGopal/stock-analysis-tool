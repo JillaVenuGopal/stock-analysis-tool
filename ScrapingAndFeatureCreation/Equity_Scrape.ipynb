{
 "metadata": {
  "language_info": {
   "codemirror_mode": {
    "name": "ipython",
    "version": 3
   },
   "file_extension": ".py",
   "mimetype": "text/x-python",
   "name": "python",
   "nbconvert_exporter": "python",
   "pygments_lexer": "ipython3",
   "version": "3.8.3-final"
  },
  "orig_nbformat": 2,
  "kernelspec": {
   "name": "python3",
   "display_name": "Python 3",
   "language": "python"
  }
 },
 "nbformat": 4,
 "nbformat_minor": 2,
 "cells": [
  {
   "cell_type": "code",
   "execution_count": null,
   "metadata": {},
   "outputs": [],
   "source": [
    "import os\n",
    "from selenium import webdriver\n",
    "from selenium.webdriver.common.keys import Keys\n",
    "from selenium.webdriver.support.ui import Select\n",
    "from webdriver_manager.chrome import ChromeDriverManager\n",
    "import time"
   ]
  },
  {
   "cell_type": "code",
   "execution_count": null,
   "metadata": {},
   "outputs": [],
   "source": [
    "security_url = \"https://www.bseindia.com/corporates/List_Scrips.aspx\""
   ]
  },
  {
   "cell_type": "code",
   "execution_count": null,
   "metadata": {},
   "outputs": [],
   "source": [
    "def download_equity():\n",
    "    \"\"\"\n",
    "    download the equity file.\n",
    "\n",
    "    if file already exists, returns None\n",
    "\n",
    "    security_url = \"https://www.bseindia.com/corporates/List_Scrips.aspx\"\n",
    "    \n",
    "    creates the driver.\n",
    "\n",
    "    opens the security_url.\n",
    "    \n",
    "    Sets Active and Equity fields.\n",
    "    \n",
    "    downloads the file.\n",
    "\n",
    "    \"\"\"\n",
    "    if os.path.exists(os.path.join(os.getcwd(),\"Data\\Equity.csv\")):\n",
    "        print(\"Equity.csv exists\")\n",
    "        return\n",
    "\n",
    "    path = os.path.join(os.getcwd(),\"Data\")\n",
    "    # print(path)\n",
    "\n",
    "    chromeOptions = webdriver.ChromeOptions()\n",
    "    chromeOptions.add_argument(\"--headless\")\n",
    "    chromeOptions.add_experimental_option(\"prefs\",{\"download.default_directory\":path})\n",
    "    driver = webdriver.Chrome(ChromeDriverManager().install(),options = chromeOptions)\n",
    "    driver.get(security_url)\n",
    "    \n",
    "    # to select Equity\n",
    "    equity = driver.find_element_by_xpath('//*[@id=\"ContentPlaceHolder1_ddSegment\"]')\n",
    "    equity = Select(equity)\n",
    "    equity.select_by_visible_text(\"Equity\")  \n",
    "\n",
    "    # to select Active\n",
    "    active = driver.find_element_by_xpath('//*[@id=\"ContentPlaceHolder1_ddlStatus\"]')\n",
    "    active = Select(active)\n",
    "    active.select_by_visible_text(\"Active\") \n",
    "    \n",
    "    # to click submit \n",
    "    submit = driver.find_element_by_xpath('//*[@id=\"ContentPlaceHolder1_btnSubmit\"]')\n",
    "    submit.send_keys(Keys.RETURN)\n",
    "\n",
    "    # to download csv file\n",
    "    driver.find_element_by_xpath(\"/html/body/div[1]/form/div[4]/div/div/div[2]/div/div/div[2]/a/i\").click()\n",
    "    time.sleep(3)\n",
    "    driver.quit()"
   ]
  },
  {
   "cell_type": "code",
   "execution_count": null,
   "metadata": {},
   "outputs": [],
   "source": [
    "# download_equity()"
   ]
  }
 ]
}